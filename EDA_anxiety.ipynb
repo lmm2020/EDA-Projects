{
 "cells": [
  {
   "cell_type": "code",
   "execution_count": 17,
   "metadata": {},
   "outputs": [],
   "source": [
    "#import libraries\n",
    "import pandas as pd"
   ]
  },
  {
   "cell_type": "code",
   "execution_count": 18,
   "metadata": {},
   "outputs": [],
   "source": [
    "#load dataset\n",
    "\n",
    "df = pd.read_csv('AnxietyData.csv', parse_dates=['Time Period Start Date', 'Time Period End Date'])"
   ]
  },
  {
   "cell_type": "code",
   "execution_count": 19,
   "metadata": {},
   "outputs": [
    {
     "data": {
      "text/html": [
       "<div>\n",
       "<style scoped>\n",
       "    .dataframe tbody tr th:only-of-type {\n",
       "        vertical-align: middle;\n",
       "    }\n",
       "\n",
       "    .dataframe tbody tr th {\n",
       "        vertical-align: top;\n",
       "    }\n",
       "\n",
       "    .dataframe thead th {\n",
       "        text-align: right;\n",
       "    }\n",
       "</style>\n",
       "<table border=\"1\" class=\"dataframe\">\n",
       "  <thead>\n",
       "    <tr style=\"text-align: right;\">\n",
       "      <th></th>\n",
       "      <th>Indicator</th>\n",
       "      <th>Group</th>\n",
       "      <th>State</th>\n",
       "      <th>Subgroup</th>\n",
       "      <th>Phase</th>\n",
       "      <th>Time Period</th>\n",
       "      <th>Time Period Label</th>\n",
       "      <th>Time Period Start Date</th>\n",
       "      <th>Time Period End Date</th>\n",
       "      <th>Value</th>\n",
       "      <th>Low CI</th>\n",
       "      <th>High CI</th>\n",
       "      <th>Confidence Interval</th>\n",
       "      <th>Quartile Range</th>\n",
       "    </tr>\n",
       "  </thead>\n",
       "  <tbody>\n",
       "    <tr>\n",
       "      <th>0</th>\n",
       "      <td>Symptoms of Depressive Disorder</td>\n",
       "      <td>National Estimate</td>\n",
       "      <td>United States</td>\n",
       "      <td>United States</td>\n",
       "      <td>1</td>\n",
       "      <td>1</td>\n",
       "      <td>Apr 23 - May 5, 2020</td>\n",
       "      <td>2020-04-23</td>\n",
       "      <td>2020-05-05</td>\n",
       "      <td>23.5</td>\n",
       "      <td>22.7</td>\n",
       "      <td>24.3</td>\n",
       "      <td>22.7 - 24.3</td>\n",
       "      <td>NaN</td>\n",
       "    </tr>\n",
       "    <tr>\n",
       "      <th>1</th>\n",
       "      <td>Symptoms of Depressive Disorder</td>\n",
       "      <td>By Age</td>\n",
       "      <td>United States</td>\n",
       "      <td>18 - 29 years</td>\n",
       "      <td>1</td>\n",
       "      <td>1</td>\n",
       "      <td>Apr 23 - May 5, 2020</td>\n",
       "      <td>2020-04-23</td>\n",
       "      <td>2020-05-05</td>\n",
       "      <td>32.7</td>\n",
       "      <td>30.2</td>\n",
       "      <td>35.2</td>\n",
       "      <td>30.2 - 35.2</td>\n",
       "      <td>NaN</td>\n",
       "    </tr>\n",
       "    <tr>\n",
       "      <th>2</th>\n",
       "      <td>Symptoms of Depressive Disorder</td>\n",
       "      <td>By Age</td>\n",
       "      <td>United States</td>\n",
       "      <td>30 - 39 years</td>\n",
       "      <td>1</td>\n",
       "      <td>1</td>\n",
       "      <td>Apr 23 - May 5, 2020</td>\n",
       "      <td>2020-04-23</td>\n",
       "      <td>2020-05-05</td>\n",
       "      <td>25.7</td>\n",
       "      <td>24.1</td>\n",
       "      <td>27.3</td>\n",
       "      <td>24.1 - 27.3</td>\n",
       "      <td>NaN</td>\n",
       "    </tr>\n",
       "    <tr>\n",
       "      <th>3</th>\n",
       "      <td>Symptoms of Depressive Disorder</td>\n",
       "      <td>By Age</td>\n",
       "      <td>United States</td>\n",
       "      <td>40 - 49 years</td>\n",
       "      <td>1</td>\n",
       "      <td>1</td>\n",
       "      <td>Apr 23 - May 5, 2020</td>\n",
       "      <td>2020-04-23</td>\n",
       "      <td>2020-05-05</td>\n",
       "      <td>24.8</td>\n",
       "      <td>23.3</td>\n",
       "      <td>26.2</td>\n",
       "      <td>23.3 - 26.2</td>\n",
       "      <td>NaN</td>\n",
       "    </tr>\n",
       "    <tr>\n",
       "      <th>4</th>\n",
       "      <td>Symptoms of Depressive Disorder</td>\n",
       "      <td>By Age</td>\n",
       "      <td>United States</td>\n",
       "      <td>50 - 59 years</td>\n",
       "      <td>1</td>\n",
       "      <td>1</td>\n",
       "      <td>Apr 23 - May 5, 2020</td>\n",
       "      <td>2020-04-23</td>\n",
       "      <td>2020-05-05</td>\n",
       "      <td>23.2</td>\n",
       "      <td>21.5</td>\n",
       "      <td>25.0</td>\n",
       "      <td>21.5 - 25.0</td>\n",
       "      <td>NaN</td>\n",
       "    </tr>\n",
       "  </tbody>\n",
       "</table>\n",
       "</div>"
      ],
      "text/plain": [
       "                         Indicator              Group          State  \\\n",
       "0  Symptoms of Depressive Disorder  National Estimate  United States   \n",
       "1  Symptoms of Depressive Disorder             By Age  United States   \n",
       "2  Symptoms of Depressive Disorder             By Age  United States   \n",
       "3  Symptoms of Depressive Disorder             By Age  United States   \n",
       "4  Symptoms of Depressive Disorder             By Age  United States   \n",
       "\n",
       "        Subgroup Phase  Time Period     Time Period Label  \\\n",
       "0  United States     1            1  Apr 23 - May 5, 2020   \n",
       "1  18 - 29 years     1            1  Apr 23 - May 5, 2020   \n",
       "2  30 - 39 years     1            1  Apr 23 - May 5, 2020   \n",
       "3  40 - 49 years     1            1  Apr 23 - May 5, 2020   \n",
       "4  50 - 59 years     1            1  Apr 23 - May 5, 2020   \n",
       "\n",
       "  Time Period Start Date Time Period End Date  Value  Low CI  High CI  \\\n",
       "0             2020-04-23           2020-05-05   23.5    22.7     24.3   \n",
       "1             2020-04-23           2020-05-05   32.7    30.2     35.2   \n",
       "2             2020-04-23           2020-05-05   25.7    24.1     27.3   \n",
       "3             2020-04-23           2020-05-05   24.8    23.3     26.2   \n",
       "4             2020-04-23           2020-05-05   23.2    21.5     25.0   \n",
       "\n",
       "  Confidence Interval Quartile Range  \n",
       "0         22.7 - 24.3            NaN  \n",
       "1         30.2 - 35.2            NaN  \n",
       "2         24.1 - 27.3            NaN  \n",
       "3         23.3 - 26.2            NaN  \n",
       "4         21.5 - 25.0            NaN  "
      ]
     },
     "execution_count": 19,
     "metadata": {},
     "output_type": "execute_result"
    }
   ],
   "source": [
    "df.head()"
   ]
  },
  {
   "cell_type": "code",
   "execution_count": 20,
   "metadata": {},
   "outputs": [
    {
     "data": {
      "text/plain": [
       "array(['National Estimate', 'By Age', 'By Sex',\n",
       "       'By Race/Hispanic ethnicity', 'By Education', 'By State',\n",
       "       'By Disability status', 'By Gender identity',\n",
       "       'By Sexual orientation'], dtype=object)"
      ]
     },
     "execution_count": 20,
     "metadata": {},
     "output_type": "execute_result"
    }
   ],
   "source": [
    "df['Group'].unique()\n",
    "\n",
    "#national estimate in Group column seems different than rest of values"
   ]
  },
  {
   "cell_type": "code",
   "execution_count": 21,
   "metadata": {},
   "outputs": [
    {
     "data": {
      "text/plain": [
       "array(['Symptoms of Depressive Disorder', 'Symptoms of Anxiety Disorder',\n",
       "       'Symptoms of Anxiety Disorder or Depressive Disorder'],\n",
       "      dtype=object)"
      ]
     },
     "execution_count": 21,
     "metadata": {},
     "output_type": "execute_result"
    }
   ],
   "source": [
    "df['Indicator'].unique()"
   ]
  },
  {
   "cell_type": "code",
   "execution_count": 22,
   "metadata": {},
   "outputs": [
    {
     "data": {
      "text/plain": [
       "Timestamp('2022-01-10 00:00:00')"
      ]
     },
     "execution_count": 22,
     "metadata": {},
     "output_type": "execute_result"
    }
   ],
   "source": [
    "df['Time Period End Date'].max()"
   ]
  },
  {
   "cell_type": "code",
   "execution_count": 16,
   "metadata": {},
   "outputs": [
    {
     "data": {
      "text/plain": [
       "Timestamp('2020-04-23 00:00:00')"
      ]
     },
     "execution_count": 16,
     "metadata": {},
     "output_type": "execute_result"
    }
   ],
   "source": [
    "df['Time Period Start Date'].min()"
   ]
  },
  {
   "cell_type": "code",
   "execution_count": 12,
   "metadata": {},
   "outputs": [
    {
     "data": {
      "text/plain": [
       "Indicator                  object\n",
       "Group                      object\n",
       "State                      object\n",
       "Subgroup                   object\n",
       "Phase                      object\n",
       "Time Period                 int64\n",
       "Time Period Label          object\n",
       "Time Period Start Date     object\n",
       "Time Period End Date       object\n",
       "Value                     float64\n",
       "Low CI                    float64\n",
       "High CI                   float64\n",
       "Confidence Interval        object\n",
       "Quartile Range             object\n",
       "dtype: object"
      ]
     },
     "execution_count": 12,
     "metadata": {},
     "output_type": "execute_result"
    }
   ],
   "source": [
    "df.dtypes"
   ]
  },
  {
   "cell_type": "code",
   "execution_count": null,
   "metadata": {},
   "outputs": [],
   "source": []
  }
 ],
 "metadata": {
  "interpreter": {
   "hash": "e8fc03f882824b1251e0f8a8f351b5a865b44cf5525c4efc35dc3fb7668c656c"
  },
  "kernelspec": {
   "display_name": "Python 3.8.12 ('datavenv')",
   "language": "python",
   "name": "python3"
  },
  "language_info": {
   "codemirror_mode": {
    "name": "ipython",
    "version": 3
   },
   "file_extension": ".py",
   "mimetype": "text/x-python",
   "name": "python",
   "nbconvert_exporter": "python",
   "pygments_lexer": "ipython3",
   "version": "3.8.12"
  },
  "orig_nbformat": 4
 },
 "nbformat": 4,
 "nbformat_minor": 2
}
