{
 "cells": [
  {
   "cell_type": "code",
   "execution_count": 53,
   "metadata": {},
   "outputs": [],
   "source": [
    "#import libraries\n",
    "\n",
    "import pandas as pd   \n",
    "import numpy as np\n",
    "import matplotlib.pyplot as plt\n",
    "import plotly.express as px\n"
   ]
  },
  {
   "cell_type": "markdown",
   "metadata": {},
   "source": [
    "# Indicators of Anxiety and Depression Based on Reported Frequency of Symptoms\n"
   ]
  },
  {
   "cell_type": "markdown",
   "metadata": {},
   "source": [
    "## Introduction\n",
    "On March 11, 2020 the World Health Organization declared COVID-19 a pandemic. In the weeks that followed many U.S cities limited gatherings and went into lockdown to prevent the spread of the virus. Many were isolated in their homes due to sickness or limited opportunity to work. \n",
    "\n",
    "## Context\n",
    "In April 2020, the Household Pulse Survey was created to collect data to measure household experiences during the coronavirus pandemic. The survey focuses on the mental health impact as well as socioeconomic factors. This is still an ongoing survey as of March 2022. (last gathered data on 01/10/22)\n",
    "\n",
    "<details>\n",
    "    <summary>Survey Details</summary>\n",
    "\n",
    "##### The National Center for Health Statistics conducted this survey in 3 phases as outlined below.\n",
    "\n",
    "        1. Phase 1 04/23/2020 - 07/21/2020\n",
    "        2. Phase 2 08/19/2020 - 10/28/2020\n",
    "        3. Phase 3 10/28/2020 - 12/21/2020 \n",
    "        4. Phase 3 01/06/2021 - 03/29/2021\n",
    "        5. Phase 3.1 04/14/2021 - 07/05/2021\n",
    "        6. Phase 3.2 07/21/2021 - 10/11/2021\n",
    "        7. Phase 3.3 12/01/2021 - 02/07/2022\n",
    "\n",
    "Note: At each phase, the survey asked about the \"last 7 days\". Beginning in Phase 3.2, the survey asked about the \"last two weeks\". It is unknown why Phase 3 has been split.  \n",
    "#### Survey Questions\n",
    "Adapted PHQ-2 questions:\n",
    "\n",
    "Over the last 7 days, how often have you been bothered by … having little interest or pleasure in doing things? Would you say not at all, several days, more than half the days, or nearly every day? Select only one answer.\n",
    "\n",
    "Over the last 7 days, how often have you been bothered by … feeling down, depressed, or hopeless? Would you say not at all, several days, more than half the days, or nearly every day? Select only one answer.\n",
    "\n",
    "Adapted GAD-2 questions:\n",
    "\n",
    "Over the last 7 days, how often have you been bothered by the following problems … Feeling nervous, anxious, or on edge? Would you say not at all, several days, more than half the days, or nearly every day? Select only one answer.\n",
    "\n",
    "Over the last 7 days, how often have you been bothered by the following problems … Not being able to stop or control worrying? Would you say not at all, several days, more than half the days, or nearly every day? Select only one answer\n",
    "\n",
    "#### Scoring\n",
    "For each scale, the answers are assigned a numerical value: not at all = 0, several days = 1, more than half the days = 2, and nearly every day = 3. The two responses for each scale are added together.\n",
    "\n",
    "A sum equal to three or greater on the PHQ-2 has been shown to be associated with diagnoses of major depressive disorder.\n",
    "\n",
    "A sum equal to three or greater on the GAD-2 has been shown to be associated with diagnoses of generalized anxiety disorder.\n",
    "</details>\n",
    "\n",
    "<details>\n",
    "    <summary>Source </summary>\n",
    "    \n",
    "    - Dataset: https://data.cdc.gov/NCHS/Indicators-of-Anxiety-or-Depression-Based-on-Repor/8pt5-q6wp\n",
    "    - How this data was used: https://www.cdc.gov/nchs/covid19/pulse/mental-health.htm\n",
    "</details>         "
   ]
  },
  {
   "cell_type": "markdown",
   "metadata": {},
   "source": [
    "# Objective\n",
    "\n",
    "1. Isolate and explore statistics in the state of Texas\n",
    "2. Find trends across different age groups.\n",
    "3. Find trends across different race groups.\n",
    "4. Look at changes in percentage of anxiety, depression, both across the different survey phases. "
   ]
  },
  {
   "cell_type": "markdown",
   "metadata": {},
   "source": [
    "## Load the dataset"
   ]
  },
  {
   "cell_type": "code",
   "execution_count": 2,
   "metadata": {},
   "outputs": [],
   "source": [
    "df = pd.read_csv('AnxietyData.csv', parse_dates=['Time Period Start Date', 'Time Period End Date'])"
   ]
  },
  {
   "cell_type": "code",
   "execution_count": 3,
   "metadata": {},
   "outputs": [
    {
     "data": {
      "text/html": [
       "<div>\n",
       "<style scoped>\n",
       "    .dataframe tbody tr th:only-of-type {\n",
       "        vertical-align: middle;\n",
       "    }\n",
       "\n",
       "    .dataframe tbody tr th {\n",
       "        vertical-align: top;\n",
       "    }\n",
       "\n",
       "    .dataframe thead th {\n",
       "        text-align: right;\n",
       "    }\n",
       "</style>\n",
       "<table border=\"1\" class=\"dataframe\">\n",
       "  <thead>\n",
       "    <tr style=\"text-align: right;\">\n",
       "      <th></th>\n",
       "      <th>Indicator</th>\n",
       "      <th>Group</th>\n",
       "      <th>State</th>\n",
       "      <th>Subgroup</th>\n",
       "      <th>Phase</th>\n",
       "      <th>Time Period</th>\n",
       "      <th>Time Period Label</th>\n",
       "      <th>Time Period Start Date</th>\n",
       "      <th>Time Period End Date</th>\n",
       "      <th>Value</th>\n",
       "      <th>Low CI</th>\n",
       "      <th>High CI</th>\n",
       "      <th>Confidence Interval</th>\n",
       "      <th>Quartile Range</th>\n",
       "    </tr>\n",
       "  </thead>\n",
       "  <tbody>\n",
       "    <tr>\n",
       "      <th>0</th>\n",
       "      <td>Symptoms of Depressive Disorder</td>\n",
       "      <td>National Estimate</td>\n",
       "      <td>United States</td>\n",
       "      <td>United States</td>\n",
       "      <td>1</td>\n",
       "      <td>1</td>\n",
       "      <td>Apr 23 - May 5, 2020</td>\n",
       "      <td>2020-04-23</td>\n",
       "      <td>2020-05-05</td>\n",
       "      <td>23.5</td>\n",
       "      <td>22.7</td>\n",
       "      <td>24.3</td>\n",
       "      <td>22.7 - 24.3</td>\n",
       "      <td>NaN</td>\n",
       "    </tr>\n",
       "    <tr>\n",
       "      <th>1</th>\n",
       "      <td>Symptoms of Depressive Disorder</td>\n",
       "      <td>By Age</td>\n",
       "      <td>United States</td>\n",
       "      <td>18 - 29 years</td>\n",
       "      <td>1</td>\n",
       "      <td>1</td>\n",
       "      <td>Apr 23 - May 5, 2020</td>\n",
       "      <td>2020-04-23</td>\n",
       "      <td>2020-05-05</td>\n",
       "      <td>32.7</td>\n",
       "      <td>30.2</td>\n",
       "      <td>35.2</td>\n",
       "      <td>30.2 - 35.2</td>\n",
       "      <td>NaN</td>\n",
       "    </tr>\n",
       "    <tr>\n",
       "      <th>2</th>\n",
       "      <td>Symptoms of Depressive Disorder</td>\n",
       "      <td>By Age</td>\n",
       "      <td>United States</td>\n",
       "      <td>30 - 39 years</td>\n",
       "      <td>1</td>\n",
       "      <td>1</td>\n",
       "      <td>Apr 23 - May 5, 2020</td>\n",
       "      <td>2020-04-23</td>\n",
       "      <td>2020-05-05</td>\n",
       "      <td>25.7</td>\n",
       "      <td>24.1</td>\n",
       "      <td>27.3</td>\n",
       "      <td>24.1 - 27.3</td>\n",
       "      <td>NaN</td>\n",
       "    </tr>\n",
       "    <tr>\n",
       "      <th>3</th>\n",
       "      <td>Symptoms of Depressive Disorder</td>\n",
       "      <td>By Age</td>\n",
       "      <td>United States</td>\n",
       "      <td>40 - 49 years</td>\n",
       "      <td>1</td>\n",
       "      <td>1</td>\n",
       "      <td>Apr 23 - May 5, 2020</td>\n",
       "      <td>2020-04-23</td>\n",
       "      <td>2020-05-05</td>\n",
       "      <td>24.8</td>\n",
       "      <td>23.3</td>\n",
       "      <td>26.2</td>\n",
       "      <td>23.3 - 26.2</td>\n",
       "      <td>NaN</td>\n",
       "    </tr>\n",
       "    <tr>\n",
       "      <th>4</th>\n",
       "      <td>Symptoms of Depressive Disorder</td>\n",
       "      <td>By Age</td>\n",
       "      <td>United States</td>\n",
       "      <td>50 - 59 years</td>\n",
       "      <td>1</td>\n",
       "      <td>1</td>\n",
       "      <td>Apr 23 - May 5, 2020</td>\n",
       "      <td>2020-04-23</td>\n",
       "      <td>2020-05-05</td>\n",
       "      <td>23.2</td>\n",
       "      <td>21.5</td>\n",
       "      <td>25.0</td>\n",
       "      <td>21.5 - 25.0</td>\n",
       "      <td>NaN</td>\n",
       "    </tr>\n",
       "  </tbody>\n",
       "</table>\n",
       "</div>"
      ],
      "text/plain": [
       "                         Indicator              Group          State  \\\n",
       "0  Symptoms of Depressive Disorder  National Estimate  United States   \n",
       "1  Symptoms of Depressive Disorder             By Age  United States   \n",
       "2  Symptoms of Depressive Disorder             By Age  United States   \n",
       "3  Symptoms of Depressive Disorder             By Age  United States   \n",
       "4  Symptoms of Depressive Disorder             By Age  United States   \n",
       "\n",
       "        Subgroup Phase  Time Period     Time Period Label  \\\n",
       "0  United States     1            1  Apr 23 - May 5, 2020   \n",
       "1  18 - 29 years     1            1  Apr 23 - May 5, 2020   \n",
       "2  30 - 39 years     1            1  Apr 23 - May 5, 2020   \n",
       "3  40 - 49 years     1            1  Apr 23 - May 5, 2020   \n",
       "4  50 - 59 years     1            1  Apr 23 - May 5, 2020   \n",
       "\n",
       "  Time Period Start Date Time Period End Date  Value  Low CI  High CI  \\\n",
       "0             2020-04-23           2020-05-05   23.5    22.7     24.3   \n",
       "1             2020-04-23           2020-05-05   32.7    30.2     35.2   \n",
       "2             2020-04-23           2020-05-05   25.7    24.1     27.3   \n",
       "3             2020-04-23           2020-05-05   24.8    23.3     26.2   \n",
       "4             2020-04-23           2020-05-05   23.2    21.5     25.0   \n",
       "\n",
       "  Confidence Interval Quartile Range  \n",
       "0         22.7 - 24.3            NaN  \n",
       "1         30.2 - 35.2            NaN  \n",
       "2         24.1 - 27.3            NaN  \n",
       "3         23.3 - 26.2            NaN  \n",
       "4         21.5 - 25.0            NaN  "
      ]
     },
     "execution_count": 3,
     "metadata": {},
     "output_type": "execute_result"
    }
   ],
   "source": [
    "df.head()\n"
   ]
  },
  {
   "cell_type": "markdown",
   "metadata": {},
   "source": [
    "## Column Overview"
   ]
  },
  {
   "cell_type": "code",
   "execution_count": 4,
   "metadata": {},
   "outputs": [
    {
     "data": {
      "text/plain": [
       "Index(['Indicator', 'Group', 'State', 'Subgroup', 'Phase', 'Time Period',\n",
       "       'Time Period Label', 'Time Period Start Date', 'Time Period End Date',\n",
       "       'Value', 'Low CI', 'High CI', 'Confidence Interval', 'Quartile Range'],\n",
       "      dtype='object')"
      ]
     },
     "execution_count": 4,
     "metadata": {},
     "output_type": "execute_result"
    }
   ],
   "source": [
    "df.columns"
   ]
  },
  {
   "cell_type": "markdown",
   "metadata": {},
   "source": [
    "### Imported columns:\n",
    "\n",
    "1. **Indicator**: The indicator that is associated to a symptom (anxiety, depression, or both)\n",
    "2. **Group** \n",
    "3. **State**\n",
    "4. **Subgroup**\n",
    "5. **Phase**\n",
    "6. **Time Period**\n",
    "7. **Time Period Label**\n",
    "8. **Time Period Start Date**\n",
    "9. **Time Period End Date**\n",
    "10. **Value**: Percentage of adults whose reported symptoms are associated with a diagnoses (anxiety, depression, or both)\n",
    "11. **Low CI**\n",
    "12. **High CI**\n",
    "13. **Confidence Interval**: This dataset has a confidence interval of 95%. \"Confidence intervals included .. only reflect the potential for sampling error.\" \n",
    "14. **Quartile Range**"
   ]
  },
  {
   "cell_type": "code",
   "execution_count": 5,
   "metadata": {},
   "outputs": [
    {
     "data": {
      "text/plain": [
       "array(['Symptoms of Depressive Disorder', 'Symptoms of Anxiety Disorder',\n",
       "       'Symptoms of Anxiety Disorder or Depressive Disorder'],\n",
       "      dtype=object)"
      ]
     },
     "execution_count": 5,
     "metadata": {},
     "output_type": "execute_result"
    }
   ],
   "source": [
    "df['Indicator'].unique()"
   ]
  },
  {
   "cell_type": "code",
   "execution_count": 6,
   "metadata": {},
   "outputs": [
    {
     "data": {
      "text/plain": [
       "array(['National Estimate', 'By Age', 'By Sex',\n",
       "       'By Race/Hispanic ethnicity', 'By Education', 'By State',\n",
       "       'By Disability status', 'By Gender identity',\n",
       "       'By Sexual orientation'], dtype=object)"
      ]
     },
     "execution_count": 6,
     "metadata": {},
     "output_type": "execute_result"
    }
   ],
   "source": [
    "df['Group'].unique()\n",
    "\n",
    "#national estimate in Group column seems different than rest of values"
   ]
  },
  {
   "cell_type": "code",
   "execution_count": 7,
   "metadata": {},
   "outputs": [
    {
     "data": {
      "text/plain": [
       "array(['United States', 'Alabama', 'Alaska', 'Arizona', 'Arkansas',\n",
       "       'California', 'Colorado', 'Connecticut', 'Delaware',\n",
       "       'District of Columbia', 'Florida', 'Georgia', 'Hawaii', 'Idaho',\n",
       "       'Illinois', 'Indiana', 'Iowa', 'Kansas', 'Kentucky', 'Louisiana',\n",
       "       'Maine', 'Maryland', 'Massachusetts', 'Michigan', 'Minnesota',\n",
       "       'Mississippi', 'Missouri', 'Montana', 'Nebraska', 'Nevada',\n",
       "       'New Hampshire', 'New Jersey', 'New Mexico', 'New York',\n",
       "       'North Carolina', 'North Dakota', 'Ohio', 'Oklahoma', 'Oregon',\n",
       "       'Pennsylvania', 'Rhode Island', 'South Carolina', 'South Dakota',\n",
       "       'Tennessee', 'Texas', 'Utah', 'Vermont', 'Virginia', 'Washington',\n",
       "       'West Virginia', 'Wisconsin', 'Wyoming'], dtype=object)"
      ]
     },
     "execution_count": 7,
     "metadata": {},
     "output_type": "execute_result"
    }
   ],
   "source": [
    "df['State'].unique()"
   ]
  },
  {
   "cell_type": "code",
   "execution_count": 8,
   "metadata": {},
   "outputs": [
    {
     "data": {
      "text/plain": [
       "array(['United States', '18 - 29 years', '30 - 39 years', '40 - 49 years',\n",
       "       '50 - 59 years', '60 - 69 years', '70 - 79 years',\n",
       "       '80 years and above', 'Male', 'Female', 'Hispanic or Latino',\n",
       "       'Non-Hispanic White, single race',\n",
       "       'Non-Hispanic Black, single race',\n",
       "       'Non-Hispanic Asian, single race',\n",
       "       'Non-Hispanic, other races and multiple races',\n",
       "       'Less than a high school diploma', 'High school diploma or GED',\n",
       "       \"Some college/Associate's degree\", \"Bachelor's degree or higher\",\n",
       "       'Alabama', 'Alaska', 'Arizona', 'Arkansas', 'California',\n",
       "       'Colorado', 'Connecticut', 'Delaware', 'District of Columbia',\n",
       "       'Florida', 'Georgia', 'Hawaii', 'Idaho', 'Illinois', 'Indiana',\n",
       "       'Iowa', 'Kansas', 'Kentucky', 'Louisiana', 'Maine', 'Maryland',\n",
       "       'Massachusetts', 'Michigan', 'Minnesota', 'Mississippi',\n",
       "       'Missouri', 'Montana', 'Nebraska', 'Nevada', 'New Hampshire',\n",
       "       'New Jersey', 'New Mexico', 'New York', 'North Carolina',\n",
       "       'North Dakota', 'Ohio', 'Oklahoma', 'Oregon', 'Pennsylvania',\n",
       "       'Rhode Island', 'South Carolina', 'South Dakota', 'Tennessee',\n",
       "       'Texas', 'Utah', 'Vermont', 'Virginia', 'Washington',\n",
       "       'West Virginia', 'Wisconsin', 'Wyoming', 'With disability',\n",
       "       'Without disability', 'Cis-gender male', 'Cis-gender female',\n",
       "       'Transgender', 'Gay or lesbian', 'Straight', 'Bisexual'],\n",
       "      dtype=object)"
      ]
     },
     "execution_count": 8,
     "metadata": {},
     "output_type": "execute_result"
    }
   ],
   "source": [
    "df['Subgroup'].unique()\n",
    "\n",
    "#The article in which this dataset was used, the subgroup categories were split into y axis categories \n",
    "#IDEA: create new columns out of each subgroup (age, state, race, orientation)"
   ]
  },
  {
   "cell_type": "code",
   "execution_count": 9,
   "metadata": {},
   "outputs": [
    {
     "data": {
      "text/plain": [
       "array(['1', '-1', '2', '3 (Oct 28 � Dec 21)', '3 (Jan 6 � Mar 29)', '3.1',\n",
       "       '3.2', '3.3'], dtype=object)"
      ]
     },
     "execution_count": 9,
     "metadata": {},
     "output_type": "execute_result"
    }
   ],
   "source": [
    "df['Phase'].unique()\n",
    "\n",
    "#considering replacing the values that are not 1,2,3 by using the date ranges"
   ]
  },
  {
   "cell_type": "code",
   "execution_count": 10,
   "metadata": {},
   "outputs": [
    {
     "data": {
      "text/plain": [
       "array(['Apr 23 - May 5, 2020', 'May 7 - May 12, 2020',\n",
       "       'May 14 - May 19, 2020', 'May 21 - May 26, 2020',\n",
       "       'May 28 - June 2, 2020', 'June 4 - June 9, 2020',\n",
       "       'June 11 - June 16, 2020', 'June 18 - June 23, 2020',\n",
       "       'June 25 - June 30, 2020', 'July 2 - July 7, 2020',\n",
       "       'July 9 - July 14, 2020', 'July 16 - July 21, 2020',\n",
       "       'July 22 - Aug 18, 2020', 'Aug 19 - Aug 31, 2020',\n",
       "       'Sep 2 - Sep 14, 2020', 'Sep 16 - Sep 28, 2020',\n",
       "       'Sep 30 - Oct 12, 2020', 'Oct 14 - Oct 26, 2020',\n",
       "       'Oct 28 - Nov 9, 2020', 'Nov 11 - Nov 23, 2020',\n",
       "       'Nov 25 - Dec 7, 2020', 'Dec 9 - Dec 21, 2020',\n",
       "       'Dec 22, 2020 - Jan 5, 2021', 'Jan 6 - Jan 18, 2021',\n",
       "       'Jan 20 - Feb 1, 2021', 'Feb 3 - Feb 15, 2021',\n",
       "       'Feb 17 - Mar 1, 2021', 'Mar 3 - Mar 15, 2021',\n",
       "       'Mar 17 - Mar 29, 2021', 'Mar 30 - Apr 13, 2021',\n",
       "       'Apr 14 - Apr 26, 2021', 'Apr 28 - May 10, 2021',\n",
       "       'May 12 - May 24, 2021', 'May 26 - Jun 7, 2021',\n",
       "       'Jun 9 - Jun 21, 2021', 'Jun 23 - Jul 5, 2021',\n",
       "       'Jul 6 - Jul 20, 2021', 'Jul 21 - Aug 2, 2021',\n",
       "       'Aug 4 - Aug 16, 2021', 'Aug 18 - Aug 30, 2021',\n",
       "       'Sep 1 - Sep 13, 2021', 'Sep 15 - Sep 27, 2021',\n",
       "       'Sep 29 - Oct 11, 2021', 'Oct 12 - Nov 30, 2021',\n",
       "       'Dec 1 - Dec 13, 2021', 'Dec 29, 2021 - Jan 10, 2022'],\n",
       "      dtype=object)"
      ]
     },
     "execution_count": 10,
     "metadata": {},
     "output_type": "execute_result"
    }
   ],
   "source": [
    "df['Time Period Label'].unique()"
   ]
  },
  {
   "cell_type": "code",
   "execution_count": 11,
   "metadata": {},
   "outputs": [
    {
     "data": {
      "text/plain": [
       "Timestamp('2020-04-23 00:00:00')"
      ]
     },
     "execution_count": 11,
     "metadata": {},
     "output_type": "execute_result"
    }
   ],
   "source": [
    "#Data collection starts 04/23/2020\n",
    "df['Time Period Start Date'].min()"
   ]
  },
  {
   "cell_type": "code",
   "execution_count": 12,
   "metadata": {},
   "outputs": [
    {
     "data": {
      "text/plain": [
       "Timestamp('2022-01-10 00:00:00')"
      ]
     },
     "execution_count": 12,
     "metadata": {},
     "output_type": "execute_result"
    }
   ],
   "source": [
    "#Data collection ends 01/10/2022\n",
    "df['Time Period End Date'].max()"
   ]
  },
  {
   "cell_type": "markdown",
   "metadata": {},
   "source": [
    "## Data Formatting & Cleaning"
   ]
  },
  {
   "cell_type": "markdown",
   "metadata": {},
   "source": [
    "### Check for missing values"
   ]
  },
  {
   "cell_type": "code",
   "execution_count": 13,
   "metadata": {},
   "outputs": [
    {
     "data": {
      "text/plain": [
       "Indicator                    0\n",
       "Group                        0\n",
       "State                        0\n",
       "Subgroup                     0\n",
       "Phase                        0\n",
       "Time Period                  0\n",
       "Time Period Label            0\n",
       "Time Period Start Date       0\n",
       "Time Period End Date         0\n",
       "Value                      297\n",
       "Low CI                     297\n",
       "High CI                    297\n",
       "Confidence Interval        297\n",
       "Quartile Range            2862\n",
       "dtype: int64"
      ]
     },
     "execution_count": 13,
     "metadata": {},
     "output_type": "execute_result"
    }
   ],
   "source": [
    "df.isnull().sum()"
   ]
  },
  {
   "cell_type": "code",
   "execution_count": 14,
   "metadata": {},
   "outputs": [],
   "source": [
    "#check NA's in the Value column\n",
    "filtered_df = df[df['Value'].isna()]"
   ]
  },
  {
   "cell_type": "code",
   "execution_count": 15,
   "metadata": {},
   "outputs": [
    {
     "data": {
      "text/html": [
       "<div>\n",
       "<style scoped>\n",
       "    .dataframe tbody tr th:only-of-type {\n",
       "        vertical-align: middle;\n",
       "    }\n",
       "\n",
       "    .dataframe tbody tr th {\n",
       "        vertical-align: top;\n",
       "    }\n",
       "\n",
       "    .dataframe thead th {\n",
       "        text-align: right;\n",
       "    }\n",
       "</style>\n",
       "<table border=\"1\" class=\"dataframe\">\n",
       "  <thead>\n",
       "    <tr style=\"text-align: right;\">\n",
       "      <th></th>\n",
       "      <th>Indicator</th>\n",
       "      <th>Group</th>\n",
       "      <th>State</th>\n",
       "      <th>Subgroup</th>\n",
       "      <th>Phase</th>\n",
       "      <th>Time Period</th>\n",
       "      <th>Time Period Label</th>\n",
       "      <th>Time Period Start Date</th>\n",
       "      <th>Time Period End Date</th>\n",
       "      <th>Value</th>\n",
       "      <th>Low CI</th>\n",
       "      <th>High CI</th>\n",
       "      <th>Confidence Interval</th>\n",
       "      <th>Quartile Range</th>\n",
       "    </tr>\n",
       "  </thead>\n",
       "  <tbody>\n",
       "    <tr>\n",
       "      <th>2520</th>\n",
       "      <td>Symptoms of Depressive Disorder</td>\n",
       "      <td>National Estimate</td>\n",
       "      <td>United States</td>\n",
       "      <td>United States</td>\n",
       "      <td>-1</td>\n",
       "      <td>1</td>\n",
       "      <td>July 22 - Aug 18, 2020</td>\n",
       "      <td>2020-07-22</td>\n",
       "      <td>2020-08-18</td>\n",
       "      <td>NaN</td>\n",
       "      <td>NaN</td>\n",
       "      <td>NaN</td>\n",
       "      <td>NaN</td>\n",
       "      <td>NaN</td>\n",
       "    </tr>\n",
       "    <tr>\n",
       "      <th>2521</th>\n",
       "      <td>Symptoms of Depressive Disorder</td>\n",
       "      <td>By Age</td>\n",
       "      <td>United States</td>\n",
       "      <td>18 - 29 years</td>\n",
       "      <td>-1</td>\n",
       "      <td>1</td>\n",
       "      <td>July 22 - Aug 18, 2020</td>\n",
       "      <td>2020-07-22</td>\n",
       "      <td>2020-08-18</td>\n",
       "      <td>NaN</td>\n",
       "      <td>NaN</td>\n",
       "      <td>NaN</td>\n",
       "      <td>NaN</td>\n",
       "      <td>NaN</td>\n",
       "    </tr>\n",
       "    <tr>\n",
       "      <th>2522</th>\n",
       "      <td>Symptoms of Depressive Disorder</td>\n",
       "      <td>By Age</td>\n",
       "      <td>United States</td>\n",
       "      <td>30 - 39 years</td>\n",
       "      <td>-1</td>\n",
       "      <td>1</td>\n",
       "      <td>July 22 - Aug 18, 2020</td>\n",
       "      <td>2020-07-22</td>\n",
       "      <td>2020-08-18</td>\n",
       "      <td>NaN</td>\n",
       "      <td>NaN</td>\n",
       "      <td>NaN</td>\n",
       "      <td>NaN</td>\n",
       "      <td>NaN</td>\n",
       "    </tr>\n",
       "    <tr>\n",
       "      <th>2523</th>\n",
       "      <td>Symptoms of Depressive Disorder</td>\n",
       "      <td>By Age</td>\n",
       "      <td>United States</td>\n",
       "      <td>40 - 49 years</td>\n",
       "      <td>-1</td>\n",
       "      <td>1</td>\n",
       "      <td>July 22 - Aug 18, 2020</td>\n",
       "      <td>2020-07-22</td>\n",
       "      <td>2020-08-18</td>\n",
       "      <td>NaN</td>\n",
       "      <td>NaN</td>\n",
       "      <td>NaN</td>\n",
       "      <td>NaN</td>\n",
       "      <td>NaN</td>\n",
       "    </tr>\n",
       "    <tr>\n",
       "      <th>2524</th>\n",
       "      <td>Symptoms of Depressive Disorder</td>\n",
       "      <td>By Age</td>\n",
       "      <td>United States</td>\n",
       "      <td>50 - 59 years</td>\n",
       "      <td>-1</td>\n",
       "      <td>1</td>\n",
       "      <td>July 22 - Aug 18, 2020</td>\n",
       "      <td>2020-07-22</td>\n",
       "      <td>2020-08-18</td>\n",
       "      <td>NaN</td>\n",
       "      <td>NaN</td>\n",
       "      <td>NaN</td>\n",
       "      <td>NaN</td>\n",
       "      <td>NaN</td>\n",
       "    </tr>\n",
       "  </tbody>\n",
       "</table>\n",
       "</div>"
      ],
      "text/plain": [
       "                            Indicator              Group          State  \\\n",
       "2520  Symptoms of Depressive Disorder  National Estimate  United States   \n",
       "2521  Symptoms of Depressive Disorder             By Age  United States   \n",
       "2522  Symptoms of Depressive Disorder             By Age  United States   \n",
       "2523  Symptoms of Depressive Disorder             By Age  United States   \n",
       "2524  Symptoms of Depressive Disorder             By Age  United States   \n",
       "\n",
       "           Subgroup Phase  Time Period       Time Period Label  \\\n",
       "2520  United States    -1            1  July 22 - Aug 18, 2020   \n",
       "2521  18 - 29 years    -1            1  July 22 - Aug 18, 2020   \n",
       "2522  30 - 39 years    -1            1  July 22 - Aug 18, 2020   \n",
       "2523  40 - 49 years    -1            1  July 22 - Aug 18, 2020   \n",
       "2524  50 - 59 years    -1            1  July 22 - Aug 18, 2020   \n",
       "\n",
       "     Time Period Start Date Time Period End Date  Value  Low CI  High CI  \\\n",
       "2520             2020-07-22           2020-08-18    NaN     NaN      NaN   \n",
       "2521             2020-07-22           2020-08-18    NaN     NaN      NaN   \n",
       "2522             2020-07-22           2020-08-18    NaN     NaN      NaN   \n",
       "2523             2020-07-22           2020-08-18    NaN     NaN      NaN   \n",
       "2524             2020-07-22           2020-08-18    NaN     NaN      NaN   \n",
       "\n",
       "     Confidence Interval Quartile Range  \n",
       "2520                 NaN            NaN  \n",
       "2521                 NaN            NaN  \n",
       "2522                 NaN            NaN  \n",
       "2523                 NaN            NaN  \n",
       "2524                 NaN            NaN  "
      ]
     },
     "execution_count": 15,
     "metadata": {},
     "output_type": "execute_result"
    }
   ],
   "source": [
    "filtered_df.head()"
   ]
  },
  {
   "cell_type": "code",
   "execution_count": 16,
   "metadata": {},
   "outputs": [
    {
     "data": {
      "text/plain": [
       "array(['National Estimate', 'By Age', 'By Sex',\n",
       "       'By Race/Hispanic ethnicity', 'By Education',\n",
       "       'By Disability status'], dtype=object)"
      ]
     },
     "execution_count": 16,
     "metadata": {},
     "output_type": "execute_result"
    }
   ],
   "source": [
    "#Groups that have NA's in Value column\n",
    "filtered_df['Group'].unique()"
   ]
  },
  {
   "cell_type": "code",
   "execution_count": 17,
   "metadata": {},
   "outputs": [],
   "source": [
    "#function takes a value from the Group column as the parameter and returns the count of NA\n",
    "\n",
    "def check_na_count(group):\n",
    "    groupdf = df[df['Group'] == group]\n",
    "    length_of_na = len(groupdf[groupdf['Value'].isna()])\n",
    "\n",
    "    length_of_df = len(groupdf)\n",
    "\n",
    "    na_as_percentage = round((length_of_na/length_of_df),2)\n",
    "\n",
    "    outputstring = f\"Out of {length_of_df}, there are {length_of_na} missing values. {na_as_percentage}% missing\" \n",
    "\n",
    "    return outputstring"
   ]
  },
  {
   "cell_type": "code",
   "execution_count": 18,
   "metadata": {},
   "outputs": [
    {
     "data": {
      "text/plain": [
       "'Out of 138, there are 15 missing values. 0.11% missing'"
      ]
     },
     "execution_count": 18,
     "metadata": {},
     "output_type": "execute_result"
    }
   ],
   "source": [
    "check_na_count('National Estimate')"
   ]
  },
  {
   "cell_type": "code",
   "execution_count": 19,
   "metadata": {},
   "outputs": [
    {
     "data": {
      "text/plain": [
       "'Out of 966, there are 105 missing values. 0.11% missing'"
      ]
     },
     "execution_count": 19,
     "metadata": {},
     "output_type": "execute_result"
    }
   ],
   "source": [
    "check_na_count('By Age')"
   ]
  },
  {
   "cell_type": "code",
   "execution_count": 20,
   "metadata": {},
   "outputs": [
    {
     "data": {
      "text/plain": [
       "'Out of 276, there are 30 missing values. 0.11% missing'"
      ]
     },
     "execution_count": 20,
     "metadata": {},
     "output_type": "execute_result"
    }
   ],
   "source": [
    "check_na_count('By Sex')"
   ]
  },
  {
   "cell_type": "code",
   "execution_count": 21,
   "metadata": {},
   "outputs": [
    {
     "data": {
      "text/plain": [
       "'Out of 690, there are 75 missing values. 0.11% missing'"
      ]
     },
     "execution_count": 21,
     "metadata": {},
     "output_type": "execute_result"
    }
   ],
   "source": [
    "check_na_count('By Race/Hispanic ethnicity')"
   ]
  },
  {
   "cell_type": "code",
   "execution_count": 22,
   "metadata": {},
   "outputs": [
    {
     "data": {
      "text/plain": [
       "'Out of 552, there are 60 missing values. 0.11% missing'"
      ]
     },
     "execution_count": 22,
     "metadata": {},
     "output_type": "execute_result"
    }
   ],
   "source": [
    "check_na_count('By Education')"
   ]
  },
  {
   "cell_type": "code",
   "execution_count": 23,
   "metadata": {},
   "outputs": [
    {
     "data": {
      "text/plain": [
       "'Out of 96, there are 12 missing values. 0.12% missing'"
      ]
     },
     "execution_count": 23,
     "metadata": {},
     "output_type": "execute_result"
    }
   ],
   "source": [
    "check_na_count('By Disability status')"
   ]
  },
  {
   "cell_type": "markdown",
   "metadata": {},
   "source": [
    "##### The missing percentages are not significant enough to clean up these columns. Proceeding with data frame as it is."
   ]
  },
  {
   "cell_type": "markdown",
   "metadata": {},
   "source": [
    "### Column Addition: Phases"
   ]
  },
  {
   "cell_type": "code",
   "execution_count": 24,
   "metadata": {},
   "outputs": [
    {
     "data": {
      "text/html": [
       "<div>\n",
       "<style scoped>\n",
       "    .dataframe tbody tr th:only-of-type {\n",
       "        vertical-align: middle;\n",
       "    }\n",
       "\n",
       "    .dataframe tbody tr th {\n",
       "        vertical-align: top;\n",
       "    }\n",
       "\n",
       "    .dataframe thead th {\n",
       "        text-align: right;\n",
       "    }\n",
       "</style>\n",
       "<table border=\"1\" class=\"dataframe\">\n",
       "  <thead>\n",
       "    <tr style=\"text-align: right;\">\n",
       "      <th></th>\n",
       "      <th>Indicator</th>\n",
       "      <th>Group</th>\n",
       "      <th>State</th>\n",
       "      <th>Subgroup</th>\n",
       "      <th>Phase</th>\n",
       "      <th>Time Period</th>\n",
       "      <th>Time Period Label</th>\n",
       "      <th>Time Period Start Date</th>\n",
       "      <th>Time Period End Date</th>\n",
       "      <th>Value</th>\n",
       "      <th>Low CI</th>\n",
       "      <th>High CI</th>\n",
       "      <th>Confidence Interval</th>\n",
       "      <th>Quartile Range</th>\n",
       "      <th>Phases</th>\n",
       "    </tr>\n",
       "  </thead>\n",
       "  <tbody>\n",
       "    <tr>\n",
       "      <th>0</th>\n",
       "      <td>Symptoms of Depressive Disorder</td>\n",
       "      <td>National Estimate</td>\n",
       "      <td>United States</td>\n",
       "      <td>United States</td>\n",
       "      <td>1</td>\n",
       "      <td>1</td>\n",
       "      <td>Apr 23 - May 5, 2020</td>\n",
       "      <td>2020-04-23</td>\n",
       "      <td>2020-05-05</td>\n",
       "      <td>23.5</td>\n",
       "      <td>22.7</td>\n",
       "      <td>24.3</td>\n",
       "      <td>22.7 - 24.3</td>\n",
       "      <td>NaN</td>\n",
       "      <td>Phase 1</td>\n",
       "    </tr>\n",
       "    <tr>\n",
       "      <th>1</th>\n",
       "      <td>Symptoms of Depressive Disorder</td>\n",
       "      <td>By Age</td>\n",
       "      <td>United States</td>\n",
       "      <td>18 - 29 years</td>\n",
       "      <td>1</td>\n",
       "      <td>1</td>\n",
       "      <td>Apr 23 - May 5, 2020</td>\n",
       "      <td>2020-04-23</td>\n",
       "      <td>2020-05-05</td>\n",
       "      <td>32.7</td>\n",
       "      <td>30.2</td>\n",
       "      <td>35.2</td>\n",
       "      <td>30.2 - 35.2</td>\n",
       "      <td>NaN</td>\n",
       "      <td>Phase 1</td>\n",
       "    </tr>\n",
       "    <tr>\n",
       "      <th>2</th>\n",
       "      <td>Symptoms of Depressive Disorder</td>\n",
       "      <td>By Age</td>\n",
       "      <td>United States</td>\n",
       "      <td>30 - 39 years</td>\n",
       "      <td>1</td>\n",
       "      <td>1</td>\n",
       "      <td>Apr 23 - May 5, 2020</td>\n",
       "      <td>2020-04-23</td>\n",
       "      <td>2020-05-05</td>\n",
       "      <td>25.7</td>\n",
       "      <td>24.1</td>\n",
       "      <td>27.3</td>\n",
       "      <td>24.1 - 27.3</td>\n",
       "      <td>NaN</td>\n",
       "      <td>Phase 1</td>\n",
       "    </tr>\n",
       "    <tr>\n",
       "      <th>3</th>\n",
       "      <td>Symptoms of Depressive Disorder</td>\n",
       "      <td>By Age</td>\n",
       "      <td>United States</td>\n",
       "      <td>40 - 49 years</td>\n",
       "      <td>1</td>\n",
       "      <td>1</td>\n",
       "      <td>Apr 23 - May 5, 2020</td>\n",
       "      <td>2020-04-23</td>\n",
       "      <td>2020-05-05</td>\n",
       "      <td>24.8</td>\n",
       "      <td>23.3</td>\n",
       "      <td>26.2</td>\n",
       "      <td>23.3 - 26.2</td>\n",
       "      <td>NaN</td>\n",
       "      <td>Phase 1</td>\n",
       "    </tr>\n",
       "    <tr>\n",
       "      <th>4</th>\n",
       "      <td>Symptoms of Depressive Disorder</td>\n",
       "      <td>By Age</td>\n",
       "      <td>United States</td>\n",
       "      <td>50 - 59 years</td>\n",
       "      <td>1</td>\n",
       "      <td>1</td>\n",
       "      <td>Apr 23 - May 5, 2020</td>\n",
       "      <td>2020-04-23</td>\n",
       "      <td>2020-05-05</td>\n",
       "      <td>23.2</td>\n",
       "      <td>21.5</td>\n",
       "      <td>25.0</td>\n",
       "      <td>21.5 - 25.0</td>\n",
       "      <td>NaN</td>\n",
       "      <td>Phase 1</td>\n",
       "    </tr>\n",
       "  </tbody>\n",
       "</table>\n",
       "</div>"
      ],
      "text/plain": [
       "                         Indicator              Group          State  \\\n",
       "0  Symptoms of Depressive Disorder  National Estimate  United States   \n",
       "1  Symptoms of Depressive Disorder             By Age  United States   \n",
       "2  Symptoms of Depressive Disorder             By Age  United States   \n",
       "3  Symptoms of Depressive Disorder             By Age  United States   \n",
       "4  Symptoms of Depressive Disorder             By Age  United States   \n",
       "\n",
       "        Subgroup Phase  Time Period     Time Period Label  \\\n",
       "0  United States     1            1  Apr 23 - May 5, 2020   \n",
       "1  18 - 29 years     1            1  Apr 23 - May 5, 2020   \n",
       "2  30 - 39 years     1            1  Apr 23 - May 5, 2020   \n",
       "3  40 - 49 years     1            1  Apr 23 - May 5, 2020   \n",
       "4  50 - 59 years     1            1  Apr 23 - May 5, 2020   \n",
       "\n",
       "  Time Period Start Date Time Period End Date  Value  Low CI  High CI  \\\n",
       "0             2020-04-23           2020-05-05   23.5    22.7     24.3   \n",
       "1             2020-04-23           2020-05-05   32.7    30.2     35.2   \n",
       "2             2020-04-23           2020-05-05   25.7    24.1     27.3   \n",
       "3             2020-04-23           2020-05-05   24.8    23.3     26.2   \n",
       "4             2020-04-23           2020-05-05   23.2    21.5     25.0   \n",
       "\n",
       "  Confidence Interval Quartile Range   Phases  \n",
       "0         22.7 - 24.3            NaN  Phase 1  \n",
       "1         30.2 - 35.2            NaN  Phase 1  \n",
       "2         24.1 - 27.3            NaN  Phase 1  \n",
       "3         23.3 - 26.2            NaN  Phase 1  \n",
       "4         21.5 - 25.0            NaN  Phase 1  "
      ]
     },
     "execution_count": 24,
     "metadata": {},
     "output_type": "execute_result"
    }
   ],
   "source": [
    "#Create a new column with newly assigned Phase values (call it NewPhase)\n",
    "\n",
    "#create a list of conditions\n",
    "conditions = [ \n",
    "    (df['Time Period Start Date'] >= '2020-04-23') & (df['Time Period End Date'] <='2020-07-21'), #1. Phase 1   04/23/2020 - 07/21/2020\n",
    "    ((df['Time Period Start Date'] >= '2020-08-19') & (df['Time Period End Date'] <='2020-10-26')), #2. Phase 2   08/19/2020 - 10/26/2020\n",
    "    ((df['Time Period Start Date'] >= '2020-10-28') & (df['Time Period End Date'] <='2020-12-21')), #3. Phase 3   10/28/2020 - 12/21/2020\n",
    "    ((df['Time Period Start Date'] >= '2021-01-06') & (df['Time Period End Date'] <= '2021-03-29')), #4. Phase 3 (con't) 01/06/2021 - 03/29/2021   \n",
    "    ((df['Time Period Start Date'] >= '2021-04-14') & (df['Time Period End Date'] <='2021-07-05')), #5. Phase 3.1 04/14/2021 - 07/05/2021\n",
    "    ((df['Time Period Start Date'] >= '2021-07-21') & (df['Time Period End Date'] <='2021-10-11')), #6. Phase 3.2 07/21/2021 - 10/11/2021\n",
    "    ((df['Time Period Start Date'] >= '2021-12-01') & (df['Time Period End Date'] <='2022-02-07'))  #7 Phase 3.3 Phase 3.3 12/01/2021 - 02/07/2022\n",
    "    \n",
    "    ]\n",
    "#create a list of the values we want to assign for each condition\n",
    "values = ['Phase 1','Phase 2','Phase 3','Phase 4', 'Phase 5','Phase 6', 'Phase 7']\n",
    "\n",
    "#create a new column and use np.select to assign values to it using our lists as arguments\n",
    "df['Phases'] = np.select(conditions, values)\n",
    "\n",
    "#display updated dataframe\n",
    "df.head()"
   ]
  },
  {
   "cell_type": "markdown",
   "metadata": {},
   "source": [
    "#### Evaluating missing values in Phases "
   ]
  },
  {
   "cell_type": "code",
   "execution_count": 25,
   "metadata": {},
   "outputs": [
    {
     "data": {
      "text/plain": [
       "array(['Phase 1', '0', 'Phase 2', 'Phase 3', 'Phase 4', 'Phase 5',\n",
       "       'Phase 6', 'Phase 7'], dtype=object)"
      ]
     },
     "execution_count": 25,
     "metadata": {},
     "output_type": "execute_result"
    }
   ],
   "source": [
    "df['Phases'].unique()"
   ]
  },
  {
   "cell_type": "code",
   "execution_count": 26,
   "metadata": {},
   "outputs": [],
   "source": [
    "#exploring what element '0' means in Phases column\n",
    "\n",
    "zero_phase_value = df[df['Phases'] == '0']"
   ]
  },
  {
   "cell_type": "code",
   "execution_count": 27,
   "metadata": {},
   "outputs": [
    {
     "data": {
      "text/plain": [
       "array(['2020-07-22T00:00:00.000000000', '2020-12-22T00:00:00.000000000',\n",
       "       '2021-03-30T00:00:00.000000000', '2021-07-06T00:00:00.000000000',\n",
       "       '2021-10-12T00:00:00.000000000'], dtype='datetime64[ns]')"
      ]
     },
     "execution_count": 27,
     "metadata": {},
     "output_type": "execute_result"
    }
   ],
   "source": [
    "zero_phase_value['Time Period Start Date'].unique()\n",
    "\n",
    "#these dates correspond to Break periods"
   ]
  },
  {
   "cell_type": "code",
   "execution_count": 28,
   "metadata": {},
   "outputs": [
    {
     "data": {
      "text/plain": [
       "array(['2020-08-18T00:00:00.000000000', '2021-01-05T00:00:00.000000000',\n",
       "       '2021-04-13T00:00:00.000000000', '2021-07-20T00:00:00.000000000',\n",
       "       '2021-11-30T00:00:00.000000000'], dtype='datetime64[ns]')"
      ]
     },
     "execution_count": 28,
     "metadata": {},
     "output_type": "execute_result"
    }
   ],
   "source": [
    "zero_phase_value['Time Period End Date'].unique()\n",
    "\n",
    "#these dates correspond to Break periods"
   ]
  },
  {
   "cell_type": "code",
   "execution_count": 51,
   "metadata": {},
   "outputs": [
    {
     "data": {
      "text/plain": [
       "2520   NaN\n",
       "2521   NaN\n",
       "2522   NaN\n",
       "2523   NaN\n",
       "2524   NaN\n",
       "        ..\n",
       "8818   NaN\n",
       "8819   NaN\n",
       "8820   NaN\n",
       "8821   NaN\n",
       "8822   NaN\n",
       "Name: Value, Length: 297, dtype: float64"
      ]
     },
     "execution_count": 51,
     "metadata": {},
     "output_type": "execute_result"
    }
   ],
   "source": [
    "zero_phase_value['Value']\n",
    "\n",
    "#These break periods have no data reported since no surveys were taken during these times"
   ]
  },
  {
   "cell_type": "code",
   "execution_count": 30,
   "metadata": {},
   "outputs": [
    {
     "data": {
      "text/html": [
       "<div>\n",
       "<style scoped>\n",
       "    .dataframe tbody tr th:only-of-type {\n",
       "        vertical-align: middle;\n",
       "    }\n",
       "\n",
       "    .dataframe tbody tr th {\n",
       "        vertical-align: top;\n",
       "    }\n",
       "\n",
       "    .dataframe thead th {\n",
       "        text-align: right;\n",
       "    }\n",
       "</style>\n",
       "<table border=\"1\" class=\"dataframe\">\n",
       "  <thead>\n",
       "    <tr style=\"text-align: right;\">\n",
       "      <th></th>\n",
       "      <th>Indicator</th>\n",
       "      <th>Group</th>\n",
       "      <th>State</th>\n",
       "      <th>Subgroup</th>\n",
       "      <th>Phase</th>\n",
       "      <th>Time Period</th>\n",
       "      <th>Time Period Label</th>\n",
       "      <th>Time Period Start Date</th>\n",
       "      <th>Time Period End Date</th>\n",
       "      <th>Value</th>\n",
       "      <th>Low CI</th>\n",
       "      <th>High CI</th>\n",
       "      <th>Confidence Interval</th>\n",
       "      <th>Quartile Range</th>\n",
       "      <th>Phases</th>\n",
       "    </tr>\n",
       "  </thead>\n",
       "  <tbody>\n",
       "    <tr>\n",
       "      <th>0</th>\n",
       "      <td>Symptoms of Depressive Disorder</td>\n",
       "      <td>National Estimate</td>\n",
       "      <td>United States</td>\n",
       "      <td>United States</td>\n",
       "      <td>1</td>\n",
       "      <td>1</td>\n",
       "      <td>Apr 23 - May 5, 2020</td>\n",
       "      <td>2020-04-23</td>\n",
       "      <td>2020-05-05</td>\n",
       "      <td>23.5</td>\n",
       "      <td>22.7</td>\n",
       "      <td>24.3</td>\n",
       "      <td>22.7 - 24.3</td>\n",
       "      <td>NaN</td>\n",
       "      <td>Phase 1</td>\n",
       "    </tr>\n",
       "    <tr>\n",
       "      <th>1</th>\n",
       "      <td>Symptoms of Depressive Disorder</td>\n",
       "      <td>By Age</td>\n",
       "      <td>United States</td>\n",
       "      <td>18 - 29 years</td>\n",
       "      <td>1</td>\n",
       "      <td>1</td>\n",
       "      <td>Apr 23 - May 5, 2020</td>\n",
       "      <td>2020-04-23</td>\n",
       "      <td>2020-05-05</td>\n",
       "      <td>32.7</td>\n",
       "      <td>30.2</td>\n",
       "      <td>35.2</td>\n",
       "      <td>30.2 - 35.2</td>\n",
       "      <td>NaN</td>\n",
       "      <td>Phase 1</td>\n",
       "    </tr>\n",
       "    <tr>\n",
       "      <th>2</th>\n",
       "      <td>Symptoms of Depressive Disorder</td>\n",
       "      <td>By Age</td>\n",
       "      <td>United States</td>\n",
       "      <td>30 - 39 years</td>\n",
       "      <td>1</td>\n",
       "      <td>1</td>\n",
       "      <td>Apr 23 - May 5, 2020</td>\n",
       "      <td>2020-04-23</td>\n",
       "      <td>2020-05-05</td>\n",
       "      <td>25.7</td>\n",
       "      <td>24.1</td>\n",
       "      <td>27.3</td>\n",
       "      <td>24.1 - 27.3</td>\n",
       "      <td>NaN</td>\n",
       "      <td>Phase 1</td>\n",
       "    </tr>\n",
       "    <tr>\n",
       "      <th>3</th>\n",
       "      <td>Symptoms of Depressive Disorder</td>\n",
       "      <td>By Age</td>\n",
       "      <td>United States</td>\n",
       "      <td>40 - 49 years</td>\n",
       "      <td>1</td>\n",
       "      <td>1</td>\n",
       "      <td>Apr 23 - May 5, 2020</td>\n",
       "      <td>2020-04-23</td>\n",
       "      <td>2020-05-05</td>\n",
       "      <td>24.8</td>\n",
       "      <td>23.3</td>\n",
       "      <td>26.2</td>\n",
       "      <td>23.3 - 26.2</td>\n",
       "      <td>NaN</td>\n",
       "      <td>Phase 1</td>\n",
       "    </tr>\n",
       "    <tr>\n",
       "      <th>4</th>\n",
       "      <td>Symptoms of Depressive Disorder</td>\n",
       "      <td>By Age</td>\n",
       "      <td>United States</td>\n",
       "      <td>50 - 59 years</td>\n",
       "      <td>1</td>\n",
       "      <td>1</td>\n",
       "      <td>Apr 23 - May 5, 2020</td>\n",
       "      <td>2020-04-23</td>\n",
       "      <td>2020-05-05</td>\n",
       "      <td>23.2</td>\n",
       "      <td>21.5</td>\n",
       "      <td>25.0</td>\n",
       "      <td>21.5 - 25.0</td>\n",
       "      <td>NaN</td>\n",
       "      <td>Phase 1</td>\n",
       "    </tr>\n",
       "  </tbody>\n",
       "</table>\n",
       "</div>"
      ],
      "text/plain": [
       "                         Indicator              Group          State  \\\n",
       "0  Symptoms of Depressive Disorder  National Estimate  United States   \n",
       "1  Symptoms of Depressive Disorder             By Age  United States   \n",
       "2  Symptoms of Depressive Disorder             By Age  United States   \n",
       "3  Symptoms of Depressive Disorder             By Age  United States   \n",
       "4  Symptoms of Depressive Disorder             By Age  United States   \n",
       "\n",
       "        Subgroup Phase  Time Period     Time Period Label  \\\n",
       "0  United States     1            1  Apr 23 - May 5, 2020   \n",
       "1  18 - 29 years     1            1  Apr 23 - May 5, 2020   \n",
       "2  30 - 39 years     1            1  Apr 23 - May 5, 2020   \n",
       "3  40 - 49 years     1            1  Apr 23 - May 5, 2020   \n",
       "4  50 - 59 years     1            1  Apr 23 - May 5, 2020   \n",
       "\n",
       "  Time Period Start Date Time Period End Date  Value  Low CI  High CI  \\\n",
       "0             2020-04-23           2020-05-05   23.5    22.7     24.3   \n",
       "1             2020-04-23           2020-05-05   32.7    30.2     35.2   \n",
       "2             2020-04-23           2020-05-05   25.7    24.1     27.3   \n",
       "3             2020-04-23           2020-05-05   24.8    23.3     26.2   \n",
       "4             2020-04-23           2020-05-05   23.2    21.5     25.0   \n",
       "\n",
       "  Confidence Interval Quartile Range   Phases  \n",
       "0         22.7 - 24.3            NaN  Phase 1  \n",
       "1         30.2 - 35.2            NaN  Phase 1  \n",
       "2         24.1 - 27.3            NaN  Phase 1  \n",
       "3         23.3 - 26.2            NaN  Phase 1  \n",
       "4         21.5 - 25.0            NaN  Phase 1  "
      ]
     },
     "execution_count": 30,
     "metadata": {},
     "output_type": "execute_result"
    }
   ],
   "source": [
    "#only keep the rows in which surveys were conducted\n",
    "\n",
    "#removing unwanted rows by filtering\n",
    "df = df[df['Phases'] != '0']\n",
    "\n",
    "#display updated dataframe\n",
    "df.head()\n"
   ]
  },
  {
   "cell_type": "markdown",
   "metadata": {},
   "source": [
    "### Evaluating Subgroup values to single out (NOT DONE HERE, NOT SURE HOW YET)"
   ]
  },
  {
   "cell_type": "code",
   "execution_count": 31,
   "metadata": {},
   "outputs": [
    {
     "data": {
      "text/html": [
       "<div>\n",
       "<style scoped>\n",
       "    .dataframe tbody tr th:only-of-type {\n",
       "        vertical-align: middle;\n",
       "    }\n",
       "\n",
       "    .dataframe tbody tr th {\n",
       "        vertical-align: top;\n",
       "    }\n",
       "\n",
       "    .dataframe thead th {\n",
       "        text-align: right;\n",
       "    }\n",
       "</style>\n",
       "<table border=\"1\" class=\"dataframe\">\n",
       "  <thead>\n",
       "    <tr style=\"text-align: right;\">\n",
       "      <th></th>\n",
       "      <th>Indicator</th>\n",
       "      <th>Group</th>\n",
       "      <th>State</th>\n",
       "      <th>Subgroup</th>\n",
       "      <th>Phase</th>\n",
       "      <th>Time Period</th>\n",
       "      <th>Time Period Label</th>\n",
       "      <th>Time Period Start Date</th>\n",
       "      <th>Time Period End Date</th>\n",
       "      <th>Value</th>\n",
       "      <th>Low CI</th>\n",
       "      <th>High CI</th>\n",
       "      <th>Confidence Interval</th>\n",
       "      <th>Quartile Range</th>\n",
       "      <th>Phases</th>\n",
       "    </tr>\n",
       "  </thead>\n",
       "  <tbody>\n",
       "    <tr>\n",
       "      <th>0</th>\n",
       "      <td>Symptoms of Depressive Disorder</td>\n",
       "      <td>National Estimate</td>\n",
       "      <td>United States</td>\n",
       "      <td>United States</td>\n",
       "      <td>1</td>\n",
       "      <td>1</td>\n",
       "      <td>Apr 23 - May 5, 2020</td>\n",
       "      <td>2020-04-23</td>\n",
       "      <td>2020-05-05</td>\n",
       "      <td>23.5</td>\n",
       "      <td>22.7</td>\n",
       "      <td>24.3</td>\n",
       "      <td>22.7 - 24.3</td>\n",
       "      <td>NaN</td>\n",
       "      <td>Phase 1</td>\n",
       "    </tr>\n",
       "    <tr>\n",
       "      <th>70</th>\n",
       "      <td>Symptoms of Anxiety Disorder</td>\n",
       "      <td>National Estimate</td>\n",
       "      <td>United States</td>\n",
       "      <td>United States</td>\n",
       "      <td>1</td>\n",
       "      <td>1</td>\n",
       "      <td>Apr 23 - May 5, 2020</td>\n",
       "      <td>2020-04-23</td>\n",
       "      <td>2020-05-05</td>\n",
       "      <td>30.8</td>\n",
       "      <td>30.0</td>\n",
       "      <td>31.7</td>\n",
       "      <td>30.0 - 31.7</td>\n",
       "      <td>NaN</td>\n",
       "      <td>Phase 1</td>\n",
       "    </tr>\n",
       "    <tr>\n",
       "      <th>140</th>\n",
       "      <td>Symptoms of Anxiety Disorder or Depressive Dis...</td>\n",
       "      <td>National Estimate</td>\n",
       "      <td>United States</td>\n",
       "      <td>United States</td>\n",
       "      <td>1</td>\n",
       "      <td>1</td>\n",
       "      <td>Apr 23 - May 5, 2020</td>\n",
       "      <td>2020-04-23</td>\n",
       "      <td>2020-05-05</td>\n",
       "      <td>35.9</td>\n",
       "      <td>35.0</td>\n",
       "      <td>36.8</td>\n",
       "      <td>35.0 - 36.8</td>\n",
       "      <td>NaN</td>\n",
       "      <td>Phase 1</td>\n",
       "    </tr>\n",
       "    <tr>\n",
       "      <th>210</th>\n",
       "      <td>Symptoms of Depressive Disorder</td>\n",
       "      <td>National Estimate</td>\n",
       "      <td>United States</td>\n",
       "      <td>United States</td>\n",
       "      <td>1</td>\n",
       "      <td>2</td>\n",
       "      <td>May 7 - May 12, 2020</td>\n",
       "      <td>2020-05-07</td>\n",
       "      <td>2020-05-12</td>\n",
       "      <td>24.1</td>\n",
       "      <td>23.0</td>\n",
       "      <td>25.2</td>\n",
       "      <td>23.0 - 25.2</td>\n",
       "      <td>NaN</td>\n",
       "      <td>Phase 1</td>\n",
       "    </tr>\n",
       "    <tr>\n",
       "      <th>280</th>\n",
       "      <td>Symptoms of Anxiety Disorder</td>\n",
       "      <td>National Estimate</td>\n",
       "      <td>United States</td>\n",
       "      <td>United States</td>\n",
       "      <td>1</td>\n",
       "      <td>2</td>\n",
       "      <td>May 7 - May 12, 2020</td>\n",
       "      <td>2020-05-07</td>\n",
       "      <td>2020-05-12</td>\n",
       "      <td>30.0</td>\n",
       "      <td>28.9</td>\n",
       "      <td>31.0</td>\n",
       "      <td>28.9 - 31.0</td>\n",
       "      <td>NaN</td>\n",
       "      <td>Phase 1</td>\n",
       "    </tr>\n",
       "    <tr>\n",
       "      <th>...</th>\n",
       "      <td>...</td>\n",
       "      <td>...</td>\n",
       "      <td>...</td>\n",
       "      <td>...</td>\n",
       "      <td>...</td>\n",
       "      <td>...</td>\n",
       "      <td>...</td>\n",
       "      <td>...</td>\n",
       "      <td>...</td>\n",
       "      <td>...</td>\n",
       "      <td>...</td>\n",
       "      <td>...</td>\n",
       "      <td>...</td>\n",
       "      <td>...</td>\n",
       "      <td>...</td>\n",
       "    </tr>\n",
       "    <tr>\n",
       "      <th>8724</th>\n",
       "      <td>Symptoms of Anxiety Disorder</td>\n",
       "      <td>National Estimate</td>\n",
       "      <td>United States</td>\n",
       "      <td>United States</td>\n",
       "      <td>3.3</td>\n",
       "      <td>40</td>\n",
       "      <td>Dec 1 - Dec 13, 2021</td>\n",
       "      <td>2021-12-01</td>\n",
       "      <td>2021-12-13</td>\n",
       "      <td>26.5</td>\n",
       "      <td>25.8</td>\n",
       "      <td>27.2</td>\n",
       "      <td>25.8 - 27.2</td>\n",
       "      <td>NaN</td>\n",
       "      <td>Phase 7</td>\n",
       "    </tr>\n",
       "    <tr>\n",
       "      <th>8823</th>\n",
       "      <td>Symptoms of Anxiety Disorder or Depressive Dis...</td>\n",
       "      <td>National Estimate</td>\n",
       "      <td>United States</td>\n",
       "      <td>United States</td>\n",
       "      <td>3.3</td>\n",
       "      <td>40</td>\n",
       "      <td>Dec 1 - Dec 13, 2021</td>\n",
       "      <td>2021-12-01</td>\n",
       "      <td>2021-12-13</td>\n",
       "      <td>30.7</td>\n",
       "      <td>30.0</td>\n",
       "      <td>31.5</td>\n",
       "      <td>30.0 - 31.5</td>\n",
       "      <td>NaN</td>\n",
       "      <td>Phase 7</td>\n",
       "    </tr>\n",
       "    <tr>\n",
       "      <th>8901</th>\n",
       "      <td>Symptoms of Depressive Disorder</td>\n",
       "      <td>National Estimate</td>\n",
       "      <td>United States</td>\n",
       "      <td>United States</td>\n",
       "      <td>3.3</td>\n",
       "      <td>41</td>\n",
       "      <td>Dec 29, 2021 - Jan 10, 2022</td>\n",
       "      <td>2021-12-29</td>\n",
       "      <td>2022-01-10</td>\n",
       "      <td>22.8</td>\n",
       "      <td>22.1</td>\n",
       "      <td>23.6</td>\n",
       "      <td>22.1 - 23.6</td>\n",
       "      <td>NaN</td>\n",
       "      <td>Phase 7</td>\n",
       "    </tr>\n",
       "    <tr>\n",
       "      <th>8979</th>\n",
       "      <td>Symptoms of Anxiety Disorder</td>\n",
       "      <td>National Estimate</td>\n",
       "      <td>United States</td>\n",
       "      <td>United States</td>\n",
       "      <td>3.3</td>\n",
       "      <td>41</td>\n",
       "      <td>Dec 29, 2021 - Jan 10, 2022</td>\n",
       "      <td>2021-12-29</td>\n",
       "      <td>2022-01-10</td>\n",
       "      <td>27.9</td>\n",
       "      <td>27.2</td>\n",
       "      <td>28.5</td>\n",
       "      <td>27.2 - 28.5</td>\n",
       "      <td>NaN</td>\n",
       "      <td>Phase 7</td>\n",
       "    </tr>\n",
       "    <tr>\n",
       "      <th>9057</th>\n",
       "      <td>Symptoms of Anxiety Disorder or Depressive Dis...</td>\n",
       "      <td>National Estimate</td>\n",
       "      <td>United States</td>\n",
       "      <td>United States</td>\n",
       "      <td>3.3</td>\n",
       "      <td>41</td>\n",
       "      <td>Dec 29, 2021 - Jan 10, 2022</td>\n",
       "      <td>2021-12-29</td>\n",
       "      <td>2022-01-10</td>\n",
       "      <td>32.1</td>\n",
       "      <td>31.3</td>\n",
       "      <td>32.8</td>\n",
       "      <td>31.3 - 32.8</td>\n",
       "      <td>NaN</td>\n",
       "      <td>Phase 7</td>\n",
       "    </tr>\n",
       "  </tbody>\n",
       "</table>\n",
       "<p>123 rows × 15 columns</p>\n",
       "</div>"
      ],
      "text/plain": [
       "                                              Indicator              Group  \\\n",
       "0                       Symptoms of Depressive Disorder  National Estimate   \n",
       "70                         Symptoms of Anxiety Disorder  National Estimate   \n",
       "140   Symptoms of Anxiety Disorder or Depressive Dis...  National Estimate   \n",
       "210                     Symptoms of Depressive Disorder  National Estimate   \n",
       "280                        Symptoms of Anxiety Disorder  National Estimate   \n",
       "...                                                 ...                ...   \n",
       "8724                       Symptoms of Anxiety Disorder  National Estimate   \n",
       "8823  Symptoms of Anxiety Disorder or Depressive Dis...  National Estimate   \n",
       "8901                    Symptoms of Depressive Disorder  National Estimate   \n",
       "8979                       Symptoms of Anxiety Disorder  National Estimate   \n",
       "9057  Symptoms of Anxiety Disorder or Depressive Dis...  National Estimate   \n",
       "\n",
       "              State       Subgroup Phase  Time Period  \\\n",
       "0     United States  United States     1            1   \n",
       "70    United States  United States     1            1   \n",
       "140   United States  United States     1            1   \n",
       "210   United States  United States     1            2   \n",
       "280   United States  United States     1            2   \n",
       "...             ...            ...   ...          ...   \n",
       "8724  United States  United States   3.3           40   \n",
       "8823  United States  United States   3.3           40   \n",
       "8901  United States  United States   3.3           41   \n",
       "8979  United States  United States   3.3           41   \n",
       "9057  United States  United States   3.3           41   \n",
       "\n",
       "                Time Period Label Time Period Start Date Time Period End Date  \\\n",
       "0            Apr 23 - May 5, 2020             2020-04-23           2020-05-05   \n",
       "70           Apr 23 - May 5, 2020             2020-04-23           2020-05-05   \n",
       "140          Apr 23 - May 5, 2020             2020-04-23           2020-05-05   \n",
       "210          May 7 - May 12, 2020             2020-05-07           2020-05-12   \n",
       "280          May 7 - May 12, 2020             2020-05-07           2020-05-12   \n",
       "...                           ...                    ...                  ...   \n",
       "8724         Dec 1 - Dec 13, 2021             2021-12-01           2021-12-13   \n",
       "8823         Dec 1 - Dec 13, 2021             2021-12-01           2021-12-13   \n",
       "8901  Dec 29, 2021 - Jan 10, 2022             2021-12-29           2022-01-10   \n",
       "8979  Dec 29, 2021 - Jan 10, 2022             2021-12-29           2022-01-10   \n",
       "9057  Dec 29, 2021 - Jan 10, 2022             2021-12-29           2022-01-10   \n",
       "\n",
       "      Value  Low CI  High CI Confidence Interval Quartile Range   Phases  \n",
       "0      23.5    22.7     24.3         22.7 - 24.3            NaN  Phase 1  \n",
       "70     30.8    30.0     31.7         30.0 - 31.7            NaN  Phase 1  \n",
       "140    35.9    35.0     36.8         35.0 - 36.8            NaN  Phase 1  \n",
       "210    24.1    23.0     25.2         23.0 - 25.2            NaN  Phase 1  \n",
       "280    30.0    28.9     31.0         28.9 - 31.0            NaN  Phase 1  \n",
       "...     ...     ...      ...                 ...            ...      ...  \n",
       "8724   26.5    25.8     27.2         25.8 - 27.2            NaN  Phase 7  \n",
       "8823   30.7    30.0     31.5         30.0 - 31.5            NaN  Phase 7  \n",
       "8901   22.8    22.1     23.6         22.1 - 23.6            NaN  Phase 7  \n",
       "8979   27.9    27.2     28.5         27.2 - 28.5            NaN  Phase 7  \n",
       "9057   32.1    31.3     32.8         31.3 - 32.8            NaN  Phase 7  \n",
       "\n",
       "[123 rows x 15 columns]"
      ]
     },
     "execution_count": 31,
     "metadata": {},
     "output_type": "execute_result"
    }
   ],
   "source": [
    "#exploring what National Estimate and United States values refer to in Group and State\n",
    "df[df['Group'] == 'National Estimate']\n",
    "\n",
    "#123 rows "
   ]
  },
  {
   "cell_type": "code",
   "execution_count": 32,
   "metadata": {},
   "outputs": [
    {
     "data": {
      "text/html": [
       "<div>\n",
       "<style scoped>\n",
       "    .dataframe tbody tr th:only-of-type {\n",
       "        vertical-align: middle;\n",
       "    }\n",
       "\n",
       "    .dataframe tbody tr th {\n",
       "        vertical-align: top;\n",
       "    }\n",
       "\n",
       "    .dataframe thead th {\n",
       "        text-align: right;\n",
       "    }\n",
       "</style>\n",
       "<table border=\"1\" class=\"dataframe\">\n",
       "  <thead>\n",
       "    <tr style=\"text-align: right;\">\n",
       "      <th></th>\n",
       "      <th>Indicator</th>\n",
       "      <th>Group</th>\n",
       "      <th>State</th>\n",
       "      <th>Subgroup</th>\n",
       "      <th>Phase</th>\n",
       "      <th>Time Period</th>\n",
       "      <th>Time Period Label</th>\n",
       "      <th>Time Period Start Date</th>\n",
       "      <th>Time Period End Date</th>\n",
       "      <th>Value</th>\n",
       "      <th>Low CI</th>\n",
       "      <th>High CI</th>\n",
       "      <th>Confidence Interval</th>\n",
       "      <th>Quartile Range</th>\n",
       "      <th>Phases</th>\n",
       "    </tr>\n",
       "  </thead>\n",
       "  <tbody>\n",
       "    <tr>\n",
       "      <th>0</th>\n",
       "      <td>Symptoms of Depressive Disorder</td>\n",
       "      <td>National Estimate</td>\n",
       "      <td>United States</td>\n",
       "      <td>United States</td>\n",
       "      <td>1</td>\n",
       "      <td>1</td>\n",
       "      <td>Apr 23 - May 5, 2020</td>\n",
       "      <td>2020-04-23</td>\n",
       "      <td>2020-05-05</td>\n",
       "      <td>23.5</td>\n",
       "      <td>22.7</td>\n",
       "      <td>24.3</td>\n",
       "      <td>22.7 - 24.3</td>\n",
       "      <td>NaN</td>\n",
       "      <td>Phase 1</td>\n",
       "    </tr>\n",
       "    <tr>\n",
       "      <th>1</th>\n",
       "      <td>Symptoms of Depressive Disorder</td>\n",
       "      <td>By Age</td>\n",
       "      <td>United States</td>\n",
       "      <td>18 - 29 years</td>\n",
       "      <td>1</td>\n",
       "      <td>1</td>\n",
       "      <td>Apr 23 - May 5, 2020</td>\n",
       "      <td>2020-04-23</td>\n",
       "      <td>2020-05-05</td>\n",
       "      <td>32.7</td>\n",
       "      <td>30.2</td>\n",
       "      <td>35.2</td>\n",
       "      <td>30.2 - 35.2</td>\n",
       "      <td>NaN</td>\n",
       "      <td>Phase 1</td>\n",
       "    </tr>\n",
       "    <tr>\n",
       "      <th>2</th>\n",
       "      <td>Symptoms of Depressive Disorder</td>\n",
       "      <td>By Age</td>\n",
       "      <td>United States</td>\n",
       "      <td>30 - 39 years</td>\n",
       "      <td>1</td>\n",
       "      <td>1</td>\n",
       "      <td>Apr 23 - May 5, 2020</td>\n",
       "      <td>2020-04-23</td>\n",
       "      <td>2020-05-05</td>\n",
       "      <td>25.7</td>\n",
       "      <td>24.1</td>\n",
       "      <td>27.3</td>\n",
       "      <td>24.1 - 27.3</td>\n",
       "      <td>NaN</td>\n",
       "      <td>Phase 1</td>\n",
       "    </tr>\n",
       "    <tr>\n",
       "      <th>3</th>\n",
       "      <td>Symptoms of Depressive Disorder</td>\n",
       "      <td>By Age</td>\n",
       "      <td>United States</td>\n",
       "      <td>40 - 49 years</td>\n",
       "      <td>1</td>\n",
       "      <td>1</td>\n",
       "      <td>Apr 23 - May 5, 2020</td>\n",
       "      <td>2020-04-23</td>\n",
       "      <td>2020-05-05</td>\n",
       "      <td>24.8</td>\n",
       "      <td>23.3</td>\n",
       "      <td>26.2</td>\n",
       "      <td>23.3 - 26.2</td>\n",
       "      <td>NaN</td>\n",
       "      <td>Phase 1</td>\n",
       "    </tr>\n",
       "    <tr>\n",
       "      <th>4</th>\n",
       "      <td>Symptoms of Depressive Disorder</td>\n",
       "      <td>By Age</td>\n",
       "      <td>United States</td>\n",
       "      <td>50 - 59 years</td>\n",
       "      <td>1</td>\n",
       "      <td>1</td>\n",
       "      <td>Apr 23 - May 5, 2020</td>\n",
       "      <td>2020-04-23</td>\n",
       "      <td>2020-05-05</td>\n",
       "      <td>23.2</td>\n",
       "      <td>21.5</td>\n",
       "      <td>25.0</td>\n",
       "      <td>21.5 - 25.0</td>\n",
       "      <td>NaN</td>\n",
       "      <td>Phase 1</td>\n",
       "    </tr>\n",
       "    <tr>\n",
       "      <th>...</th>\n",
       "      <td>...</td>\n",
       "      <td>...</td>\n",
       "      <td>...</td>\n",
       "      <td>...</td>\n",
       "      <td>...</td>\n",
       "      <td>...</td>\n",
       "      <td>...</td>\n",
       "      <td>...</td>\n",
       "      <td>...</td>\n",
       "      <td>...</td>\n",
       "      <td>...</td>\n",
       "      <td>...</td>\n",
       "      <td>...</td>\n",
       "      <td>...</td>\n",
       "      <td>...</td>\n",
       "    </tr>\n",
       "    <tr>\n",
       "      <th>9079</th>\n",
       "      <td>Symptoms of Anxiety Disorder or Depressive Dis...</td>\n",
       "      <td>By Education</td>\n",
       "      <td>United States</td>\n",
       "      <td>High school diploma or GED</td>\n",
       "      <td>3.3</td>\n",
       "      <td>41</td>\n",
       "      <td>Dec 29, 2021 - Jan 10, 2022</td>\n",
       "      <td>2021-12-29</td>\n",
       "      <td>2022-01-10</td>\n",
       "      <td>32.7</td>\n",
       "      <td>31.0</td>\n",
       "      <td>34.3</td>\n",
       "      <td>31.0 - 34.3</td>\n",
       "      <td>NaN</td>\n",
       "      <td>Phase 7</td>\n",
       "    </tr>\n",
       "    <tr>\n",
       "      <th>9080</th>\n",
       "      <td>Symptoms of Anxiety Disorder or Depressive Dis...</td>\n",
       "      <td>By Education</td>\n",
       "      <td>United States</td>\n",
       "      <td>Some college/Associate's degree</td>\n",
       "      <td>3.3</td>\n",
       "      <td>41</td>\n",
       "      <td>Dec 29, 2021 - Jan 10, 2022</td>\n",
       "      <td>2021-12-29</td>\n",
       "      <td>2022-01-10</td>\n",
       "      <td>36.2</td>\n",
       "      <td>35.1</td>\n",
       "      <td>37.3</td>\n",
       "      <td>35.1 - 37.3</td>\n",
       "      <td>NaN</td>\n",
       "      <td>Phase 7</td>\n",
       "    </tr>\n",
       "    <tr>\n",
       "      <th>9081</th>\n",
       "      <td>Symptoms of Anxiety Disorder or Depressive Dis...</td>\n",
       "      <td>By Education</td>\n",
       "      <td>United States</td>\n",
       "      <td>Bachelor's degree or higher</td>\n",
       "      <td>3.3</td>\n",
       "      <td>41</td>\n",
       "      <td>Dec 29, 2021 - Jan 10, 2022</td>\n",
       "      <td>2021-12-29</td>\n",
       "      <td>2022-01-10</td>\n",
       "      <td>27.4</td>\n",
       "      <td>26.7</td>\n",
       "      <td>28.1</td>\n",
       "      <td>26.7 - 28.1</td>\n",
       "      <td>NaN</td>\n",
       "      <td>Phase 7</td>\n",
       "    </tr>\n",
       "    <tr>\n",
       "      <th>9082</th>\n",
       "      <td>Symptoms of Anxiety Disorder or Depressive Dis...</td>\n",
       "      <td>By Disability status</td>\n",
       "      <td>United States</td>\n",
       "      <td>With disability</td>\n",
       "      <td>3.3</td>\n",
       "      <td>41</td>\n",
       "      <td>Dec 29, 2021 - Jan 10, 2022</td>\n",
       "      <td>2021-12-29</td>\n",
       "      <td>2022-01-10</td>\n",
       "      <td>60.4</td>\n",
       "      <td>58.2</td>\n",
       "      <td>62.5</td>\n",
       "      <td>58.2 - 62.5</td>\n",
       "      <td>NaN</td>\n",
       "      <td>Phase 7</td>\n",
       "    </tr>\n",
       "    <tr>\n",
       "      <th>9083</th>\n",
       "      <td>Symptoms of Anxiety Disorder or Depressive Dis...</td>\n",
       "      <td>By Disability status</td>\n",
       "      <td>United States</td>\n",
       "      <td>Without disability</td>\n",
       "      <td>3.3</td>\n",
       "      <td>41</td>\n",
       "      <td>Dec 29, 2021 - Jan 10, 2022</td>\n",
       "      <td>2021-12-29</td>\n",
       "      <td>2022-01-10</td>\n",
       "      <td>27.4</td>\n",
       "      <td>26.6</td>\n",
       "      <td>28.1</td>\n",
       "      <td>26.6 - 28.1</td>\n",
       "      <td>NaN</td>\n",
       "      <td>Phase 7</td>\n",
       "    </tr>\n",
       "  </tbody>\n",
       "</table>\n",
       "<p>2565 rows × 15 columns</p>\n",
       "</div>"
      ],
      "text/plain": [
       "                                              Indicator                 Group  \\\n",
       "0                       Symptoms of Depressive Disorder     National Estimate   \n",
       "1                       Symptoms of Depressive Disorder                By Age   \n",
       "2                       Symptoms of Depressive Disorder                By Age   \n",
       "3                       Symptoms of Depressive Disorder                By Age   \n",
       "4                       Symptoms of Depressive Disorder                By Age   \n",
       "...                                                 ...                   ...   \n",
       "9079  Symptoms of Anxiety Disorder or Depressive Dis...          By Education   \n",
       "9080  Symptoms of Anxiety Disorder or Depressive Dis...          By Education   \n",
       "9081  Symptoms of Anxiety Disorder or Depressive Dis...          By Education   \n",
       "9082  Symptoms of Anxiety Disorder or Depressive Dis...  By Disability status   \n",
       "9083  Symptoms of Anxiety Disorder or Depressive Dis...  By Disability status   \n",
       "\n",
       "              State                         Subgroup Phase  Time Period  \\\n",
       "0     United States                    United States     1            1   \n",
       "1     United States                    18 - 29 years     1            1   \n",
       "2     United States                    30 - 39 years     1            1   \n",
       "3     United States                    40 - 49 years     1            1   \n",
       "4     United States                    50 - 59 years     1            1   \n",
       "...             ...                              ...   ...          ...   \n",
       "9079  United States       High school diploma or GED   3.3           41   \n",
       "9080  United States  Some college/Associate's degree   3.3           41   \n",
       "9081  United States      Bachelor's degree or higher   3.3           41   \n",
       "9082  United States                  With disability   3.3           41   \n",
       "9083  United States               Without disability   3.3           41   \n",
       "\n",
       "                Time Period Label Time Period Start Date Time Period End Date  \\\n",
       "0            Apr 23 - May 5, 2020             2020-04-23           2020-05-05   \n",
       "1            Apr 23 - May 5, 2020             2020-04-23           2020-05-05   \n",
       "2            Apr 23 - May 5, 2020             2020-04-23           2020-05-05   \n",
       "3            Apr 23 - May 5, 2020             2020-04-23           2020-05-05   \n",
       "4            Apr 23 - May 5, 2020             2020-04-23           2020-05-05   \n",
       "...                           ...                    ...                  ...   \n",
       "9079  Dec 29, 2021 - Jan 10, 2022             2021-12-29           2022-01-10   \n",
       "9080  Dec 29, 2021 - Jan 10, 2022             2021-12-29           2022-01-10   \n",
       "9081  Dec 29, 2021 - Jan 10, 2022             2021-12-29           2022-01-10   \n",
       "9082  Dec 29, 2021 - Jan 10, 2022             2021-12-29           2022-01-10   \n",
       "9083  Dec 29, 2021 - Jan 10, 2022             2021-12-29           2022-01-10   \n",
       "\n",
       "      Value  Low CI  High CI Confidence Interval Quartile Range   Phases  \n",
       "0      23.5    22.7     24.3         22.7 - 24.3            NaN  Phase 1  \n",
       "1      32.7    30.2     35.2         30.2 - 35.2            NaN  Phase 1  \n",
       "2      25.7    24.1     27.3         24.1 - 27.3            NaN  Phase 1  \n",
       "3      24.8    23.3     26.2         23.3 - 26.2            NaN  Phase 1  \n",
       "4      23.2    21.5     25.0         21.5 - 25.0            NaN  Phase 1  \n",
       "...     ...     ...      ...                 ...            ...      ...  \n",
       "9079   32.7    31.0     34.3         31.0 - 34.3            NaN  Phase 7  \n",
       "9080   36.2    35.1     37.3         35.1 - 37.3            NaN  Phase 7  \n",
       "9081   27.4    26.7     28.1         26.7 - 28.1            NaN  Phase 7  \n",
       "9082   60.4    58.2     62.5         58.2 - 62.5            NaN  Phase 7  \n",
       "9083   27.4    26.6     28.1         26.6 - 28.1            NaN  Phase 7  \n",
       "\n",
       "[2565 rows x 15 columns]"
      ]
     },
     "execution_count": 32,
     "metadata": {},
     "output_type": "execute_result"
    }
   ],
   "source": [
    "df[df['State'] == 'United States']\n",
    "\n",
    "#123 rows"
   ]
  },
  {
   "cell_type": "code",
   "execution_count": 33,
   "metadata": {},
   "outputs": [
    {
     "data": {
      "text/plain": [
       "array(['National Estimate', 'By Age', 'By Sex',\n",
       "       'By Race/Hispanic ethnicity', 'By Education', 'By State',\n",
       "       'By Disability status', 'By Gender identity',\n",
       "       'By Sexual orientation'], dtype=object)"
      ]
     },
     "execution_count": 33,
     "metadata": {},
     "output_type": "execute_result"
    }
   ],
   "source": [
    "df['Group'].unique()\n",
    "\n",
    "#The survey information states that they had a National Estimate"
   ]
  },
  {
   "cell_type": "code",
   "execution_count": 34,
   "metadata": {},
   "outputs": [
    {
     "data": {
      "text/plain": [
       "array(['United States', '18 - 29 years', '30 - 39 years', '40 - 49 years',\n",
       "       '50 - 59 years', '60 - 69 years', '70 - 79 years',\n",
       "       '80 years and above', 'Male', 'Female', 'Hispanic or Latino',\n",
       "       'Non-Hispanic White, single race',\n",
       "       'Non-Hispanic Black, single race',\n",
       "       'Non-Hispanic Asian, single race',\n",
       "       'Non-Hispanic, other races and multiple races',\n",
       "       'Less than a high school diploma', 'High school diploma or GED',\n",
       "       \"Some college/Associate's degree\", \"Bachelor's degree or higher\",\n",
       "       'Alabama', 'Alaska', 'Arizona', 'Arkansas', 'California',\n",
       "       'Colorado', 'Connecticut', 'Delaware', 'District of Columbia',\n",
       "       'Florida', 'Georgia', 'Hawaii', 'Idaho', 'Illinois', 'Indiana',\n",
       "       'Iowa', 'Kansas', 'Kentucky', 'Louisiana', 'Maine', 'Maryland',\n",
       "       'Massachusetts', 'Michigan', 'Minnesota', 'Mississippi',\n",
       "       'Missouri', 'Montana', 'Nebraska', 'Nevada', 'New Hampshire',\n",
       "       'New Jersey', 'New Mexico', 'New York', 'North Carolina',\n",
       "       'North Dakota', 'Ohio', 'Oklahoma', 'Oregon', 'Pennsylvania',\n",
       "       'Rhode Island', 'South Carolina', 'South Dakota', 'Tennessee',\n",
       "       'Texas', 'Utah', 'Vermont', 'Virginia', 'Washington',\n",
       "       'West Virginia', 'Wisconsin', 'Wyoming', 'With disability',\n",
       "       'Without disability', 'Cis-gender male', 'Cis-gender female',\n",
       "       'Transgender', 'Gay or lesbian', 'Straight', 'Bisexual'],\n",
       "      dtype=object)"
      ]
     },
     "execution_count": 34,
     "metadata": {},
     "output_type": "execute_result"
    }
   ],
   "source": [
    "df['Subgroup'].unique()\n",
    "\n",
    "#123 rows"
   ]
  },
  {
   "cell_type": "markdown",
   "metadata": {},
   "source": [
    "## Cleaned Dataframe"
   ]
  },
  {
   "cell_type": "code",
   "execution_count": 35,
   "metadata": {},
   "outputs": [
    {
     "data": {
      "text/html": [
       "<div>\n",
       "<style scoped>\n",
       "    .dataframe tbody tr th:only-of-type {\n",
       "        vertical-align: middle;\n",
       "    }\n",
       "\n",
       "    .dataframe tbody tr th {\n",
       "        vertical-align: top;\n",
       "    }\n",
       "\n",
       "    .dataframe thead th {\n",
       "        text-align: right;\n",
       "    }\n",
       "</style>\n",
       "<table border=\"1\" class=\"dataframe\">\n",
       "  <thead>\n",
       "    <tr style=\"text-align: right;\">\n",
       "      <th></th>\n",
       "      <th>Indicator</th>\n",
       "      <th>State</th>\n",
       "      <th>Group</th>\n",
       "      <th>Subgroup</th>\n",
       "      <th>Phases</th>\n",
       "      <th>Time Period Start Date</th>\n",
       "      <th>Time Period End Date</th>\n",
       "      <th>Value</th>\n",
       "    </tr>\n",
       "  </thead>\n",
       "  <tbody>\n",
       "    <tr>\n",
       "      <th>0</th>\n",
       "      <td>Symptoms of Depressive Disorder</td>\n",
       "      <td>United States</td>\n",
       "      <td>National Estimate</td>\n",
       "      <td>United States</td>\n",
       "      <td>Phase 1</td>\n",
       "      <td>2020-04-23</td>\n",
       "      <td>2020-05-05</td>\n",
       "      <td>23.5</td>\n",
       "    </tr>\n",
       "    <tr>\n",
       "      <th>1</th>\n",
       "      <td>Symptoms of Depressive Disorder</td>\n",
       "      <td>United States</td>\n",
       "      <td>By Age</td>\n",
       "      <td>18 - 29 years</td>\n",
       "      <td>Phase 1</td>\n",
       "      <td>2020-04-23</td>\n",
       "      <td>2020-05-05</td>\n",
       "      <td>32.7</td>\n",
       "    </tr>\n",
       "    <tr>\n",
       "      <th>2</th>\n",
       "      <td>Symptoms of Depressive Disorder</td>\n",
       "      <td>United States</td>\n",
       "      <td>By Age</td>\n",
       "      <td>30 - 39 years</td>\n",
       "      <td>Phase 1</td>\n",
       "      <td>2020-04-23</td>\n",
       "      <td>2020-05-05</td>\n",
       "      <td>25.7</td>\n",
       "    </tr>\n",
       "    <tr>\n",
       "      <th>3</th>\n",
       "      <td>Symptoms of Depressive Disorder</td>\n",
       "      <td>United States</td>\n",
       "      <td>By Age</td>\n",
       "      <td>40 - 49 years</td>\n",
       "      <td>Phase 1</td>\n",
       "      <td>2020-04-23</td>\n",
       "      <td>2020-05-05</td>\n",
       "      <td>24.8</td>\n",
       "    </tr>\n",
       "    <tr>\n",
       "      <th>4</th>\n",
       "      <td>Symptoms of Depressive Disorder</td>\n",
       "      <td>United States</td>\n",
       "      <td>By Age</td>\n",
       "      <td>50 - 59 years</td>\n",
       "      <td>Phase 1</td>\n",
       "      <td>2020-04-23</td>\n",
       "      <td>2020-05-05</td>\n",
       "      <td>23.2</td>\n",
       "    </tr>\n",
       "    <tr>\n",
       "      <th>...</th>\n",
       "      <td>...</td>\n",
       "      <td>...</td>\n",
       "      <td>...</td>\n",
       "      <td>...</td>\n",
       "      <td>...</td>\n",
       "      <td>...</td>\n",
       "      <td>...</td>\n",
       "      <td>...</td>\n",
       "    </tr>\n",
       "    <tr>\n",
       "      <th>9130</th>\n",
       "      <td>Symptoms of Anxiety Disorder or Depressive Dis...</td>\n",
       "      <td>Virginia</td>\n",
       "      <td>By State</td>\n",
       "      <td>Virginia</td>\n",
       "      <td>Phase 7</td>\n",
       "      <td>2021-12-29</td>\n",
       "      <td>2022-01-10</td>\n",
       "      <td>35.4</td>\n",
       "    </tr>\n",
       "    <tr>\n",
       "      <th>9131</th>\n",
       "      <td>Symptoms of Anxiety Disorder or Depressive Dis...</td>\n",
       "      <td>Washington</td>\n",
       "      <td>By State</td>\n",
       "      <td>Washington</td>\n",
       "      <td>Phase 7</td>\n",
       "      <td>2021-12-29</td>\n",
       "      <td>2022-01-10</td>\n",
       "      <td>32.7</td>\n",
       "    </tr>\n",
       "    <tr>\n",
       "      <th>9132</th>\n",
       "      <td>Symptoms of Anxiety Disorder or Depressive Dis...</td>\n",
       "      <td>West Virginia</td>\n",
       "      <td>By State</td>\n",
       "      <td>West Virginia</td>\n",
       "      <td>Phase 7</td>\n",
       "      <td>2021-12-29</td>\n",
       "      <td>2022-01-10</td>\n",
       "      <td>34.6</td>\n",
       "    </tr>\n",
       "    <tr>\n",
       "      <th>9133</th>\n",
       "      <td>Symptoms of Anxiety Disorder or Depressive Dis...</td>\n",
       "      <td>Wisconsin</td>\n",
       "      <td>By State</td>\n",
       "      <td>Wisconsin</td>\n",
       "      <td>Phase 7</td>\n",
       "      <td>2021-12-29</td>\n",
       "      <td>2022-01-10</td>\n",
       "      <td>25.5</td>\n",
       "    </tr>\n",
       "    <tr>\n",
       "      <th>9134</th>\n",
       "      <td>Symptoms of Anxiety Disorder or Depressive Dis...</td>\n",
       "      <td>Wyoming</td>\n",
       "      <td>By State</td>\n",
       "      <td>Wyoming</td>\n",
       "      <td>Phase 7</td>\n",
       "      <td>2021-12-29</td>\n",
       "      <td>2022-01-10</td>\n",
       "      <td>33.9</td>\n",
       "    </tr>\n",
       "  </tbody>\n",
       "</table>\n",
       "<p>8838 rows × 8 columns</p>\n",
       "</div>"
      ],
      "text/plain": [
       "                                              Indicator          State  \\\n",
       "0                       Symptoms of Depressive Disorder  United States   \n",
       "1                       Symptoms of Depressive Disorder  United States   \n",
       "2                       Symptoms of Depressive Disorder  United States   \n",
       "3                       Symptoms of Depressive Disorder  United States   \n",
       "4                       Symptoms of Depressive Disorder  United States   \n",
       "...                                                 ...            ...   \n",
       "9130  Symptoms of Anxiety Disorder or Depressive Dis...       Virginia   \n",
       "9131  Symptoms of Anxiety Disorder or Depressive Dis...     Washington   \n",
       "9132  Symptoms of Anxiety Disorder or Depressive Dis...  West Virginia   \n",
       "9133  Symptoms of Anxiety Disorder or Depressive Dis...      Wisconsin   \n",
       "9134  Symptoms of Anxiety Disorder or Depressive Dis...        Wyoming   \n",
       "\n",
       "                  Group       Subgroup   Phases Time Period Start Date  \\\n",
       "0     National Estimate  United States  Phase 1             2020-04-23   \n",
       "1                By Age  18 - 29 years  Phase 1             2020-04-23   \n",
       "2                By Age  30 - 39 years  Phase 1             2020-04-23   \n",
       "3                By Age  40 - 49 years  Phase 1             2020-04-23   \n",
       "4                By Age  50 - 59 years  Phase 1             2020-04-23   \n",
       "...                 ...            ...      ...                    ...   \n",
       "9130           By State       Virginia  Phase 7             2021-12-29   \n",
       "9131           By State     Washington  Phase 7             2021-12-29   \n",
       "9132           By State  West Virginia  Phase 7             2021-12-29   \n",
       "9133           By State      Wisconsin  Phase 7             2021-12-29   \n",
       "9134           By State        Wyoming  Phase 7             2021-12-29   \n",
       "\n",
       "     Time Period End Date  Value  \n",
       "0              2020-05-05   23.5  \n",
       "1              2020-05-05   32.7  \n",
       "2              2020-05-05   25.7  \n",
       "3              2020-05-05   24.8  \n",
       "4              2020-05-05   23.2  \n",
       "...                   ...    ...  \n",
       "9130           2022-01-10   35.4  \n",
       "9131           2022-01-10   32.7  \n",
       "9132           2022-01-10   34.6  \n",
       "9133           2022-01-10   25.5  \n",
       "9134           2022-01-10   33.9  \n",
       "\n",
       "[8838 rows x 8 columns]"
      ]
     },
     "execution_count": 35,
     "metadata": {},
     "output_type": "execute_result"
    }
   ],
   "source": [
    "#create a new df with relevant columns\n",
    "clean_df = df[['Indicator','State','Group', 'Subgroup','Phases', 'Time Period Start Date', 'Time Period End Date', 'Value']]\n",
    "\n",
    "clean_df"
   ]
  },
  {
   "cell_type": "markdown",
   "metadata": {},
   "source": [
    "# Visualize Data"
   ]
  },
  {
   "cell_type": "code",
   "execution_count": 77,
   "metadata": {},
   "outputs": [],
   "source": [
    "#Assign colors to each Indicator *U.S df only*\n",
    "\n",
    "\n",
    "#create a list of conditions\n",
    "color_conditions = [ \n",
    "    (clean_df['Indicator'] == 'Symptoms of Anxiety Disorder'), #1\n",
    "    (clean_df['Indicator'] == 'Symptoms of Depressive Disorder'), #2\n",
    "    (clean_df['Indicator'] == 'Symptoms of Anxiety Disorder or Depressive Disorder'), #3\n",
    "    ]\n",
    "#create a list of the values we want to assign for each condition\n",
    "colors = ['Purple','Blue','Red']\n",
    "\n",
    "#use np.select to assign values \n",
    "us_indicator_colors = np.select(color_conditions, colors)"
   ]
  },
  {
   "cell_type": "markdown",
   "metadata": {},
   "source": [
    "## United States Statistics"
   ]
  },
  {
   "cell_type": "code",
   "execution_count": 81,
   "metadata": {},
   "outputs": [
    {
     "data": {
      "image/png": "[encoded data removed]",
      "text/plain": [
       "<Figure size 432x288 with 1 Axes>"
      ]
     },
     "metadata": {
      "needs_background": "light"
     },
     "output_type": "display_data"
    }
   ],
   "source": [
    "#Percentage of Americans that show symptoms across each Phase\n",
    "\n",
    "plt.scatter(\n",
    "    x = clean_df['Phases'], \n",
    "    y = clean_df['Value'], \n",
    "    s = 0.5,\n",
    "    c = us_indicator_colors)\n",
    "\n",
    "plt.show()"
   ]
  },
  {
   "cell_type": "markdown",
   "metadata": {},
   "source": [
    "## Texas Statistics"
   ]
  },
  {
   "cell_type": "code",
   "execution_count": 74,
   "metadata": {},
   "outputs": [
    {
     "data": {
      "text/html": [
       "<div>\n",
       "<style scoped>\n",
       "    .dataframe tbody tr th:only-of-type {\n",
       "        vertical-align: middle;\n",
       "    }\n",
       "\n",
       "    .dataframe tbody tr th {\n",
       "        vertical-align: top;\n",
       "    }\n",
       "\n",
       "    .dataframe thead th {\n",
       "        text-align: right;\n",
       "    }\n",
       "</style>\n",
       "<table border=\"1\" class=\"dataframe\">\n",
       "  <thead>\n",
       "    <tr style=\"text-align: right;\">\n",
       "      <th></th>\n",
       "      <th>Indicator</th>\n",
       "      <th>State</th>\n",
       "      <th>Group</th>\n",
       "      <th>Subgroup</th>\n",
       "      <th>Phases</th>\n",
       "      <th>Time Period Start Date</th>\n",
       "      <th>Time Period End Date</th>\n",
       "      <th>Value</th>\n",
       "    </tr>\n",
       "  </thead>\n",
       "  <tbody>\n",
       "    <tr>\n",
       "      <th>62</th>\n",
       "      <td>Symptoms of Depressive Disorder</td>\n",
       "      <td>Texas</td>\n",
       "      <td>By State</td>\n",
       "      <td>Texas</td>\n",
       "      <td>Phase 1</td>\n",
       "      <td>2020-04-23</td>\n",
       "      <td>2020-05-05</td>\n",
       "      <td>24.4</td>\n",
       "    </tr>\n",
       "    <tr>\n",
       "      <th>132</th>\n",
       "      <td>Symptoms of Anxiety Disorder</td>\n",
       "      <td>Texas</td>\n",
       "      <td>By State</td>\n",
       "      <td>Texas</td>\n",
       "      <td>Phase 1</td>\n",
       "      <td>2020-04-23</td>\n",
       "      <td>2020-05-05</td>\n",
       "      <td>29.7</td>\n",
       "    </tr>\n",
       "    <tr>\n",
       "      <th>202</th>\n",
       "      <td>Symptoms of Anxiety Disorder or Depressive Dis...</td>\n",
       "      <td>Texas</td>\n",
       "      <td>By State</td>\n",
       "      <td>Texas</td>\n",
       "      <td>Phase 1</td>\n",
       "      <td>2020-04-23</td>\n",
       "      <td>2020-05-05</td>\n",
       "      <td>34.9</td>\n",
       "    </tr>\n",
       "    <tr>\n",
       "      <th>272</th>\n",
       "      <td>Symptoms of Depressive Disorder</td>\n",
       "      <td>Texas</td>\n",
       "      <td>By State</td>\n",
       "      <td>Texas</td>\n",
       "      <td>Phase 1</td>\n",
       "      <td>2020-05-07</td>\n",
       "      <td>2020-05-12</td>\n",
       "      <td>25.7</td>\n",
       "    </tr>\n",
       "    <tr>\n",
       "      <th>342</th>\n",
       "      <td>Symptoms of Anxiety Disorder</td>\n",
       "      <td>Texas</td>\n",
       "      <td>By State</td>\n",
       "      <td>Texas</td>\n",
       "      <td>Phase 1</td>\n",
       "      <td>2020-05-07</td>\n",
       "      <td>2020-05-12</td>\n",
       "      <td>32.4</td>\n",
       "    </tr>\n",
       "    <tr>\n",
       "      <th>...</th>\n",
       "      <td>...</td>\n",
       "      <td>...</td>\n",
       "      <td>...</td>\n",
       "      <td>...</td>\n",
       "      <td>...</td>\n",
       "      <td>...</td>\n",
       "      <td>...</td>\n",
       "      <td>...</td>\n",
       "    </tr>\n",
       "    <tr>\n",
       "      <th>8794</th>\n",
       "      <td>Symptoms of Anxiety Disorder</td>\n",
       "      <td>Texas</td>\n",
       "      <td>By State</td>\n",
       "      <td>Texas</td>\n",
       "      <td>Phase 7</td>\n",
       "      <td>2021-12-01</td>\n",
       "      <td>2021-12-13</td>\n",
       "      <td>24.9</td>\n",
       "    </tr>\n",
       "    <tr>\n",
       "      <th>8893</th>\n",
       "      <td>Symptoms of Anxiety Disorder or Depressive Dis...</td>\n",
       "      <td>Texas</td>\n",
       "      <td>By State</td>\n",
       "      <td>Texas</td>\n",
       "      <td>Phase 7</td>\n",
       "      <td>2021-12-01</td>\n",
       "      <td>2021-12-13</td>\n",
       "      <td>29.5</td>\n",
       "    </tr>\n",
       "    <tr>\n",
       "      <th>8971</th>\n",
       "      <td>Symptoms of Depressive Disorder</td>\n",
       "      <td>Texas</td>\n",
       "      <td>By State</td>\n",
       "      <td>Texas</td>\n",
       "      <td>Phase 7</td>\n",
       "      <td>2021-12-29</td>\n",
       "      <td>2022-01-10</td>\n",
       "      <td>25.0</td>\n",
       "    </tr>\n",
       "    <tr>\n",
       "      <th>9049</th>\n",
       "      <td>Symptoms of Anxiety Disorder</td>\n",
       "      <td>Texas</td>\n",
       "      <td>By State</td>\n",
       "      <td>Texas</td>\n",
       "      <td>Phase 7</td>\n",
       "      <td>2021-12-29</td>\n",
       "      <td>2022-01-10</td>\n",
       "      <td>31.0</td>\n",
       "    </tr>\n",
       "    <tr>\n",
       "      <th>9127</th>\n",
       "      <td>Symptoms of Anxiety Disorder or Depressive Dis...</td>\n",
       "      <td>Texas</td>\n",
       "      <td>By State</td>\n",
       "      <td>Texas</td>\n",
       "      <td>Phase 7</td>\n",
       "      <td>2021-12-29</td>\n",
       "      <td>2022-01-10</td>\n",
       "      <td>35.1</td>\n",
       "    </tr>\n",
       "  </tbody>\n",
       "</table>\n",
       "<p>123 rows × 8 columns</p>\n",
       "</div>"
      ],
      "text/plain": [
       "                                              Indicator  State     Group  \\\n",
       "62                      Symptoms of Depressive Disorder  Texas  By State   \n",
       "132                        Symptoms of Anxiety Disorder  Texas  By State   \n",
       "202   Symptoms of Anxiety Disorder or Depressive Dis...  Texas  By State   \n",
       "272                     Symptoms of Depressive Disorder  Texas  By State   \n",
       "342                        Symptoms of Anxiety Disorder  Texas  By State   \n",
       "...                                                 ...    ...       ...   \n",
       "8794                       Symptoms of Anxiety Disorder  Texas  By State   \n",
       "8893  Symptoms of Anxiety Disorder or Depressive Dis...  Texas  By State   \n",
       "8971                    Symptoms of Depressive Disorder  Texas  By State   \n",
       "9049                       Symptoms of Anxiety Disorder  Texas  By State   \n",
       "9127  Symptoms of Anxiety Disorder or Depressive Dis...  Texas  By State   \n",
       "\n",
       "     Subgroup   Phases Time Period Start Date Time Period End Date  Value  \n",
       "62      Texas  Phase 1             2020-04-23           2020-05-05   24.4  \n",
       "132     Texas  Phase 1             2020-04-23           2020-05-05   29.7  \n",
       "202     Texas  Phase 1             2020-04-23           2020-05-05   34.9  \n",
       "272     Texas  Phase 1             2020-05-07           2020-05-12   25.7  \n",
       "342     Texas  Phase 1             2020-05-07           2020-05-12   32.4  \n",
       "...       ...      ...                    ...                  ...    ...  \n",
       "8794    Texas  Phase 7             2021-12-01           2021-12-13   24.9  \n",
       "8893    Texas  Phase 7             2021-12-01           2021-12-13   29.5  \n",
       "8971    Texas  Phase 7             2021-12-29           2022-01-10   25.0  \n",
       "9049    Texas  Phase 7             2021-12-29           2022-01-10   31.0  \n",
       "9127    Texas  Phase 7             2021-12-29           2022-01-10   35.1  \n",
       "\n",
       "[123 rows x 8 columns]"
      ]
     },
     "execution_count": 74,
     "metadata": {},
     "output_type": "execute_result"
    }
   ],
   "source": [
    "#Create a dataframe for the state of Texas only\n",
    "\n",
    "texas_df = clean_df[clean_df.State == 'Texas']\n",
    "\n",
    "texas_df"
   ]
  },
  {
   "cell_type": "code",
   "execution_count": 79,
   "metadata": {},
   "outputs": [],
   "source": [
    "#Assign colors to each Indicator *texas df only*\n",
    "\n",
    "\n",
    "#create a list of conditions\n",
    "color_conditions = [ \n",
    "    (texas_df['Indicator'] == 'Symptoms of Anxiety Disorder'), #1\n",
    "    (texas_df['Indicator'] == 'Symptoms of Depressive Disorder'), #2\n",
    "    (texas_df['Indicator'] == 'Symptoms of Anxiety Disorder or Depressive Disorder'), #3\n",
    "    ]\n",
    "#create a list of the values we want to assign for each condition\n",
    "colors = ['Purple','Blue','Red']\n",
    "\n",
    "#use np.select to assign values \n",
    "tx_indicator_colors = np.select(color_conditions, colors)"
   ]
  },
  {
   "cell_type": "markdown",
   "metadata": {},
   "source": [
    "### Texas Statistics: Percentage of Symptoms"
   ]
  },
  {
   "cell_type": "code",
   "execution_count": 82,
   "metadata": {},
   "outputs": [
    {
     "data": {
      "image/png": "[encoded data removed]",
      "text/plain": [
       "<Figure size 432x288 with 1 Axes>"
      ]
     },
     "metadata": {
      "needs_background": "light"
     },
     "output_type": "display_data"
    }
   ],
   "source": [
    "#Percentage of Texans that show symptoms across each Phase\n",
    "\n",
    "plt.scatter(\n",
    "    x = texas_df['Phases'],\n",
    "    y = texas_df['Value'], \n",
    "    s= 3,\n",
    "    c= tx_indicator_colors)\n",
    "\n",
    "plt.show()"
   ]
  },
  {
   "cell_type": "markdown",
   "metadata": {},
   "source": [
    "### Texas Statistics: Trends by Age"
   ]
  },
  {
   "cell_type": "code",
   "execution_count": 84,
   "metadata": {},
   "outputs": [],
   "source": [
    "#in the Texas df, look at By Age "
   ]
  },
  {
   "cell_type": "markdown",
   "metadata": {},
   "source": [
    "### Texas Statistics: Trends by Race"
   ]
  },
  {
   "cell_type": "code",
   "execution_count": 85,
   "metadata": {},
   "outputs": [],
   "source": [
    "#in the Texas df, look at By Race in the Group Column"
   ]
  },
  {
   "cell_type": "markdown",
   "metadata": {},
   "source": [
    "### Texas Statistics: Trends in symptoms across phases \n",
    "\n",
    "#This is a bigger task, best to break down into smaller parts. I will start by looking at Phase 1 & Symptoms of Depressive Disorder \n",
    "- Phase 2 & Depressive Disorder \n",
    "- Phace 3 & Depressive Disorder \n",
    "- Phase 1 & Anxiety Disorder\n",
    "- Phase 2 & Anxiety Disorder \n",
    "- and so forth. \n",
    "\n",
    "I could create a function that has paramenters (phase, symptom) "
   ]
  },
  {
   "cell_type": "markdown",
   "metadata": {},
   "source": [
    "# Example of a function"
   ]
  },
  {
   "cell_type": "code",
   "execution_count": 45,
   "metadata": {},
   "outputs": [],
   "source": [
    "#example\n",
    "def function_name(parameters):\n",
    "    # do something\n",
    "    print(\"hello!\")\n",
    "    return None"
   ]
  },
  {
   "cell_type": "code",
   "execution_count": 46,
   "metadata": {},
   "outputs": [],
   "source": [
    "def double(number):\n",
    "    output = number+number\n",
    "    return output"
   ]
  },
  {
   "cell_type": "code",
   "execution_count": 47,
   "metadata": {},
   "outputs": [
    {
     "data": {
      "text/plain": [
       "10"
      ]
     },
     "execution_count": 47,
     "metadata": {},
     "output_type": "execute_result"
    }
   ],
   "source": [
    "double(5)"
   ]
  },
  {
   "cell_type": "code",
   "execution_count": 48,
   "metadata": {},
   "outputs": [
    {
     "data": {
      "text/plain": [
       "30"
      ]
     },
     "execution_count": 48,
     "metadata": {},
     "output_type": "execute_result"
    }
   ],
   "source": [
    "double(15)"
   ]
  }
 ],
 "metadata": {
  "interpreter": {
   "hash": "e8fc03f882824b1251e0f8a8f351b5a865b44cf5525c4efc35dc3fb7668c656c"
  },
  "kernelspec": {
   "display_name": "Python 3.8.12 ('datavenv')",
   "language": "python",
   "name": "python3"
  },
  "language_info": {
   "codemirror_mode": {
    "name": "ipython",
    "version": 3
   },
   "file_extension": ".py",
   "mimetype": "text/x-python",
   "name": "python",
   "nbconvert_exporter": "python",
   "pygments_lexer": "ipython3",
   "version": "3.8.12"
  },
  "orig_nbformat": 4
 },
 "nbformat": 4,
 "nbformat_minor": 2
}
