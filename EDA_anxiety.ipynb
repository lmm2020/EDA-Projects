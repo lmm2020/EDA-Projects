{
 "cells": [
  {
   "cell_type": "markdown",
   "metadata": {},
   "source": [
    "## Indicators of Anxiety or Depression Based on Reported Frequency of Symptoms During Last 7 Days\n",
    "Dataset: https://data.cdc.gov/NCHS/Indicators-of-Anxiety-or-Depression-Based-on-Repor/8pt5-q6wp <br>\n",
    "How this dataset was used: https://www.cdc.gov/nchs/covid19/pulse/mental-health.htm\n",
    "\n",
    "\"Estimates are weighted to adjust for nonresponse and to match Census Bureau estimates of the population by age, gender, race and ethnicity, and educational attainment.\" The [data] shows the percentage of adults who report symptoms of anxiety or depression that have been shown to be associated with diagnoses of generalized anxiety disorder or major depressive disorder.  These symptoms generally occur more than half the days or nearly every day.\n",
    "\n",
    "2019 Benchmarks to compare against the data collected:<br>\n",
    "-8.1% of adults aged 18 and over had symptoms of anxiety disorder<br>\n",
    "-6.5% had symptoms of depressive disorder<br>\n",
    "-10.8% had symptoms of anxiety disorder or depressive disorder"
   ]
  },
  {
   "cell_type": "markdown",
   "metadata": {},
   "source": [
    "The National Center for Health Statistics conducted this survey in 3 phases. <br>\n",
    "\n",
    "Phase 1 04/23/2020 - 07/21/2020<br>\n",
    "Phase 2 08/19/2020 - 10/28/2020<br>\n",
    "Phase 3 10/28/2020 - 03/29/2021<br>\n",
    "Phase 3.1 04/14/2021 - 07/05/2021<br>\n",
    "Phase 3.2 07/21/2021 - 10/11/2021**<br>\n",
    "Phase 3.3 12/01/2021 - 02/07/2022<br>\n",
    "Phase 3.4 02/23/2022 - 05/02/2022<br>\n",
    "**At each phase, the survey asked about the \"last 7 days\". <br> Beginning in Phase 3.2, the survey asked about the \"last two weeks\""
   ]
  },
  {
   "cell_type": "code",
   "execution_count": 2,
   "metadata": {},
   "outputs": [],
   "source": [
    "#import libraries\n",
    "\n",
    "import pandas as pd   \n",
    "import numpy as np"
   ]
  },
  {
   "cell_type": "code",
   "execution_count": 3,
   "metadata": {},
   "outputs": [],
   "source": [
    "#load dataset\n",
    "\n",
    "df = pd.read_csv('AnxietyData.csv', parse_dates=['Time Period Start Date', 'Time Period End Date'])"
   ]
  },
  {
   "cell_type": "markdown",
   "metadata": {},
   "source": [
    "# "
   ]
  },
  {
   "cell_type": "markdown",
   "metadata": {},
   "source": [
    "# EDA"
   ]
  },
  {
   "cell_type": "code",
   "execution_count": 4,
   "metadata": {},
   "outputs": [
    {
     "data": {
      "text/html": [
       "<div>\n",
       "<style scoped>\n",
       "    .dataframe tbody tr th:only-of-type {\n",
       "        vertical-align: middle;\n",
       "    }\n",
       "\n",
       "    .dataframe tbody tr th {\n",
       "        vertical-align: top;\n",
       "    }\n",
       "\n",
       "    .dataframe thead th {\n",
       "        text-align: right;\n",
       "    }\n",
       "</style>\n",
       "<table border=\"1\" class=\"dataframe\">\n",
       "  <thead>\n",
       "    <tr style=\"text-align: right;\">\n",
       "      <th></th>\n",
       "      <th>Indicator</th>\n",
       "      <th>Group</th>\n",
       "      <th>State</th>\n",
       "      <th>Subgroup</th>\n",
       "      <th>Phase</th>\n",
       "      <th>Time Period</th>\n",
       "      <th>Time Period Label</th>\n",
       "      <th>Time Period Start Date</th>\n",
       "      <th>Time Period End Date</th>\n",
       "      <th>Value</th>\n",
       "      <th>Low CI</th>\n",
       "      <th>High CI</th>\n",
       "      <th>Confidence Interval</th>\n",
       "      <th>Quartile Range</th>\n",
       "    </tr>\n",
       "  </thead>\n",
       "  <tbody>\n",
       "    <tr>\n",
       "      <th>0</th>\n",
       "      <td>Symptoms of Depressive Disorder</td>\n",
       "      <td>National Estimate</td>\n",
       "      <td>United States</td>\n",
       "      <td>United States</td>\n",
       "      <td>1</td>\n",
       "      <td>1</td>\n",
       "      <td>Apr 23 - May 5, 2020</td>\n",
       "      <td>2020-04-23</td>\n",
       "      <td>2020-05-05</td>\n",
       "      <td>23.5</td>\n",
       "      <td>22.7</td>\n",
       "      <td>24.3</td>\n",
       "      <td>22.7 - 24.3</td>\n",
       "      <td>NaN</td>\n",
       "    </tr>\n",
       "    <tr>\n",
       "      <th>1</th>\n",
       "      <td>Symptoms of Depressive Disorder</td>\n",
       "      <td>By Age</td>\n",
       "      <td>United States</td>\n",
       "      <td>18 - 29 years</td>\n",
       "      <td>1</td>\n",
       "      <td>1</td>\n",
       "      <td>Apr 23 - May 5, 2020</td>\n",
       "      <td>2020-04-23</td>\n",
       "      <td>2020-05-05</td>\n",
       "      <td>32.7</td>\n",
       "      <td>30.2</td>\n",
       "      <td>35.2</td>\n",
       "      <td>30.2 - 35.2</td>\n",
       "      <td>NaN</td>\n",
       "    </tr>\n",
       "    <tr>\n",
       "      <th>2</th>\n",
       "      <td>Symptoms of Depressive Disorder</td>\n",
       "      <td>By Age</td>\n",
       "      <td>United States</td>\n",
       "      <td>30 - 39 years</td>\n",
       "      <td>1</td>\n",
       "      <td>1</td>\n",
       "      <td>Apr 23 - May 5, 2020</td>\n",
       "      <td>2020-04-23</td>\n",
       "      <td>2020-05-05</td>\n",
       "      <td>25.7</td>\n",
       "      <td>24.1</td>\n",
       "      <td>27.3</td>\n",
       "      <td>24.1 - 27.3</td>\n",
       "      <td>NaN</td>\n",
       "    </tr>\n",
       "    <tr>\n",
       "      <th>3</th>\n",
       "      <td>Symptoms of Depressive Disorder</td>\n",
       "      <td>By Age</td>\n",
       "      <td>United States</td>\n",
       "      <td>40 - 49 years</td>\n",
       "      <td>1</td>\n",
       "      <td>1</td>\n",
       "      <td>Apr 23 - May 5, 2020</td>\n",
       "      <td>2020-04-23</td>\n",
       "      <td>2020-05-05</td>\n",
       "      <td>24.8</td>\n",
       "      <td>23.3</td>\n",
       "      <td>26.2</td>\n",
       "      <td>23.3 - 26.2</td>\n",
       "      <td>NaN</td>\n",
       "    </tr>\n",
       "    <tr>\n",
       "      <th>4</th>\n",
       "      <td>Symptoms of Depressive Disorder</td>\n",
       "      <td>By Age</td>\n",
       "      <td>United States</td>\n",
       "      <td>50 - 59 years</td>\n",
       "      <td>1</td>\n",
       "      <td>1</td>\n",
       "      <td>Apr 23 - May 5, 2020</td>\n",
       "      <td>2020-04-23</td>\n",
       "      <td>2020-05-05</td>\n",
       "      <td>23.2</td>\n",
       "      <td>21.5</td>\n",
       "      <td>25.0</td>\n",
       "      <td>21.5 - 25.0</td>\n",
       "      <td>NaN</td>\n",
       "    </tr>\n",
       "  </tbody>\n",
       "</table>\n",
       "</div>"
      ],
      "text/plain": [
       "                         Indicator              Group          State  \\\n",
       "0  Symptoms of Depressive Disorder  National Estimate  United States   \n",
       "1  Symptoms of Depressive Disorder             By Age  United States   \n",
       "2  Symptoms of Depressive Disorder             By Age  United States   \n",
       "3  Symptoms of Depressive Disorder             By Age  United States   \n",
       "4  Symptoms of Depressive Disorder             By Age  United States   \n",
       "\n",
       "        Subgroup Phase  Time Period     Time Period Label  \\\n",
       "0  United States     1            1  Apr 23 - May 5, 2020   \n",
       "1  18 - 29 years     1            1  Apr 23 - May 5, 2020   \n",
       "2  30 - 39 years     1            1  Apr 23 - May 5, 2020   \n",
       "3  40 - 49 years     1            1  Apr 23 - May 5, 2020   \n",
       "4  50 - 59 years     1            1  Apr 23 - May 5, 2020   \n",
       "\n",
       "  Time Period Start Date Time Period End Date  Value  Low CI  High CI  \\\n",
       "0             2020-04-23           2020-05-05   23.5    22.7     24.3   \n",
       "1             2020-04-23           2020-05-05   32.7    30.2     35.2   \n",
       "2             2020-04-23           2020-05-05   25.7    24.1     27.3   \n",
       "3             2020-04-23           2020-05-05   24.8    23.3     26.2   \n",
       "4             2020-04-23           2020-05-05   23.2    21.5     25.0   \n",
       "\n",
       "  Confidence Interval Quartile Range  \n",
       "0         22.7 - 24.3            NaN  \n",
       "1         30.2 - 35.2            NaN  \n",
       "2         24.1 - 27.3            NaN  \n",
       "3         23.3 - 26.2            NaN  \n",
       "4         21.5 - 25.0            NaN  "
      ]
     },
     "execution_count": 4,
     "metadata": {},
     "output_type": "execute_result"
    }
   ],
   "source": [
    "df.head()"
   ]
  },
  {
   "cell_type": "code",
   "execution_count": 5,
   "metadata": {},
   "outputs": [
    {
     "data": {
      "text/plain": [
       "Indicator                         object\n",
       "Group                             object\n",
       "State                             object\n",
       "Subgroup                          object\n",
       "Phase                             object\n",
       "Time Period                        int64\n",
       "Time Period Label                 object\n",
       "Time Period Start Date    datetime64[ns]\n",
       "Time Period End Date      datetime64[ns]\n",
       "Value                            float64\n",
       "Low CI                           float64\n",
       "High CI                          float64\n",
       "Confidence Interval               object\n",
       "Quartile Range                    object\n",
       "dtype: object"
      ]
     },
     "execution_count": 5,
     "metadata": {},
     "output_type": "execute_result"
    }
   ],
   "source": [
    "df.dtypes"
   ]
  },
  {
   "cell_type": "code",
   "execution_count": 6,
   "metadata": {},
   "outputs": [
    {
     "data": {
      "text/plain": [
       "array(['National Estimate', 'By Age', 'By Sex',\n",
       "       'By Race/Hispanic ethnicity', 'By Education', 'By State',\n",
       "       'By Disability status', 'By Gender identity',\n",
       "       'By Sexual orientation'], dtype=object)"
      ]
     },
     "execution_count": 6,
     "metadata": {},
     "output_type": "execute_result"
    }
   ],
   "source": [
    "#values in the Group column \n",
    "df['Group'].unique()\n",
    "\n",
    "#national estimate in Group column seems different than rest of values"
   ]
  },
  {
   "cell_type": "code",
   "execution_count": 7,
   "metadata": {},
   "outputs": [
    {
     "data": {
      "text/plain": [
       "array(['United States', '18 - 29 years', '30 - 39 years', '40 - 49 years',\n",
       "       '50 - 59 years', '60 - 69 years', '70 - 79 years',\n",
       "       '80 years and above', 'Male', 'Female', 'Hispanic or Latino',\n",
       "       'Non-Hispanic White, single race',\n",
       "       'Non-Hispanic Black, single race',\n",
       "       'Non-Hispanic Asian, single race',\n",
       "       'Non-Hispanic, other races and multiple races',\n",
       "       'Less than a high school diploma', 'High school diploma or GED',\n",
       "       \"Some college/Associate's degree\", \"Bachelor's degree or higher\",\n",
       "       'Alabama', 'Alaska', 'Arizona', 'Arkansas', 'California',\n",
       "       'Colorado', 'Connecticut', 'Delaware', 'District of Columbia',\n",
       "       'Florida', 'Georgia', 'Hawaii', 'Idaho', 'Illinois', 'Indiana',\n",
       "       'Iowa', 'Kansas', 'Kentucky', 'Louisiana', 'Maine', 'Maryland',\n",
       "       'Massachusetts', 'Michigan', 'Minnesota', 'Mississippi',\n",
       "       'Missouri', 'Montana', 'Nebraska', 'Nevada', 'New Hampshire',\n",
       "       'New Jersey', 'New Mexico', 'New York', 'North Carolina',\n",
       "       'North Dakota', 'Ohio', 'Oklahoma', 'Oregon', 'Pennsylvania',\n",
       "       'Rhode Island', 'South Carolina', 'South Dakota', 'Tennessee',\n",
       "       'Texas', 'Utah', 'Vermont', 'Virginia', 'Washington',\n",
       "       'West Virginia', 'Wisconsin', 'Wyoming', 'With disability',\n",
       "       'Without disability', 'Cis-gender male', 'Cis-gender female',\n",
       "       'Transgender', 'Gay or lesbian', 'Straight', 'Bisexual'],\n",
       "      dtype=object)"
      ]
     },
     "execution_count": 7,
     "metadata": {},
     "output_type": "execute_result"
    }
   ],
   "source": [
    "df['Subgroup'].unique()\n",
    "#in the article in which this dataset was used, they split up the subgroup categories into y axis categories. \n",
    "#perhaps there is no need to clean this column, but rather create new columns out of each subgroup (age, state, race, orientation)\n"
   ]
  },
  {
   "cell_type": "code",
   "execution_count": 8,
   "metadata": {},
   "outputs": [
    {
     "data": {
      "text/plain": [
       "array(['Symptoms of Depressive Disorder', 'Symptoms of Anxiety Disorder',\n",
       "       'Symptoms of Anxiety Disorder or Depressive Disorder'],\n",
       "      dtype=object)"
      ]
     },
     "execution_count": 8,
     "metadata": {},
     "output_type": "execute_result"
    }
   ],
   "source": [
    "#values in the Indicators column\n",
    "df['Indicator'].unique()"
   ]
  },
  {
   "cell_type": "code",
   "execution_count": 9,
   "metadata": {},
   "outputs": [
    {
     "data": {
      "text/plain": [
       "Timestamp('2020-04-23 00:00:00')"
      ]
     },
     "execution_count": 9,
     "metadata": {},
     "output_type": "execute_result"
    }
   ],
   "source": [
    "#Data collection starts 04/23/2020\n",
    "df['Time Period Start Date'].min()"
   ]
  },
  {
   "cell_type": "code",
   "execution_count": 10,
   "metadata": {},
   "outputs": [
    {
     "data": {
      "text/plain": [
       "Timestamp('2022-01-10 00:00:00')"
      ]
     },
     "execution_count": 10,
     "metadata": {},
     "output_type": "execute_result"
    }
   ],
   "source": [
    "#Data collection ends 01/10/2022\n",
    "df['Time Period End Date'].max()"
   ]
  },
  {
   "cell_type": "code",
   "execution_count": 11,
   "metadata": {},
   "outputs": [
    {
     "data": {
      "text/plain": [
       "array(['United States', 'Alabama', 'Alaska', 'Arizona', 'Arkansas',\n",
       "       'California', 'Colorado', 'Connecticut', 'Delaware',\n",
       "       'District of Columbia', 'Florida', 'Georgia', 'Hawaii', 'Idaho',\n",
       "       'Illinois', 'Indiana', 'Iowa', 'Kansas', 'Kentucky', 'Louisiana',\n",
       "       'Maine', 'Maryland', 'Massachusetts', 'Michigan', 'Minnesota',\n",
       "       'Mississippi', 'Missouri', 'Montana', 'Nebraska', 'Nevada',\n",
       "       'New Hampshire', 'New Jersey', 'New Mexico', 'New York',\n",
       "       'North Carolina', 'North Dakota', 'Ohio', 'Oklahoma', 'Oregon',\n",
       "       'Pennsylvania', 'Rhode Island', 'South Carolina', 'South Dakota',\n",
       "       'Tennessee', 'Texas', 'Utah', 'Vermont', 'Virginia', 'Washington',\n",
       "       'West Virginia', 'Wisconsin', 'Wyoming'], dtype=object)"
      ]
     },
     "execution_count": 11,
     "metadata": {},
     "output_type": "execute_result"
    }
   ],
   "source": [
    "df['State'].unique()"
   ]
  },
  {
   "cell_type": "code",
   "execution_count": 12,
   "metadata": {},
   "outputs": [
    {
     "data": {
      "text/plain": [
       "array(['1', '-1', '2', '3 (Oct 28 � Dec 21)', '3 (Jan 6 � Mar 29)', '3.1',\n",
       "       '3.2', '3.3'], dtype=object)"
      ]
     },
     "execution_count": 12,
     "metadata": {},
     "output_type": "execute_result"
    }
   ],
   "source": [
    "df['Phase'].unique()\n",
    "\n",
    "#considering replacing the values that are not 1,2,3 by using the date ranges"
   ]
  },
  {
   "cell_type": "code",
   "execution_count": 13,
   "metadata": {},
   "outputs": [
    {
     "data": {
      "text/plain": [
       "array([ 1,  2,  3,  4,  5,  6,  7,  8,  9, 10, 11, 12, 13, 14, 15, 16, 17,\n",
       "       18, 19, 20, 21, 22, 23, 24, 25, 26, 27, 28, 29, 30, 31, 32, 33, 34,\n",
       "       35, 36, 37, 38, 39, 40, 41], dtype=int64)"
      ]
     },
     "execution_count": 13,
     "metadata": {},
     "output_type": "execute_result"
    }
   ],
   "source": [
    "df['Time Period'].unique()"
   ]
  },
  {
   "cell_type": "code",
   "execution_count": 14,
   "metadata": {},
   "outputs": [
    {
     "data": {
      "text/plain": [
       "array(['Apr 23 - May 5, 2020', 'May 7 - May 12, 2020',\n",
       "       'May 14 - May 19, 2020', 'May 21 - May 26, 2020',\n",
       "       'May 28 - June 2, 2020', 'June 4 - June 9, 2020',\n",
       "       'June 11 - June 16, 2020', 'June 18 - June 23, 2020',\n",
       "       'June 25 - June 30, 2020', 'July 2 - July 7, 2020',\n",
       "       'July 9 - July 14, 2020', 'July 16 - July 21, 2020',\n",
       "       'July 22 - Aug 18, 2020', 'Aug 19 - Aug 31, 2020',\n",
       "       'Sep 2 - Sep 14, 2020', 'Sep 16 - Sep 28, 2020',\n",
       "       'Sep 30 - Oct 12, 2020', 'Oct 14 - Oct 26, 2020',\n",
       "       'Oct 28 - Nov 9, 2020', 'Nov 11 - Nov 23, 2020',\n",
       "       'Nov 25 - Dec 7, 2020', 'Dec 9 - Dec 21, 2020',\n",
       "       'Dec 22, 2020 - Jan 5, 2021', 'Jan 6 - Jan 18, 2021',\n",
       "       'Jan 20 - Feb 1, 2021', 'Feb 3 - Feb 15, 2021',\n",
       "       'Feb 17 - Mar 1, 2021', 'Mar 3 - Mar 15, 2021',\n",
       "       'Mar 17 - Mar 29, 2021', 'Mar 30 - Apr 13, 2021',\n",
       "       'Apr 14 - Apr 26, 2021', 'Apr 28 - May 10, 2021',\n",
       "       'May 12 - May 24, 2021', 'May 26 - Jun 7, 2021',\n",
       "       'Jun 9 - Jun 21, 2021', 'Jun 23 - Jul 5, 2021',\n",
       "       'Jul 6 - Jul 20, 2021', 'Jul 21 - Aug 2, 2021',\n",
       "       'Aug 4 - Aug 16, 2021', 'Aug 18 - Aug 30, 2021',\n",
       "       'Sep 1 - Sep 13, 2021', 'Sep 15 - Sep 27, 2021',\n",
       "       'Sep 29 - Oct 11, 2021', 'Oct 12 - Nov 30, 2021',\n",
       "       'Dec 1 - Dec 13, 2021', 'Dec 29, 2021 - Jan 10, 2022'],\n",
       "      dtype=object)"
      ]
     },
     "execution_count": 14,
     "metadata": {},
     "output_type": "execute_result"
    }
   ],
   "source": [
    "df['Time Period Label'].unique()"
   ]
  },
  {
   "cell_type": "code",
   "execution_count": 15,
   "metadata": {},
   "outputs": [
    {
     "data": {
      "text/plain": [
       "0"
      ]
     },
     "execution_count": 15,
     "metadata": {},
     "output_type": "execute_result"
    }
   ],
   "source": [
    "df['Time Period Label'].isnull().sum()\n",
    "\n",
    "#Time Period Label, Time Period Start Date and End Date have no missing values and are consistent across the df\n",
    "#Using one of these columnns will be more reliable for the purpose of standardizing the data than using the Phase column \n",
    "#Unclear what the current values in Phase mean so I will create a new set of values"
   ]
  },
  {
   "cell_type": "code",
   "execution_count": 16,
   "metadata": {},
   "outputs": [
    {
     "data": {
      "text/html": [
       "<div>\n",
       "<style scoped>\n",
       "    .dataframe tbody tr th:only-of-type {\n",
       "        vertical-align: middle;\n",
       "    }\n",
       "\n",
       "    .dataframe tbody tr th {\n",
       "        vertical-align: top;\n",
       "    }\n",
       "\n",
       "    .dataframe thead th {\n",
       "        text-align: right;\n",
       "    }\n",
       "</style>\n",
       "<table border=\"1\" class=\"dataframe\">\n",
       "  <thead>\n",
       "    <tr style=\"text-align: right;\">\n",
       "      <th></th>\n",
       "      <th>Phase</th>\n",
       "      <th>Time Period</th>\n",
       "      <th>Time Period Label</th>\n",
       "      <th>Time Period Start Date</th>\n",
       "      <th>Time Period End Date</th>\n",
       "    </tr>\n",
       "  </thead>\n",
       "  <tbody>\n",
       "    <tr>\n",
       "      <th>0</th>\n",
       "      <td>1</td>\n",
       "      <td>1</td>\n",
       "      <td>Apr 23 - May 5, 2020</td>\n",
       "      <td>2020-04-23</td>\n",
       "      <td>2020-05-05</td>\n",
       "    </tr>\n",
       "    <tr>\n",
       "      <th>1</th>\n",
       "      <td>1</td>\n",
       "      <td>1</td>\n",
       "      <td>Apr 23 - May 5, 2020</td>\n",
       "      <td>2020-04-23</td>\n",
       "      <td>2020-05-05</td>\n",
       "    </tr>\n",
       "    <tr>\n",
       "      <th>2</th>\n",
       "      <td>1</td>\n",
       "      <td>1</td>\n",
       "      <td>Apr 23 - May 5, 2020</td>\n",
       "      <td>2020-04-23</td>\n",
       "      <td>2020-05-05</td>\n",
       "    </tr>\n",
       "    <tr>\n",
       "      <th>3</th>\n",
       "      <td>1</td>\n",
       "      <td>1</td>\n",
       "      <td>Apr 23 - May 5, 2020</td>\n",
       "      <td>2020-04-23</td>\n",
       "      <td>2020-05-05</td>\n",
       "    </tr>\n",
       "    <tr>\n",
       "      <th>4</th>\n",
       "      <td>1</td>\n",
       "      <td>1</td>\n",
       "      <td>Apr 23 - May 5, 2020</td>\n",
       "      <td>2020-04-23</td>\n",
       "      <td>2020-05-05</td>\n",
       "    </tr>\n",
       "    <tr>\n",
       "      <th>...</th>\n",
       "      <td>...</td>\n",
       "      <td>...</td>\n",
       "      <td>...</td>\n",
       "      <td>...</td>\n",
       "      <td>...</td>\n",
       "    </tr>\n",
       "    <tr>\n",
       "      <th>9130</th>\n",
       "      <td>3.3</td>\n",
       "      <td>41</td>\n",
       "      <td>Dec 29, 2021 - Jan 10, 2022</td>\n",
       "      <td>2021-12-29</td>\n",
       "      <td>2022-01-10</td>\n",
       "    </tr>\n",
       "    <tr>\n",
       "      <th>9131</th>\n",
       "      <td>3.3</td>\n",
       "      <td>41</td>\n",
       "      <td>Dec 29, 2021 - Jan 10, 2022</td>\n",
       "      <td>2021-12-29</td>\n",
       "      <td>2022-01-10</td>\n",
       "    </tr>\n",
       "    <tr>\n",
       "      <th>9132</th>\n",
       "      <td>3.3</td>\n",
       "      <td>41</td>\n",
       "      <td>Dec 29, 2021 - Jan 10, 2022</td>\n",
       "      <td>2021-12-29</td>\n",
       "      <td>2022-01-10</td>\n",
       "    </tr>\n",
       "    <tr>\n",
       "      <th>9133</th>\n",
       "      <td>3.3</td>\n",
       "      <td>41</td>\n",
       "      <td>Dec 29, 2021 - Jan 10, 2022</td>\n",
       "      <td>2021-12-29</td>\n",
       "      <td>2022-01-10</td>\n",
       "    </tr>\n",
       "    <tr>\n",
       "      <th>9134</th>\n",
       "      <td>3.3</td>\n",
       "      <td>41</td>\n",
       "      <td>Dec 29, 2021 - Jan 10, 2022</td>\n",
       "      <td>2021-12-29</td>\n",
       "      <td>2022-01-10</td>\n",
       "    </tr>\n",
       "  </tbody>\n",
       "</table>\n",
       "<p>9135 rows × 5 columns</p>\n",
       "</div>"
      ],
      "text/plain": [
       "     Phase  Time Period            Time Period Label Time Period Start Date  \\\n",
       "0        1            1         Apr 23 - May 5, 2020             2020-04-23   \n",
       "1        1            1         Apr 23 - May 5, 2020             2020-04-23   \n",
       "2        1            1         Apr 23 - May 5, 2020             2020-04-23   \n",
       "3        1            1         Apr 23 - May 5, 2020             2020-04-23   \n",
       "4        1            1         Apr 23 - May 5, 2020             2020-04-23   \n",
       "...    ...          ...                          ...                    ...   \n",
       "9130   3.3           41  Dec 29, 2021 - Jan 10, 2022             2021-12-29   \n",
       "9131   3.3           41  Dec 29, 2021 - Jan 10, 2022             2021-12-29   \n",
       "9132   3.3           41  Dec 29, 2021 - Jan 10, 2022             2021-12-29   \n",
       "9133   3.3           41  Dec 29, 2021 - Jan 10, 2022             2021-12-29   \n",
       "9134   3.3           41  Dec 29, 2021 - Jan 10, 2022             2021-12-29   \n",
       "\n",
       "     Time Period End Date  \n",
       "0              2020-05-05  \n",
       "1              2020-05-05  \n",
       "2              2020-05-05  \n",
       "3              2020-05-05  \n",
       "4              2020-05-05  \n",
       "...                   ...  \n",
       "9130           2022-01-10  \n",
       "9131           2022-01-10  \n",
       "9132           2022-01-10  \n",
       "9133           2022-01-10  \n",
       "9134           2022-01-10  \n",
       "\n",
       "[9135 rows x 5 columns]"
      ]
     },
     "execution_count": 16,
     "metadata": {},
     "output_type": "execute_result"
    }
   ],
   "source": [
    "#create df of all date related columns\n",
    "Dates = df[['Phase','Time Period','Time Period Label','Time Period Start Date', 'Time Period End Date']]\n",
    "Dates"
   ]
  },
  {
   "cell_type": "code",
   "execution_count": 17,
   "metadata": {},
   "outputs": [
    {
     "data": {
      "text/plain": [
       "Phase                             object\n",
       "Time Period                        int64\n",
       "Time Period Label                 object\n",
       "Time Period Start Date    datetime64[ns]\n",
       "Time Period End Date      datetime64[ns]\n",
       "dtype: object"
      ]
     },
     "execution_count": 17,
     "metadata": {},
     "output_type": "execute_result"
    }
   ],
   "source": [
    "Dates.dtypes"
   ]
  },
  {
   "cell_type": "code",
   "execution_count": 18,
   "metadata": {},
   "outputs": [
    {
     "data": {
      "text/html": [
       "<div>\n",
       "<style scoped>\n",
       "    .dataframe tbody tr th:only-of-type {\n",
       "        vertical-align: middle;\n",
       "    }\n",
       "\n",
       "    .dataframe tbody tr th {\n",
       "        vertical-align: top;\n",
       "    }\n",
       "\n",
       "    .dataframe thead th {\n",
       "        text-align: right;\n",
       "    }\n",
       "</style>\n",
       "<table border=\"1\" class=\"dataframe\">\n",
       "  <thead>\n",
       "    <tr style=\"text-align: right;\">\n",
       "      <th></th>\n",
       "      <th>Indicator</th>\n",
       "      <th>Group</th>\n",
       "      <th>State</th>\n",
       "      <th>Subgroup</th>\n",
       "      <th>Phase</th>\n",
       "      <th>Time Period</th>\n",
       "      <th>Time Period Label</th>\n",
       "      <th>Time Period Start Date</th>\n",
       "      <th>Time Period End Date</th>\n",
       "      <th>Value</th>\n",
       "      <th>Low CI</th>\n",
       "      <th>High CI</th>\n",
       "      <th>Confidence Interval</th>\n",
       "      <th>Quartile Range</th>\n",
       "      <th>NewPhase</th>\n",
       "    </tr>\n",
       "  </thead>\n",
       "  <tbody>\n",
       "    <tr>\n",
       "      <th>0</th>\n",
       "      <td>Symptoms of Depressive Disorder</td>\n",
       "      <td>National Estimate</td>\n",
       "      <td>United States</td>\n",
       "      <td>United States</td>\n",
       "      <td>1</td>\n",
       "      <td>1</td>\n",
       "      <td>Apr 23 - May 5, 2020</td>\n",
       "      <td>2020-04-23</td>\n",
       "      <td>2020-05-05</td>\n",
       "      <td>23.5</td>\n",
       "      <td>22.7</td>\n",
       "      <td>24.3</td>\n",
       "      <td>22.7 - 24.3</td>\n",
       "      <td>NaN</td>\n",
       "      <td>Phase 1</td>\n",
       "    </tr>\n",
       "    <tr>\n",
       "      <th>1</th>\n",
       "      <td>Symptoms of Depressive Disorder</td>\n",
       "      <td>By Age</td>\n",
       "      <td>United States</td>\n",
       "      <td>18 - 29 years</td>\n",
       "      <td>1</td>\n",
       "      <td>1</td>\n",
       "      <td>Apr 23 - May 5, 2020</td>\n",
       "      <td>2020-04-23</td>\n",
       "      <td>2020-05-05</td>\n",
       "      <td>32.7</td>\n",
       "      <td>30.2</td>\n",
       "      <td>35.2</td>\n",
       "      <td>30.2 - 35.2</td>\n",
       "      <td>NaN</td>\n",
       "      <td>Phase 1</td>\n",
       "    </tr>\n",
       "    <tr>\n",
       "      <th>2</th>\n",
       "      <td>Symptoms of Depressive Disorder</td>\n",
       "      <td>By Age</td>\n",
       "      <td>United States</td>\n",
       "      <td>30 - 39 years</td>\n",
       "      <td>1</td>\n",
       "      <td>1</td>\n",
       "      <td>Apr 23 - May 5, 2020</td>\n",
       "      <td>2020-04-23</td>\n",
       "      <td>2020-05-05</td>\n",
       "      <td>25.7</td>\n",
       "      <td>24.1</td>\n",
       "      <td>27.3</td>\n",
       "      <td>24.1 - 27.3</td>\n",
       "      <td>NaN</td>\n",
       "      <td>Phase 1</td>\n",
       "    </tr>\n",
       "    <tr>\n",
       "      <th>3</th>\n",
       "      <td>Symptoms of Depressive Disorder</td>\n",
       "      <td>By Age</td>\n",
       "      <td>United States</td>\n",
       "      <td>40 - 49 years</td>\n",
       "      <td>1</td>\n",
       "      <td>1</td>\n",
       "      <td>Apr 23 - May 5, 2020</td>\n",
       "      <td>2020-04-23</td>\n",
       "      <td>2020-05-05</td>\n",
       "      <td>24.8</td>\n",
       "      <td>23.3</td>\n",
       "      <td>26.2</td>\n",
       "      <td>23.3 - 26.2</td>\n",
       "      <td>NaN</td>\n",
       "      <td>Phase 1</td>\n",
       "    </tr>\n",
       "    <tr>\n",
       "      <th>4</th>\n",
       "      <td>Symptoms of Depressive Disorder</td>\n",
       "      <td>By Age</td>\n",
       "      <td>United States</td>\n",
       "      <td>50 - 59 years</td>\n",
       "      <td>1</td>\n",
       "      <td>1</td>\n",
       "      <td>Apr 23 - May 5, 2020</td>\n",
       "      <td>2020-04-23</td>\n",
       "      <td>2020-05-05</td>\n",
       "      <td>23.2</td>\n",
       "      <td>21.5</td>\n",
       "      <td>25.0</td>\n",
       "      <td>21.5 - 25.0</td>\n",
       "      <td>NaN</td>\n",
       "      <td>Phase 1</td>\n",
       "    </tr>\n",
       "  </tbody>\n",
       "</table>\n",
       "</div>"
      ],
      "text/plain": [
       "                         Indicator              Group          State  \\\n",
       "0  Symptoms of Depressive Disorder  National Estimate  United States   \n",
       "1  Symptoms of Depressive Disorder             By Age  United States   \n",
       "2  Symptoms of Depressive Disorder             By Age  United States   \n",
       "3  Symptoms of Depressive Disorder             By Age  United States   \n",
       "4  Symptoms of Depressive Disorder             By Age  United States   \n",
       "\n",
       "        Subgroup Phase  Time Period     Time Period Label  \\\n",
       "0  United States     1            1  Apr 23 - May 5, 2020   \n",
       "1  18 - 29 years     1            1  Apr 23 - May 5, 2020   \n",
       "2  30 - 39 years     1            1  Apr 23 - May 5, 2020   \n",
       "3  40 - 49 years     1            1  Apr 23 - May 5, 2020   \n",
       "4  50 - 59 years     1            1  Apr 23 - May 5, 2020   \n",
       "\n",
       "  Time Period Start Date Time Period End Date  Value  Low CI  High CI  \\\n",
       "0             2020-04-23           2020-05-05   23.5    22.7     24.3   \n",
       "1             2020-04-23           2020-05-05   32.7    30.2     35.2   \n",
       "2             2020-04-23           2020-05-05   25.7    24.1     27.3   \n",
       "3             2020-04-23           2020-05-05   24.8    23.3     26.2   \n",
       "4             2020-04-23           2020-05-05   23.2    21.5     25.0   \n",
       "\n",
       "  Confidence Interval Quartile Range NewPhase  \n",
       "0         22.7 - 24.3            NaN  Phase 1  \n",
       "1         30.2 - 35.2            NaN  Phase 1  \n",
       "2         24.1 - 27.3            NaN  Phase 1  \n",
       "3         23.3 - 26.2            NaN  Phase 1  \n",
       "4         21.5 - 25.0            NaN  Phase 1  "
      ]
     },
     "execution_count": 18,
     "metadata": {},
     "output_type": "execute_result"
    }
   ],
   "source": [
    "#create a loop(?) that goes through the start and end date  \n",
    "#assigns it to one of the phases according to it's date range \n",
    "#create a new column with these phase values (call it NewPhase)\n",
    "\n",
    "#create a list of conditions\n",
    "conditions = [ \n",
    "    (df['Time Period Start Date'] >= '2020-04-23T00:00:00.000000000') & (df['Time Period End Date'] <='2020-07-21T00:00:00.000000000'),\n",
    "    (df['Time Period Start Date'] >= '2020-08-19T00:00:00.000000000') & (df['Time Period End Date'] <='2020-10-26T00:00:00.000000000'),\n",
    "    (df['Time Period Start Date'] >= '2020-10-28T00:00:00.000000000') & (df['Time Period End Date'] <='2021-03-29T00:00:00.000000000'),\n",
    "    (df['Time Period Start Date'] >= '2021-04-14T00:00:00.000000000') & (df['Time Period End Date'] <='2021-07-05T00:00:00.000000000'),\n",
    "    (df['Time Period Start Date'] >= '2021-07-21T00:00:00.000000000') & (df['Time Period End Date'] <='2021-10-11T00:00:00.000000000'),\n",
    "    (df['Time Period Start Date'] >= '2021-12-01T00:00:00.000000000') & (df['Time Period End Date'] <='2022-02-07T00:00:00.000000000'),\n",
    "    (df['Time Period Start Date'] >= '2022-02-23T00:00:00.000000000') & (df['Time Period End Date'] <='2022-05-02T00:00:00.000000000')\n",
    "    ]\n",
    "#create a list of the values we want to assign for each condition\n",
    "values = ['Phase 1', 'Phase 2', 'Phase 3', 'Phase 3.1', 'Phase 3.2','Phase 3.3', 'Phase 3.4']\n",
    "\n",
    "#create a new column and use np.select to assign values to it using our lists as arguments\n",
    "df['NewPhase'] = np.select(conditions, values)\n",
    "\n",
    "#display the updated dataframe\n",
    "df.head()"
   ]
  },
  {
   "cell_type": "code",
   "execution_count": 21,
   "metadata": {},
   "outputs": [
    {
     "data": {
      "text/html": [
       "<div>\n",
       "<style scoped>\n",
       "    .dataframe tbody tr th:only-of-type {\n",
       "        vertical-align: middle;\n",
       "    }\n",
       "\n",
       "    .dataframe tbody tr th {\n",
       "        vertical-align: top;\n",
       "    }\n",
       "\n",
       "    .dataframe thead th {\n",
       "        text-align: right;\n",
       "    }\n",
       "</style>\n",
       "<table border=\"1\" class=\"dataframe\">\n",
       "  <thead>\n",
       "    <tr style=\"text-align: right;\">\n",
       "      <th></th>\n",
       "      <th>Indicator</th>\n",
       "      <th>Group</th>\n",
       "      <th>State</th>\n",
       "      <th>Subgroup</th>\n",
       "      <th>Phase</th>\n",
       "      <th>Time Period</th>\n",
       "      <th>Time Period Label</th>\n",
       "      <th>Time Period Start Date</th>\n",
       "      <th>Time Period End Date</th>\n",
       "      <th>Value</th>\n",
       "      <th>Low CI</th>\n",
       "      <th>High CI</th>\n",
       "      <th>Confidence Interval</th>\n",
       "      <th>Quartile Range</th>\n",
       "      <th>NewPhase</th>\n",
       "    </tr>\n",
       "  </thead>\n",
       "  <tbody>\n",
       "    <tr>\n",
       "      <th>0</th>\n",
       "      <td>Symptoms of Depressive Disorder</td>\n",
       "      <td>National Estimate</td>\n",
       "      <td>United States</td>\n",
       "      <td>United States</td>\n",
       "      <td>1</td>\n",
       "      <td>1</td>\n",
       "      <td>Apr 23 - May 5, 2020</td>\n",
       "      <td>2020-04-23</td>\n",
       "      <td>2020-05-05</td>\n",
       "      <td>23.5</td>\n",
       "      <td>22.7</td>\n",
       "      <td>24.3</td>\n",
       "      <td>22.7 - 24.3</td>\n",
       "      <td>NaN</td>\n",
       "      <td>Phase 1</td>\n",
       "    </tr>\n",
       "    <tr>\n",
       "      <th>1</th>\n",
       "      <td>Symptoms of Depressive Disorder</td>\n",
       "      <td>By Age</td>\n",
       "      <td>United States</td>\n",
       "      <td>18 - 29 years</td>\n",
       "      <td>1</td>\n",
       "      <td>1</td>\n",
       "      <td>Apr 23 - May 5, 2020</td>\n",
       "      <td>2020-04-23</td>\n",
       "      <td>2020-05-05</td>\n",
       "      <td>32.7</td>\n",
       "      <td>30.2</td>\n",
       "      <td>35.2</td>\n",
       "      <td>30.2 - 35.2</td>\n",
       "      <td>NaN</td>\n",
       "      <td>Phase 1</td>\n",
       "    </tr>\n",
       "    <tr>\n",
       "      <th>2</th>\n",
       "      <td>Symptoms of Depressive Disorder</td>\n",
       "      <td>By Age</td>\n",
       "      <td>United States</td>\n",
       "      <td>30 - 39 years</td>\n",
       "      <td>1</td>\n",
       "      <td>1</td>\n",
       "      <td>Apr 23 - May 5, 2020</td>\n",
       "      <td>2020-04-23</td>\n",
       "      <td>2020-05-05</td>\n",
       "      <td>25.7</td>\n",
       "      <td>24.1</td>\n",
       "      <td>27.3</td>\n",
       "      <td>24.1 - 27.3</td>\n",
       "      <td>NaN</td>\n",
       "      <td>Phase 1</td>\n",
       "    </tr>\n",
       "    <tr>\n",
       "      <th>3</th>\n",
       "      <td>Symptoms of Depressive Disorder</td>\n",
       "      <td>By Age</td>\n",
       "      <td>United States</td>\n",
       "      <td>40 - 49 years</td>\n",
       "      <td>1</td>\n",
       "      <td>1</td>\n",
       "      <td>Apr 23 - May 5, 2020</td>\n",
       "      <td>2020-04-23</td>\n",
       "      <td>2020-05-05</td>\n",
       "      <td>24.8</td>\n",
       "      <td>23.3</td>\n",
       "      <td>26.2</td>\n",
       "      <td>23.3 - 26.2</td>\n",
       "      <td>NaN</td>\n",
       "      <td>Phase 1</td>\n",
       "    </tr>\n",
       "    <tr>\n",
       "      <th>4</th>\n",
       "      <td>Symptoms of Depressive Disorder</td>\n",
       "      <td>By Age</td>\n",
       "      <td>United States</td>\n",
       "      <td>50 - 59 years</td>\n",
       "      <td>1</td>\n",
       "      <td>1</td>\n",
       "      <td>Apr 23 - May 5, 2020</td>\n",
       "      <td>2020-04-23</td>\n",
       "      <td>2020-05-05</td>\n",
       "      <td>23.2</td>\n",
       "      <td>21.5</td>\n",
       "      <td>25.0</td>\n",
       "      <td>21.5 - 25.0</td>\n",
       "      <td>NaN</td>\n",
       "      <td>Phase 1</td>\n",
       "    </tr>\n",
       "  </tbody>\n",
       "</table>\n",
       "</div>"
      ],
      "text/plain": [
       "                         Indicator              Group          State  \\\n",
       "0  Symptoms of Depressive Disorder  National Estimate  United States   \n",
       "1  Symptoms of Depressive Disorder             By Age  United States   \n",
       "2  Symptoms of Depressive Disorder             By Age  United States   \n",
       "3  Symptoms of Depressive Disorder             By Age  United States   \n",
       "4  Symptoms of Depressive Disorder             By Age  United States   \n",
       "\n",
       "        Subgroup Phase  Time Period     Time Period Label  \\\n",
       "0  United States     1            1  Apr 23 - May 5, 2020   \n",
       "1  18 - 29 years     1            1  Apr 23 - May 5, 2020   \n",
       "2  30 - 39 years     1            1  Apr 23 - May 5, 2020   \n",
       "3  40 - 49 years     1            1  Apr 23 - May 5, 2020   \n",
       "4  50 - 59 years     1            1  Apr 23 - May 5, 2020   \n",
       "\n",
       "  Time Period Start Date Time Period End Date  Value  Low CI  High CI  \\\n",
       "0             2020-04-23           2020-05-05   23.5    22.7     24.3   \n",
       "1             2020-04-23           2020-05-05   32.7    30.2     35.2   \n",
       "2             2020-04-23           2020-05-05   25.7    24.1     27.3   \n",
       "3             2020-04-23           2020-05-05   24.8    23.3     26.2   \n",
       "4             2020-04-23           2020-05-05   23.2    21.5     25.0   \n",
       "\n",
       "  Confidence Interval Quartile Range NewPhase  \n",
       "0         22.7 - 24.3            NaN  Phase 1  \n",
       "1         30.2 - 35.2            NaN  Phase 1  \n",
       "2         24.1 - 27.3            NaN  Phase 1  \n",
       "3         23.3 - 26.2            NaN  Phase 1  \n",
       "4         21.5 - 25.0            NaN  Phase 1  "
      ]
     },
     "execution_count": 21,
     "metadata": {},
     "output_type": "execute_result"
    }
   ],
   "source": [
    "df.head()"
   ]
  },
  {
   "cell_type": "code",
   "execution_count": 22,
   "metadata": {},
   "outputs": [
    {
     "data": {
      "text/plain": [
       "Indicator                    0\n",
       "Group                        0\n",
       "State                        0\n",
       "Subgroup                     0\n",
       "Phase                        0\n",
       "Time Period                  0\n",
       "Time Period Label            0\n",
       "Time Period Start Date       0\n",
       "Time Period End Date         0\n",
       "Value                      297\n",
       "Low CI                     297\n",
       "High CI                    297\n",
       "Confidence Interval        297\n",
       "Quartile Range            2862\n",
       "NewPhase                     0\n",
       "dtype: int64"
      ]
     },
     "execution_count": 22,
     "metadata": {},
     "output_type": "execute_result"
    }
   ],
   "source": [
    "#check for any df missing values\n",
    "df.isnull().sum()"
   ]
  },
  {
   "cell_type": "code",
   "execution_count": 23,
   "metadata": {},
   "outputs": [
    {
     "data": {
      "text/html": [
       "<div>\n",
       "<style scoped>\n",
       "    .dataframe tbody tr th:only-of-type {\n",
       "        vertical-align: middle;\n",
       "    }\n",
       "\n",
       "    .dataframe tbody tr th {\n",
       "        vertical-align: top;\n",
       "    }\n",
       "\n",
       "    .dataframe thead th {\n",
       "        text-align: right;\n",
       "    }\n",
       "</style>\n",
       "<table border=\"1\" class=\"dataframe\">\n",
       "  <thead>\n",
       "    <tr style=\"text-align: right;\">\n",
       "      <th></th>\n",
       "      <th>Indicator</th>\n",
       "      <th>Group</th>\n",
       "      <th>State</th>\n",
       "      <th>Subgroup</th>\n",
       "      <th>Phase</th>\n",
       "      <th>Time Period</th>\n",
       "      <th>Time Period Label</th>\n",
       "      <th>Time Period Start Date</th>\n",
       "      <th>Time Period End Date</th>\n",
       "      <th>Value</th>\n",
       "      <th>Low CI</th>\n",
       "      <th>High CI</th>\n",
       "      <th>Confidence Interval</th>\n",
       "      <th>Quartile Range</th>\n",
       "      <th>NewPhase</th>\n",
       "    </tr>\n",
       "  </thead>\n",
       "  <tbody>\n",
       "    <tr>\n",
       "      <th>2520</th>\n",
       "      <td>Symptoms of Depressive Disorder</td>\n",
       "      <td>National Estimate</td>\n",
       "      <td>United States</td>\n",
       "      <td>United States</td>\n",
       "      <td>-1</td>\n",
       "      <td>1</td>\n",
       "      <td>July 22 - Aug 18, 2020</td>\n",
       "      <td>2020-07-22</td>\n",
       "      <td>2020-08-18</td>\n",
       "      <td>NaN</td>\n",
       "      <td>NaN</td>\n",
       "      <td>NaN</td>\n",
       "      <td>NaN</td>\n",
       "      <td>NaN</td>\n",
       "      <td>0</td>\n",
       "    </tr>\n",
       "    <tr>\n",
       "      <th>2521</th>\n",
       "      <td>Symptoms of Depressive Disorder</td>\n",
       "      <td>By Age</td>\n",
       "      <td>United States</td>\n",
       "      <td>18 - 29 years</td>\n",
       "      <td>-1</td>\n",
       "      <td>1</td>\n",
       "      <td>July 22 - Aug 18, 2020</td>\n",
       "      <td>2020-07-22</td>\n",
       "      <td>2020-08-18</td>\n",
       "      <td>NaN</td>\n",
       "      <td>NaN</td>\n",
       "      <td>NaN</td>\n",
       "      <td>NaN</td>\n",
       "      <td>NaN</td>\n",
       "      <td>0</td>\n",
       "    </tr>\n",
       "    <tr>\n",
       "      <th>2522</th>\n",
       "      <td>Symptoms of Depressive Disorder</td>\n",
       "      <td>By Age</td>\n",
       "      <td>United States</td>\n",
       "      <td>30 - 39 years</td>\n",
       "      <td>-1</td>\n",
       "      <td>1</td>\n",
       "      <td>July 22 - Aug 18, 2020</td>\n",
       "      <td>2020-07-22</td>\n",
       "      <td>2020-08-18</td>\n",
       "      <td>NaN</td>\n",
       "      <td>NaN</td>\n",
       "      <td>NaN</td>\n",
       "      <td>NaN</td>\n",
       "      <td>NaN</td>\n",
       "      <td>0</td>\n",
       "    </tr>\n",
       "    <tr>\n",
       "      <th>2523</th>\n",
       "      <td>Symptoms of Depressive Disorder</td>\n",
       "      <td>By Age</td>\n",
       "      <td>United States</td>\n",
       "      <td>40 - 49 years</td>\n",
       "      <td>-1</td>\n",
       "      <td>1</td>\n",
       "      <td>July 22 - Aug 18, 2020</td>\n",
       "      <td>2020-07-22</td>\n",
       "      <td>2020-08-18</td>\n",
       "      <td>NaN</td>\n",
       "      <td>NaN</td>\n",
       "      <td>NaN</td>\n",
       "      <td>NaN</td>\n",
       "      <td>NaN</td>\n",
       "      <td>0</td>\n",
       "    </tr>\n",
       "    <tr>\n",
       "      <th>2524</th>\n",
       "      <td>Symptoms of Depressive Disorder</td>\n",
       "      <td>By Age</td>\n",
       "      <td>United States</td>\n",
       "      <td>50 - 59 years</td>\n",
       "      <td>-1</td>\n",
       "      <td>1</td>\n",
       "      <td>July 22 - Aug 18, 2020</td>\n",
       "      <td>2020-07-22</td>\n",
       "      <td>2020-08-18</td>\n",
       "      <td>NaN</td>\n",
       "      <td>NaN</td>\n",
       "      <td>NaN</td>\n",
       "      <td>NaN</td>\n",
       "      <td>NaN</td>\n",
       "      <td>0</td>\n",
       "    </tr>\n",
       "  </tbody>\n",
       "</table>\n",
       "</div>"
      ],
      "text/plain": [
       "                            Indicator              Group          State  \\\n",
       "2520  Symptoms of Depressive Disorder  National Estimate  United States   \n",
       "2521  Symptoms of Depressive Disorder             By Age  United States   \n",
       "2522  Symptoms of Depressive Disorder             By Age  United States   \n",
       "2523  Symptoms of Depressive Disorder             By Age  United States   \n",
       "2524  Symptoms of Depressive Disorder             By Age  United States   \n",
       "\n",
       "           Subgroup Phase  Time Period       Time Period Label  \\\n",
       "2520  United States    -1            1  July 22 - Aug 18, 2020   \n",
       "2521  18 - 29 years    -1            1  July 22 - Aug 18, 2020   \n",
       "2522  30 - 39 years    -1            1  July 22 - Aug 18, 2020   \n",
       "2523  40 - 49 years    -1            1  July 22 - Aug 18, 2020   \n",
       "2524  50 - 59 years    -1            1  July 22 - Aug 18, 2020   \n",
       "\n",
       "     Time Period Start Date Time Period End Date  Value  Low CI  High CI  \\\n",
       "2520             2020-07-22           2020-08-18    NaN     NaN      NaN   \n",
       "2521             2020-07-22           2020-08-18    NaN     NaN      NaN   \n",
       "2522             2020-07-22           2020-08-18    NaN     NaN      NaN   \n",
       "2523             2020-07-22           2020-08-18    NaN     NaN      NaN   \n",
       "2524             2020-07-22           2020-08-18    NaN     NaN      NaN   \n",
       "\n",
       "     Confidence Interval Quartile Range NewPhase  \n",
       "2520                 NaN            NaN        0  \n",
       "2521                 NaN            NaN        0  \n",
       "2522                 NaN            NaN        0  \n",
       "2523                 NaN            NaN        0  \n",
       "2524                 NaN            NaN        0  "
      ]
     },
     "execution_count": 23,
     "metadata": {},
     "output_type": "execute_result"
    }
   ],
   "source": [
    "#missing values for the Value column\n",
    "df[df['Value'].isna()].head()"
   ]
  },
  {
   "cell_type": "code",
   "execution_count": 24,
   "metadata": {},
   "outputs": [
    {
     "data": {
      "text/plain": [
       "array(['National Estimate', 'By Age', 'By Sex',\n",
       "       'By Race/Hispanic ethnicity', 'By Education',\n",
       "       'By Disability status'], dtype=object)"
      ]
     },
     "execution_count": 24,
     "metadata": {},
     "output_type": "execute_result"
    }
   ],
   "source": [
    "#Ask Vicky again about this. I think I understand... \n",
    "#This is showing the Group column values that have NA in the Value column \n",
    "df[df['Value'].isna()]['Group'].unique()"
   ]
  },
  {
   "cell_type": "code",
   "execution_count": 25,
   "metadata": {},
   "outputs": [],
   "source": [
    "#function takes a value from the Group column as the parameter and returns the count of NA\n",
    "def check_na_count(group):\n",
    "    groupdf = df[df['Group'] == group]\n",
    "    length_of_na = len(groupdf[groupdf['Value'].isna()])\n",
    "\n",
    "    length_of_df = len(groupdf)\n",
    "\n",
    "    na_as_percentage = round((length_of_na/length_of_df),2)\n",
    "\n",
    "    outputstring = f\"Out of {length_of_df}, there are {length_of_na} missing values. {na_as_percentage}% missing\" \n",
    "\n",
    "    return outputstring"
   ]
  },
  {
   "cell_type": "code",
   "execution_count": 26,
   "metadata": {},
   "outputs": [
    {
     "data": {
      "text/plain": [
       "'Out of 138, there are 15 missing values. 0.11% missing'"
      ]
     },
     "execution_count": 26,
     "metadata": {},
     "output_type": "execute_result"
    }
   ],
   "source": [
    "check_na_count('National Estimate')"
   ]
  },
  {
   "cell_type": "code",
   "execution_count": 27,
   "metadata": {},
   "outputs": [
    {
     "data": {
      "text/plain": [
       "'Out of 966, there are 105 missing values. 0.11% missing'"
      ]
     },
     "execution_count": 27,
     "metadata": {},
     "output_type": "execute_result"
    }
   ],
   "source": [
    "check_na_count('By Age')"
   ]
  },
  {
   "cell_type": "code",
   "execution_count": 28,
   "metadata": {},
   "outputs": [
    {
     "data": {
      "text/plain": [
       "'Out of 276, there are 30 missing values. 0.11% missing'"
      ]
     },
     "execution_count": 28,
     "metadata": {},
     "output_type": "execute_result"
    }
   ],
   "source": [
    "check_na_count('By Sex')"
   ]
  },
  {
   "cell_type": "code",
   "execution_count": null,
   "metadata": {},
   "outputs": [
    {
     "data": {
      "text/plain": [
       "'Out of 690, there are 75 missing values. 0.11% missing'"
      ]
     },
     "execution_count": 42,
     "metadata": {},
     "output_type": "execute_result"
    }
   ],
   "source": [
    "check_na_count('By Race/Hispanic ethnicity')"
   ]
  },
  {
   "cell_type": "code",
   "execution_count": null,
   "metadata": {},
   "outputs": [
    {
     "data": {
      "text/plain": [
       "'Out of 552, there are 60 missing values. 0.11% missing'"
      ]
     },
     "execution_count": 43,
     "metadata": {},
     "output_type": "execute_result"
    }
   ],
   "source": [
    "check_na_count('By Education')"
   ]
  },
  {
   "cell_type": "code",
   "execution_count": null,
   "metadata": {},
   "outputs": [
    {
     "data": {
      "text/plain": [
       "'Out of 96, there are 12 missing values. 0.12% missing'"
      ]
     },
     "execution_count": 44,
     "metadata": {},
     "output_type": "execute_result"
    }
   ],
   "source": [
    "check_na_count('By Disability status')"
   ]
  },
  {
   "cell_type": "markdown",
   "metadata": {},
   "source": [
    "It seems that the missing na's percentage is not significant enough in any group so will proceed with the data as is. "
   ]
  },
  {
   "cell_type": "markdown",
   "metadata": {},
   "source": [
    "# EDA Questions:<br>\n",
    "After looking through the data some questions to consider: \n",
    "\n",
    "Q: Is there a State that had a higher percentage of symptoms reported? anxiety, depression, both? <br>\n",
    "Q: Is there a group/subgroup affected more than others? <br>\n",
    "Q: Did symptoms get worse, better, or same with each Phase? <br>\n",
    "Q: Is there a Phase that stands out? Would be interesting to try to find contributors (was the state in lockdown, did mask requirements change)\n",
    "\n",
    "Possible projects:<br>\n",
    "-focus on Texas statistics only<br>\n",
    "-select a few states with interesting statistics<br>\n",
    "-show how state mandates have some correlation with anxiety/depression/both<br>\n",
    "-add unemployment data to compare with this dataset?\n",
    "\n",
    "# Objective\n",
    "\n",
    "1. Isolate Texas statistics\n",
    "2. Find trends in Age subgroup.\n",
    "3. Find trends in Race subgroup.\n",
    "4. Find trends in percentage of anxiety, depression, both across different study periods. \n"
   ]
  },
  {
   "cell_type": "markdown",
   "metadata": {},
   "source": [
    "# Isolate Texas statistics"
   ]
  },
  {
   "cell_type": "code",
   "execution_count": 73,
   "metadata": {},
   "outputs": [
    {
     "data": {
      "text/html": [
       "<div>\n",
       "<style scoped>\n",
       "    .dataframe tbody tr th:only-of-type {\n",
       "        vertical-align: middle;\n",
       "    }\n",
       "\n",
       "    .dataframe tbody tr th {\n",
       "        vertical-align: top;\n",
       "    }\n",
       "\n",
       "    .dataframe thead th {\n",
       "        text-align: right;\n",
       "    }\n",
       "</style>\n",
       "<table border=\"1\" class=\"dataframe\">\n",
       "  <thead>\n",
       "    <tr style=\"text-align: right;\">\n",
       "      <th></th>\n",
       "      <th>Indicator</th>\n",
       "      <th>State</th>\n",
       "      <th>Group</th>\n",
       "      <th>Subgroup</th>\n",
       "      <th>NewPhase</th>\n",
       "      <th>Time Period Start Date</th>\n",
       "      <th>Time Period End Date</th>\n",
       "      <th>Value</th>\n",
       "      <th>Low CI</th>\n",
       "      <th>High CI</th>\n",
       "      <th>Confidence Interval</th>\n",
       "      <th>Quartile Range</th>\n",
       "    </tr>\n",
       "  </thead>\n",
       "  <tbody>\n",
       "    <tr>\n",
       "      <th>0</th>\n",
       "      <td>Symptoms of Depressive Disorder</td>\n",
       "      <td>United States</td>\n",
       "      <td>National Estimate</td>\n",
       "      <td>United States</td>\n",
       "      <td>Phase 1</td>\n",
       "      <td>2020-04-23</td>\n",
       "      <td>2020-05-05</td>\n",
       "      <td>23.5</td>\n",
       "      <td>22.7</td>\n",
       "      <td>24.3</td>\n",
       "      <td>22.7 - 24.3</td>\n",
       "      <td>NaN</td>\n",
       "    </tr>\n",
       "    <tr>\n",
       "      <th>1</th>\n",
       "      <td>Symptoms of Depressive Disorder</td>\n",
       "      <td>United States</td>\n",
       "      <td>By Age</td>\n",
       "      <td>18 - 29 years</td>\n",
       "      <td>Phase 1</td>\n",
       "      <td>2020-04-23</td>\n",
       "      <td>2020-05-05</td>\n",
       "      <td>32.7</td>\n",
       "      <td>30.2</td>\n",
       "      <td>35.2</td>\n",
       "      <td>30.2 - 35.2</td>\n",
       "      <td>NaN</td>\n",
       "    </tr>\n",
       "    <tr>\n",
       "      <th>2</th>\n",
       "      <td>Symptoms of Depressive Disorder</td>\n",
       "      <td>United States</td>\n",
       "      <td>By Age</td>\n",
       "      <td>30 - 39 years</td>\n",
       "      <td>Phase 1</td>\n",
       "      <td>2020-04-23</td>\n",
       "      <td>2020-05-05</td>\n",
       "      <td>25.7</td>\n",
       "      <td>24.1</td>\n",
       "      <td>27.3</td>\n",
       "      <td>24.1 - 27.3</td>\n",
       "      <td>NaN</td>\n",
       "    </tr>\n",
       "    <tr>\n",
       "      <th>3</th>\n",
       "      <td>Symptoms of Depressive Disorder</td>\n",
       "      <td>United States</td>\n",
       "      <td>By Age</td>\n",
       "      <td>40 - 49 years</td>\n",
       "      <td>Phase 1</td>\n",
       "      <td>2020-04-23</td>\n",
       "      <td>2020-05-05</td>\n",
       "      <td>24.8</td>\n",
       "      <td>23.3</td>\n",
       "      <td>26.2</td>\n",
       "      <td>23.3 - 26.2</td>\n",
       "      <td>NaN</td>\n",
       "    </tr>\n",
       "    <tr>\n",
       "      <th>4</th>\n",
       "      <td>Symptoms of Depressive Disorder</td>\n",
       "      <td>United States</td>\n",
       "      <td>By Age</td>\n",
       "      <td>50 - 59 years</td>\n",
       "      <td>Phase 1</td>\n",
       "      <td>2020-04-23</td>\n",
       "      <td>2020-05-05</td>\n",
       "      <td>23.2</td>\n",
       "      <td>21.5</td>\n",
       "      <td>25.0</td>\n",
       "      <td>21.5 - 25.0</td>\n",
       "      <td>NaN</td>\n",
       "    </tr>\n",
       "    <tr>\n",
       "      <th>...</th>\n",
       "      <td>...</td>\n",
       "      <td>...</td>\n",
       "      <td>...</td>\n",
       "      <td>...</td>\n",
       "      <td>...</td>\n",
       "      <td>...</td>\n",
       "      <td>...</td>\n",
       "      <td>...</td>\n",
       "      <td>...</td>\n",
       "      <td>...</td>\n",
       "      <td>...</td>\n",
       "      <td>...</td>\n",
       "    </tr>\n",
       "    <tr>\n",
       "      <th>9130</th>\n",
       "      <td>Symptoms of Anxiety Disorder or Depressive Dis...</td>\n",
       "      <td>Virginia</td>\n",
       "      <td>By State</td>\n",
       "      <td>Virginia</td>\n",
       "      <td>Phase 3.3</td>\n",
       "      <td>2021-12-29</td>\n",
       "      <td>2022-01-10</td>\n",
       "      <td>35.4</td>\n",
       "      <td>31.4</td>\n",
       "      <td>39.5</td>\n",
       "      <td>31.4 - 39.5</td>\n",
       "      <td>34.7-40.6</td>\n",
       "    </tr>\n",
       "    <tr>\n",
       "      <th>9131</th>\n",
       "      <td>Symptoms of Anxiety Disorder or Depressive Dis...</td>\n",
       "      <td>Washington</td>\n",
       "      <td>By State</td>\n",
       "      <td>Washington</td>\n",
       "      <td>Phase 3.3</td>\n",
       "      <td>2021-12-29</td>\n",
       "      <td>2022-01-10</td>\n",
       "      <td>32.7</td>\n",
       "      <td>29.4</td>\n",
       "      <td>36.1</td>\n",
       "      <td>29.4 - 36.1</td>\n",
       "      <td>32.3-34.6</td>\n",
       "    </tr>\n",
       "    <tr>\n",
       "      <th>9132</th>\n",
       "      <td>Symptoms of Anxiety Disorder or Depressive Dis...</td>\n",
       "      <td>West Virginia</td>\n",
       "      <td>By State</td>\n",
       "      <td>West Virginia</td>\n",
       "      <td>Phase 3.3</td>\n",
       "      <td>2021-12-29</td>\n",
       "      <td>2022-01-10</td>\n",
       "      <td>34.6</td>\n",
       "      <td>29.3</td>\n",
       "      <td>40.2</td>\n",
       "      <td>29.3 - 40.2</td>\n",
       "      <td>32.3-34.6</td>\n",
       "    </tr>\n",
       "    <tr>\n",
       "      <th>9133</th>\n",
       "      <td>Symptoms of Anxiety Disorder or Depressive Dis...</td>\n",
       "      <td>Wisconsin</td>\n",
       "      <td>By State</td>\n",
       "      <td>Wisconsin</td>\n",
       "      <td>Phase 3.3</td>\n",
       "      <td>2021-12-29</td>\n",
       "      <td>2022-01-10</td>\n",
       "      <td>25.5</td>\n",
       "      <td>21.6</td>\n",
       "      <td>29.8</td>\n",
       "      <td>21.6 - 29.8</td>\n",
       "      <td>24.8-29.7</td>\n",
       "    </tr>\n",
       "    <tr>\n",
       "      <th>9134</th>\n",
       "      <td>Symptoms of Anxiety Disorder or Depressive Dis...</td>\n",
       "      <td>Wyoming</td>\n",
       "      <td>By State</td>\n",
       "      <td>Wyoming</td>\n",
       "      <td>Phase 3.3</td>\n",
       "      <td>2021-12-29</td>\n",
       "      <td>2022-01-10</td>\n",
       "      <td>33.9</td>\n",
       "      <td>28.1</td>\n",
       "      <td>40.1</td>\n",
       "      <td>28.1 - 40.1</td>\n",
       "      <td>32.3-34.6</td>\n",
       "    </tr>\n",
       "  </tbody>\n",
       "</table>\n",
       "<p>9135 rows × 12 columns</p>\n",
       "</div>"
      ],
      "text/plain": [
       "                                              Indicator          State  \\\n",
       "0                       Symptoms of Depressive Disorder  United States   \n",
       "1                       Symptoms of Depressive Disorder  United States   \n",
       "2                       Symptoms of Depressive Disorder  United States   \n",
       "3                       Symptoms of Depressive Disorder  United States   \n",
       "4                       Symptoms of Depressive Disorder  United States   \n",
       "...                                                 ...            ...   \n",
       "9130  Symptoms of Anxiety Disorder or Depressive Dis...       Virginia   \n",
       "9131  Symptoms of Anxiety Disorder or Depressive Dis...     Washington   \n",
       "9132  Symptoms of Anxiety Disorder or Depressive Dis...  West Virginia   \n",
       "9133  Symptoms of Anxiety Disorder or Depressive Dis...      Wisconsin   \n",
       "9134  Symptoms of Anxiety Disorder or Depressive Dis...        Wyoming   \n",
       "\n",
       "                  Group       Subgroup   NewPhase Time Period Start Date  \\\n",
       "0     National Estimate  United States    Phase 1             2020-04-23   \n",
       "1                By Age  18 - 29 years    Phase 1             2020-04-23   \n",
       "2                By Age  30 - 39 years    Phase 1             2020-04-23   \n",
       "3                By Age  40 - 49 years    Phase 1             2020-04-23   \n",
       "4                By Age  50 - 59 years    Phase 1             2020-04-23   \n",
       "...                 ...            ...        ...                    ...   \n",
       "9130           By State       Virginia  Phase 3.3             2021-12-29   \n",
       "9131           By State     Washington  Phase 3.3             2021-12-29   \n",
       "9132           By State  West Virginia  Phase 3.3             2021-12-29   \n",
       "9133           By State      Wisconsin  Phase 3.3             2021-12-29   \n",
       "9134           By State        Wyoming  Phase 3.3             2021-12-29   \n",
       "\n",
       "     Time Period End Date  Value  Low CI  High CI Confidence Interval  \\\n",
       "0              2020-05-05   23.5    22.7     24.3         22.7 - 24.3   \n",
       "1              2020-05-05   32.7    30.2     35.2         30.2 - 35.2   \n",
       "2              2020-05-05   25.7    24.1     27.3         24.1 - 27.3   \n",
       "3              2020-05-05   24.8    23.3     26.2         23.3 - 26.2   \n",
       "4              2020-05-05   23.2    21.5     25.0         21.5 - 25.0   \n",
       "...                   ...    ...     ...      ...                 ...   \n",
       "9130           2022-01-10   35.4    31.4     39.5         31.4 - 39.5   \n",
       "9131           2022-01-10   32.7    29.4     36.1         29.4 - 36.1   \n",
       "9132           2022-01-10   34.6    29.3     40.2         29.3 - 40.2   \n",
       "9133           2022-01-10   25.5    21.6     29.8         21.6 - 29.8   \n",
       "9134           2022-01-10   33.9    28.1     40.1         28.1 - 40.1   \n",
       "\n",
       "     Quartile Range  \n",
       "0               NaN  \n",
       "1               NaN  \n",
       "2               NaN  \n",
       "3               NaN  \n",
       "4               NaN  \n",
       "...             ...  \n",
       "9130      34.7-40.6  \n",
       "9131      32.3-34.6  \n",
       "9132      32.3-34.6  \n",
       "9133      24.8-29.7  \n",
       "9134      32.3-34.6  \n",
       "\n",
       "[9135 rows x 12 columns]"
      ]
     },
     "execution_count": 73,
     "metadata": {},
     "output_type": "execute_result"
    }
   ],
   "source": [
    "#create a new df with relevant columns\n",
    "clean_df = df[['Indicator','State','Group', 'Subgroup','NewPhase', 'Time Period Start Date', 'Time Period End Date', 'Value', 'Low CI', 'High CI', 'Confidence Interval', 'Quartile Range']]\n",
    "\n",
    "clean_df"
   ]
  },
  {
   "cell_type": "code",
   "execution_count": 72,
   "metadata": {},
   "outputs": [
    {
     "data": {
      "text/html": [
       "<div>\n",
       "<style scoped>\n",
       "    .dataframe tbody tr th:only-of-type {\n",
       "        vertical-align: middle;\n",
       "    }\n",
       "\n",
       "    .dataframe tbody tr th {\n",
       "        vertical-align: top;\n",
       "    }\n",
       "\n",
       "    .dataframe thead th {\n",
       "        text-align: right;\n",
       "    }\n",
       "</style>\n",
       "<table border=\"1\" class=\"dataframe\">\n",
       "  <thead>\n",
       "    <tr style=\"text-align: right;\">\n",
       "      <th></th>\n",
       "      <th>Indicator</th>\n",
       "      <th>State</th>\n",
       "      <th>Group</th>\n",
       "      <th>Subgroup</th>\n",
       "      <th>NewPhase</th>\n",
       "      <th>Time Period Start Date</th>\n",
       "      <th>Time Period End Date</th>\n",
       "      <th>Value</th>\n",
       "      <th>Low CI</th>\n",
       "      <th>High CI</th>\n",
       "      <th>Confidence Interval</th>\n",
       "      <th>Quartile Range</th>\n",
       "    </tr>\n",
       "  </thead>\n",
       "  <tbody>\n",
       "    <tr>\n",
       "      <th>62</th>\n",
       "      <td>Symptoms of Depressive Disorder</td>\n",
       "      <td>Texas</td>\n",
       "      <td>By State</td>\n",
       "      <td>Texas</td>\n",
       "      <td>Phase 1</td>\n",
       "      <td>2020-04-23</td>\n",
       "      <td>2020-05-05</td>\n",
       "      <td>24.4</td>\n",
       "      <td>21.1</td>\n",
       "      <td>27.9</td>\n",
       "      <td>21.1 - 27.9</td>\n",
       "      <td>24.1 - 28.7</td>\n",
       "    </tr>\n",
       "    <tr>\n",
       "      <th>132</th>\n",
       "      <td>Symptoms of Anxiety Disorder</td>\n",
       "      <td>Texas</td>\n",
       "      <td>By State</td>\n",
       "      <td>Texas</td>\n",
       "      <td>Phase 1</td>\n",
       "      <td>2020-04-23</td>\n",
       "      <td>2020-05-05</td>\n",
       "      <td>29.7</td>\n",
       "      <td>25.9</td>\n",
       "      <td>33.7</td>\n",
       "      <td>25.9 - 33.7</td>\n",
       "      <td>27.9 - 30.3</td>\n",
       "    </tr>\n",
       "    <tr>\n",
       "      <th>202</th>\n",
       "      <td>Symptoms of Anxiety Disorder or Depressive Dis...</td>\n",
       "      <td>Texas</td>\n",
       "      <td>By State</td>\n",
       "      <td>Texas</td>\n",
       "      <td>Phase 1</td>\n",
       "      <td>2020-04-23</td>\n",
       "      <td>2020-05-05</td>\n",
       "      <td>34.9</td>\n",
       "      <td>30.8</td>\n",
       "      <td>39.2</td>\n",
       "      <td>30.8 - 39.2</td>\n",
       "      <td>34.8 - 36.7</td>\n",
       "    </tr>\n",
       "    <tr>\n",
       "      <th>272</th>\n",
       "      <td>Symptoms of Depressive Disorder</td>\n",
       "      <td>Texas</td>\n",
       "      <td>By State</td>\n",
       "      <td>Texas</td>\n",
       "      <td>Phase 1</td>\n",
       "      <td>2020-05-07</td>\n",
       "      <td>2020-05-12</td>\n",
       "      <td>25.7</td>\n",
       "      <td>21.8</td>\n",
       "      <td>30.0</td>\n",
       "      <td>21.8 - 30.0</td>\n",
       "      <td>25.7 - 35.5</td>\n",
       "    </tr>\n",
       "    <tr>\n",
       "      <th>342</th>\n",
       "      <td>Symptoms of Anxiety Disorder</td>\n",
       "      <td>Texas</td>\n",
       "      <td>By State</td>\n",
       "      <td>Texas</td>\n",
       "      <td>Phase 1</td>\n",
       "      <td>2020-05-07</td>\n",
       "      <td>2020-05-12</td>\n",
       "      <td>32.4</td>\n",
       "      <td>28.2</td>\n",
       "      <td>36.9</td>\n",
       "      <td>28.2 - 36.9</td>\n",
       "      <td>31.6 - 38.3</td>\n",
       "    </tr>\n",
       "    <tr>\n",
       "      <th>...</th>\n",
       "      <td>...</td>\n",
       "      <td>...</td>\n",
       "      <td>...</td>\n",
       "      <td>...</td>\n",
       "      <td>...</td>\n",
       "      <td>...</td>\n",
       "      <td>...</td>\n",
       "      <td>...</td>\n",
       "      <td>...</td>\n",
       "      <td>...</td>\n",
       "      <td>...</td>\n",
       "      <td>...</td>\n",
       "    </tr>\n",
       "    <tr>\n",
       "      <th>8794</th>\n",
       "      <td>Symptoms of Anxiety Disorder</td>\n",
       "      <td>Texas</td>\n",
       "      <td>By State</td>\n",
       "      <td>Texas</td>\n",
       "      <td>Phase 3.3</td>\n",
       "      <td>2021-12-01</td>\n",
       "      <td>2021-12-13</td>\n",
       "      <td>24.9</td>\n",
       "      <td>21.4</td>\n",
       "      <td>28.6</td>\n",
       "      <td>21.4 - 28.6</td>\n",
       "      <td>20.6-25.0</td>\n",
       "    </tr>\n",
       "    <tr>\n",
       "      <th>8893</th>\n",
       "      <td>Symptoms of Anxiety Disorder or Depressive Dis...</td>\n",
       "      <td>Texas</td>\n",
       "      <td>By State</td>\n",
       "      <td>Texas</td>\n",
       "      <td>Phase 3.3</td>\n",
       "      <td>2021-12-01</td>\n",
       "      <td>2021-12-13</td>\n",
       "      <td>29.5</td>\n",
       "      <td>25.7</td>\n",
       "      <td>33.5</td>\n",
       "      <td>25.7 - 33.5</td>\n",
       "      <td>24.0-29.5</td>\n",
       "    </tr>\n",
       "    <tr>\n",
       "      <th>8971</th>\n",
       "      <td>Symptoms of Depressive Disorder</td>\n",
       "      <td>Texas</td>\n",
       "      <td>By State</td>\n",
       "      <td>Texas</td>\n",
       "      <td>Phase 3.3</td>\n",
       "      <td>2021-12-29</td>\n",
       "      <td>2022-01-10</td>\n",
       "      <td>25.0</td>\n",
       "      <td>22.5</td>\n",
       "      <td>27.7</td>\n",
       "      <td>22.5 - 27.7</td>\n",
       "      <td>24.7-31.4</td>\n",
       "    </tr>\n",
       "    <tr>\n",
       "      <th>9049</th>\n",
       "      <td>Symptoms of Anxiety Disorder</td>\n",
       "      <td>Texas</td>\n",
       "      <td>By State</td>\n",
       "      <td>Texas</td>\n",
       "      <td>Phase 3.3</td>\n",
       "      <td>2021-12-29</td>\n",
       "      <td>2022-01-10</td>\n",
       "      <td>31.0</td>\n",
       "      <td>28.0</td>\n",
       "      <td>34.1</td>\n",
       "      <td>28.0 - 34.1</td>\n",
       "      <td>30.5-36.1</td>\n",
       "    </tr>\n",
       "    <tr>\n",
       "      <th>9127</th>\n",
       "      <td>Symptoms of Anxiety Disorder or Depressive Dis...</td>\n",
       "      <td>Texas</td>\n",
       "      <td>By State</td>\n",
       "      <td>Texas</td>\n",
       "      <td>Phase 3.3</td>\n",
       "      <td>2021-12-29</td>\n",
       "      <td>2022-01-10</td>\n",
       "      <td>35.1</td>\n",
       "      <td>32.0</td>\n",
       "      <td>38.2</td>\n",
       "      <td>32.0 - 38.2</td>\n",
       "      <td>34.7-40.6</td>\n",
       "    </tr>\n",
       "  </tbody>\n",
       "</table>\n",
       "<p>123 rows × 12 columns</p>\n",
       "</div>"
      ],
      "text/plain": [
       "                                              Indicator  State     Group  \\\n",
       "62                      Symptoms of Depressive Disorder  Texas  By State   \n",
       "132                        Symptoms of Anxiety Disorder  Texas  By State   \n",
       "202   Symptoms of Anxiety Disorder or Depressive Dis...  Texas  By State   \n",
       "272                     Symptoms of Depressive Disorder  Texas  By State   \n",
       "342                        Symptoms of Anxiety Disorder  Texas  By State   \n",
       "...                                                 ...    ...       ...   \n",
       "8794                       Symptoms of Anxiety Disorder  Texas  By State   \n",
       "8893  Symptoms of Anxiety Disorder or Depressive Dis...  Texas  By State   \n",
       "8971                    Symptoms of Depressive Disorder  Texas  By State   \n",
       "9049                       Symptoms of Anxiety Disorder  Texas  By State   \n",
       "9127  Symptoms of Anxiety Disorder or Depressive Dis...  Texas  By State   \n",
       "\n",
       "     Subgroup   NewPhase Time Period Start Date Time Period End Date  Value  \\\n",
       "62      Texas    Phase 1             2020-04-23           2020-05-05   24.4   \n",
       "132     Texas    Phase 1             2020-04-23           2020-05-05   29.7   \n",
       "202     Texas    Phase 1             2020-04-23           2020-05-05   34.9   \n",
       "272     Texas    Phase 1             2020-05-07           2020-05-12   25.7   \n",
       "342     Texas    Phase 1             2020-05-07           2020-05-12   32.4   \n",
       "...       ...        ...                    ...                  ...    ...   \n",
       "8794    Texas  Phase 3.3             2021-12-01           2021-12-13   24.9   \n",
       "8893    Texas  Phase 3.3             2021-12-01           2021-12-13   29.5   \n",
       "8971    Texas  Phase 3.3             2021-12-29           2022-01-10   25.0   \n",
       "9049    Texas  Phase 3.3             2021-12-29           2022-01-10   31.0   \n",
       "9127    Texas  Phase 3.3             2021-12-29           2022-01-10   35.1   \n",
       "\n",
       "      Low CI  High CI Confidence Interval Quartile Range  \n",
       "62      21.1     27.9         21.1 - 27.9    24.1 - 28.7  \n",
       "132     25.9     33.7         25.9 - 33.7    27.9 - 30.3  \n",
       "202     30.8     39.2         30.8 - 39.2    34.8 - 36.7  \n",
       "272     21.8     30.0         21.8 - 30.0    25.7 - 35.5  \n",
       "342     28.2     36.9         28.2 - 36.9    31.6 - 38.3  \n",
       "...      ...      ...                 ...            ...  \n",
       "8794    21.4     28.6         21.4 - 28.6      20.6-25.0  \n",
       "8893    25.7     33.5         25.7 - 33.5      24.0-29.5  \n",
       "8971    22.5     27.7         22.5 - 27.7      24.7-31.4  \n",
       "9049    28.0     34.1         28.0 - 34.1      30.5-36.1  \n",
       "9127    32.0     38.2         32.0 - 38.2      34.7-40.6  \n",
       "\n",
       "[123 rows x 12 columns]"
      ]
     },
     "execution_count": 72,
     "metadata": {},
     "output_type": "execute_result"
    }
   ],
   "source": [
    "#create a dataframe for the state of Texas only\n",
    "\n",
    "Texas = clean_df[clean_df.State == 'Texas']\n",
    "\n",
    "Texas"
   ]
  },
  {
   "cell_type": "markdown",
   "metadata": {},
   "source": [
    "# Trends by Age"
   ]
  },
  {
   "cell_type": "code",
   "execution_count": 74,
   "metadata": {},
   "outputs": [
    {
     "data": {
      "text/plain": [
       "array(['By State'], dtype=object)"
      ]
     },
     "execution_count": 74,
     "metadata": {},
     "output_type": "execute_result"
    }
   ],
   "source": [
    "#in the Texas df, look at By Age \n",
    "\n",
    "Texas['Group'].unique()\n",
    "\n",
    "#after isolating df to Texas only, it also seems to isolate Group column to \"By State\" only, so it does not allow me to filter \"By Age \" this way"
   ]
  },
  {
   "cell_type": "code",
   "execution_count": 78,
   "metadata": {},
   "outputs": [
    {
     "data": {
      "text/plain": [
       "array(['Texas'], dtype=object)"
      ]
     },
     "execution_count": 78,
     "metadata": {},
     "output_type": "execute_result"
    }
   ],
   "source": [
    "Texas['Subgroup'].unique()\n",
    "\n",
    "#it also seems to filter texas only in the subgroup column "
   ]
  },
  {
   "cell_type": "code",
   "execution_count": 79,
   "metadata": {},
   "outputs": [
    {
     "data": {
      "text/plain": [
       "array(['United States', '18 - 29 years', '30 - 39 years', '40 - 49 years',\n",
       "       '50 - 59 years', '60 - 69 years', '70 - 79 years',\n",
       "       '80 years and above', 'Male', 'Female', 'Hispanic or Latino',\n",
       "       'Non-Hispanic White, single race',\n",
       "       'Non-Hispanic Black, single race',\n",
       "       'Non-Hispanic Asian, single race',\n",
       "       'Non-Hispanic, other races and multiple races',\n",
       "       'Less than a high school diploma', 'High school diploma or GED',\n",
       "       \"Some college/Associate's degree\", \"Bachelor's degree or higher\",\n",
       "       'Alabama', 'Alaska', 'Arizona', 'Arkansas', 'California',\n",
       "       'Colorado', 'Connecticut', 'Delaware', 'District of Columbia',\n",
       "       'Florida', 'Georgia', 'Hawaii', 'Idaho', 'Illinois', 'Indiana',\n",
       "       'Iowa', 'Kansas', 'Kentucky', 'Louisiana', 'Maine', 'Maryland',\n",
       "       'Massachusetts', 'Michigan', 'Minnesota', 'Mississippi',\n",
       "       'Missouri', 'Montana', 'Nebraska', 'Nevada', 'New Hampshire',\n",
       "       'New Jersey', 'New Mexico', 'New York', 'North Carolina',\n",
       "       'North Dakota', 'Ohio', 'Oklahoma', 'Oregon', 'Pennsylvania',\n",
       "       'Rhode Island', 'South Carolina', 'South Dakota', 'Tennessee',\n",
       "       'Texas', 'Utah', 'Vermont', 'Virginia', 'Washington',\n",
       "       'West Virginia', 'Wisconsin', 'Wyoming', 'With disability',\n",
       "       'Without disability', 'Cis-gender male', 'Cis-gender female',\n",
       "       'Transgender', 'Gay or lesbian', 'Straight', 'Bisexual'],\n",
       "      dtype=object)"
      ]
     },
     "execution_count": 79,
     "metadata": {},
     "output_type": "execute_result"
    }
   ],
   "source": [
    "clean_df['Subgroup'].unique()\n",
    "\n",
    "#however, without filtering Texas, the Subgroup has so many categories within it, thinking about splitting this up somehow but not sure yet. "
   ]
  },
  {
   "cell_type": "markdown",
   "metadata": {},
   "source": [
    "# Trends by Race"
   ]
  },
  {
   "cell_type": "code",
   "execution_count": 63,
   "metadata": {},
   "outputs": [
    {
     "data": {
      "text/plain": [
       "array(['By State'], dtype=object)"
      ]
     },
     "execution_count": 63,
     "metadata": {},
     "output_type": "execute_result"
    }
   ],
   "source": [
    "#in the Texas df, look at By Race in the Group Column\n",
    "\n",
    "Texas['Group'].unique()"
   ]
  },
  {
   "cell_type": "markdown",
   "metadata": {},
   "source": [
    "# Find trends in the 3 symptoms across the 3 phases \n",
    "\n",
    "#This is a bigger task, best to break down into smaller parts. I will start by looking at Phase 1 & Symptoms of Depressive Disorder \n",
    "- Phase 2 & Depressive Disorder \n",
    "- Phace 3 & Depressive Disorder \n",
    "- Phase 1 & Anxiety Disorder\n",
    "- Phase 2 & Anxiety Disorder \n",
    "- and so forth. \n",
    "\n",
    "I could create a function that has paramenters (phase, symptom) "
   ]
  },
  {
   "cell_type": "code",
   "execution_count": null,
   "metadata": {},
   "outputs": [],
   "source": [
    "#in the Texas df, should I create a df of phases and df of symptoms and then use those to locate what I need? "
   ]
  },
  {
   "cell_type": "markdown",
   "metadata": {},
   "source": [
    "# Example of a function"
   ]
  },
  {
   "cell_type": "code",
   "execution_count": null,
   "metadata": {},
   "outputs": [],
   "source": [
    "#example\n",
    "def function_name(parameters):\n",
    "    # do something\n",
    "    print(\"hello!\")\n",
    "    return None"
   ]
  },
  {
   "cell_type": "code",
   "execution_count": null,
   "metadata": {},
   "outputs": [],
   "source": [
    "def double(number):\n",
    "    output = number+number\n",
    "    return output"
   ]
  },
  {
   "cell_type": "code",
   "execution_count": null,
   "metadata": {},
   "outputs": [
    {
     "data": {
      "text/plain": [
       "10"
      ]
     },
     "execution_count": 75,
     "metadata": {},
     "output_type": "execute_result"
    }
   ],
   "source": [
    "double(5)"
   ]
  },
  {
   "cell_type": "code",
   "execution_count": null,
   "metadata": {},
   "outputs": [
    {
     "data": {
      "text/plain": [
       "30"
      ]
     },
     "execution_count": 76,
     "metadata": {},
     "output_type": "execute_result"
    }
   ],
   "source": [
    "double(15)"
   ]
  }
 ],
 "metadata": {
  "interpreter": {
   "hash": "e8fc03f882824b1251e0f8a8f351b5a865b44cf5525c4efc35dc3fb7668c656c"
  },
  "kernelspec": {
   "display_name": "Python 3.8.12 ('datavenv')",
   "language": "python",
   "name": "python3"
  },
  "language_info": {
   "codemirror_mode": {
    "name": "ipython",
    "version": 3
   },
   "file_extension": ".py",
   "mimetype": "text/x-python",
   "name": "python",
   "nbconvert_exporter": "python",
   "pygments_lexer": "ipython3",
   "version": "3.8.12"
  },
  "orig_nbformat": 4
 },
 "nbformat": 4,
 "nbformat_minor": 2
}
