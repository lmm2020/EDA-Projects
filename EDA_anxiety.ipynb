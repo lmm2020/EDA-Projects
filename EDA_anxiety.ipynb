{
 "cells": [
  {
   "cell_type": "code",
   "execution_count": 1,
   "metadata": {},
   "outputs": [],
   "source": [
    "#import libraries\n",
    "\n",
    "import pandas as pd   \n",
    "import numpy as np\n",
    "import matplotlib.pyplot as plt\n",
    "import plotly.express as px\n",
    "import seaborn as sns\n"
   ]
  },
  {
   "cell_type": "markdown",
   "metadata": {},
   "source": [
    "# Indicators of Anxiety and Depression Based on Reported Frequency of Symptoms\n"
   ]
  },
  {
   "cell_type": "markdown",
   "metadata": {},
   "source": [
    "## Introduction\n",
    "On March 11, 2020 the World Health Organization declared COVID-19 a pandemic. In the weeks that followed many U.S cities limited gatherings and went into lockdown to prevent the spread of the virus. Many were isolated in their homes due to sickness or limited opportunity to work. \n",
    "\n",
    "## Context\n",
    "In April 2020, the Household Pulse Survey was created to collect data to measure household experiences during the coronavirus pandemic. The survey focuses on the mental health impact as well as socioeconomic factors. This is still an ongoing survey as of March 2022. (last gathered data on 01/10/22)\n",
    "\n",
    "<details>\n",
    "    <summary>Survey Details</summary>\n",
    "\n",
    "##### The National Center for Health Statistics conducted this survey in 3 phases as outlined below.\n",
    "\n",
    "        1. Phase 1 04/23/2020 - 07/21/2020\n",
    "        2. Phase 2 08/19/2020 - 10/28/2020\n",
    "        3. Phase 3 10/28/2020 - 12/21/2020 \n",
    "        4. Phase 3 01/06/2021 - 03/29/2021\n",
    "        5. Phase 3.1 04/14/2021 - 07/05/2021\n",
    "        6. Phase 3.2 07/21/2021 - 10/11/2021\n",
    "        7. Phase 3.3 12/01/2021 - 02/07/2022\n",
    "\n",
    "Note: At each phase, the survey asked about the \"last 7 days\". Beginning in Phase 3.2, the survey asked about the \"last two weeks\". It is unknown why Phase 3 has been split.  \n",
    "#### Survey Questions\n",
    "Adapted PHQ-2 questions:\n",
    "\n",
    "Over the last 7 days, how often have you been bothered by … having little interest or pleasure in doing things? Would you say not at all, several days, more than half the days, or nearly every day? Select only one answer.\n",
    "\n",
    "Over the last 7 days, how often have you been bothered by … feeling down, depressed, or hopeless? Would you say not at all, several days, more than half the days, or nearly every day? Select only one answer.\n",
    "\n",
    "Adapted GAD-2 questions:\n",
    "\n",
    "Over the last 7 days, how often have you been bothered by the following problems … Feeling nervous, anxious, or on edge? Would you say not at all, several days, more than half the days, or nearly every day? Select only one answer.\n",
    "\n",
    "Over the last 7 days, how often have you been bothered by the following problems … Not being able to stop or control worrying? Would you say not at all, several days, more than half the days, or nearly every day? Select only one answer\n",
    "\n",
    "#### Scoring\n",
    "For each scale, the answers are assigned a numerical value: not at all = 0, several days = 1, more than half the days = 2, and nearly every day = 3. The two responses for each scale are added together.\n",
    "\n",
    "A sum equal to three or greater on the PHQ-2 has been shown to be associated with diagnoses of major depressive disorder.\n",
    "\n",
    "A sum equal to three or greater on the GAD-2 has been shown to be associated with diagnoses of generalized anxiety disorder.\n",
    "</details>\n",
    "\n",
    "<details>\n",
    "    <summary>Source </summary>\n",
    "    \n",
    "    - Dataset: https://data.cdc.gov/NCHS/Indicators-of-Anxiety-or-Depression-Based-on-Repor/8pt5-q6wp\n",
    "    - How this data was used: https://www.cdc.gov/nchs/covid19/pulse/mental-health.htm\n",
    "</details>         "
   ]
  },
  {
   "cell_type": "markdown",
   "metadata": {},
   "source": [
    "# Objective\n",
    "\n",
    "1. Isolate and explore statistics in the state of Texas\n",
    "2. Find trends across different age groups.\n",
    "3. Find trends across different race groups.\n",
    "4. Look at changes in percentage of anxiety, depression, both across the different survey phases. "
   ]
  },
  {
   "cell_type": "markdown",
   "metadata": {},
   "source": [
    "## Load the dataset"
   ]
  },
  {
   "cell_type": "code",
   "execution_count": 2,
   "metadata": {},
   "outputs": [],
   "source": [
    "df = pd.read_csv('AnxietyData.csv', parse_dates=['Time Period Start Date', 'Time Period End Date'])"
   ]
  },
  {
   "cell_type": "code",
   "execution_count": 3,
   "metadata": {},
   "outputs": [
    {
     "data": {
      "text/html": [
       "<div>\n",
       "<style scoped>\n",
       "    .dataframe tbody tr th:only-of-type {\n",
       "        vertical-align: middle;\n",
       "    }\n",
       "\n",
       "    .dataframe tbody tr th {\n",
       "        vertical-align: top;\n",
       "    }\n",
       "\n",
       "    .dataframe thead th {\n",
       "        text-align: right;\n",
       "    }\n",
       "</style>\n",
       "<table border=\"1\" class=\"dataframe\">\n",
       "  <thead>\n",
       "    <tr style=\"text-align: right;\">\n",
       "      <th></th>\n",
       "      <th>Indicator</th>\n",
       "      <th>Group</th>\n",
       "      <th>State</th>\n",
       "      <th>Subgroup</th>\n",
       "      <th>Phase</th>\n",
       "      <th>Time Period</th>\n",
       "      <th>Time Period Label</th>\n",
       "      <th>Time Period Start Date</th>\n",
       "      <th>Time Period End Date</th>\n",
       "      <th>Value</th>\n",
       "      <th>Low CI</th>\n",
       "      <th>High CI</th>\n",
       "      <th>Confidence Interval</th>\n",
       "      <th>Quartile Range</th>\n",
       "    </tr>\n",
       "  </thead>\n",
       "  <tbody>\n",
       "    <tr>\n",
       "      <th>0</th>\n",
       "      <td>Symptoms of Depressive Disorder</td>\n",
       "      <td>National Estimate</td>\n",
       "      <td>United States</td>\n",
       "      <td>United States</td>\n",
       "      <td>1</td>\n",
       "      <td>1</td>\n",
       "      <td>Apr 23 - May 5, 2020</td>\n",
       "      <td>2020-04-23</td>\n",
       "      <td>2020-05-05</td>\n",
       "      <td>23.5</td>\n",
       "      <td>22.7</td>\n",
       "      <td>24.3</td>\n",
       "      <td>22.7 - 24.3</td>\n",
       "      <td>NaN</td>\n",
       "    </tr>\n",
       "    <tr>\n",
       "      <th>1</th>\n",
       "      <td>Symptoms of Depressive Disorder</td>\n",
       "      <td>By Age</td>\n",
       "      <td>United States</td>\n",
       "      <td>18 - 29 years</td>\n",
       "      <td>1</td>\n",
       "      <td>1</td>\n",
       "      <td>Apr 23 - May 5, 2020</td>\n",
       "      <td>2020-04-23</td>\n",
       "      <td>2020-05-05</td>\n",
       "      <td>32.7</td>\n",
       "      <td>30.2</td>\n",
       "      <td>35.2</td>\n",
       "      <td>30.2 - 35.2</td>\n",
       "      <td>NaN</td>\n",
       "    </tr>\n",
       "    <tr>\n",
       "      <th>2</th>\n",
       "      <td>Symptoms of Depressive Disorder</td>\n",
       "      <td>By Age</td>\n",
       "      <td>United States</td>\n",
       "      <td>30 - 39 years</td>\n",
       "      <td>1</td>\n",
       "      <td>1</td>\n",
       "      <td>Apr 23 - May 5, 2020</td>\n",
       "      <td>2020-04-23</td>\n",
       "      <td>2020-05-05</td>\n",
       "      <td>25.7</td>\n",
       "      <td>24.1</td>\n",
       "      <td>27.3</td>\n",
       "      <td>24.1 - 27.3</td>\n",
       "      <td>NaN</td>\n",
       "    </tr>\n",
       "    <tr>\n",
       "      <th>3</th>\n",
       "      <td>Symptoms of Depressive Disorder</td>\n",
       "      <td>By Age</td>\n",
       "      <td>United States</td>\n",
       "      <td>40 - 49 years</td>\n",
       "      <td>1</td>\n",
       "      <td>1</td>\n",
       "      <td>Apr 23 - May 5, 2020</td>\n",
       "      <td>2020-04-23</td>\n",
       "      <td>2020-05-05</td>\n",
       "      <td>24.8</td>\n",
       "      <td>23.3</td>\n",
       "      <td>26.2</td>\n",
       "      <td>23.3 - 26.2</td>\n",
       "      <td>NaN</td>\n",
       "    </tr>\n",
       "    <tr>\n",
       "      <th>4</th>\n",
       "      <td>Symptoms of Depressive Disorder</td>\n",
       "      <td>By Age</td>\n",
       "      <td>United States</td>\n",
       "      <td>50 - 59 years</td>\n",
       "      <td>1</td>\n",
       "      <td>1</td>\n",
       "      <td>Apr 23 - May 5, 2020</td>\n",
       "      <td>2020-04-23</td>\n",
       "      <td>2020-05-05</td>\n",
       "      <td>23.2</td>\n",
       "      <td>21.5</td>\n",
       "      <td>25.0</td>\n",
       "      <td>21.5 - 25.0</td>\n",
       "      <td>NaN</td>\n",
       "    </tr>\n",
       "  </tbody>\n",
       "</table>\n",
       "</div>"
      ],
      "text/plain": [
       "                         Indicator              Group          State  \\\n",
       "0  Symptoms of Depressive Disorder  National Estimate  United States   \n",
       "1  Symptoms of Depressive Disorder             By Age  United States   \n",
       "2  Symptoms of Depressive Disorder             By Age  United States   \n",
       "3  Symptoms of Depressive Disorder             By Age  United States   \n",
       "4  Symptoms of Depressive Disorder             By Age  United States   \n",
       "\n",
       "        Subgroup Phase  Time Period     Time Period Label  \\\n",
       "0  United States     1            1  Apr 23 - May 5, 2020   \n",
       "1  18 - 29 years     1            1  Apr 23 - May 5, 2020   \n",
       "2  30 - 39 years     1            1  Apr 23 - May 5, 2020   \n",
       "3  40 - 49 years     1            1  Apr 23 - May 5, 2020   \n",
       "4  50 - 59 years     1            1  Apr 23 - May 5, 2020   \n",
       "\n",
       "  Time Period Start Date Time Period End Date  Value  Low CI  High CI  \\\n",
       "0             2020-04-23           2020-05-05   23.5    22.7     24.3   \n",
       "1             2020-04-23           2020-05-05   32.7    30.2     35.2   \n",
       "2             2020-04-23           2020-05-05   25.7    24.1     27.3   \n",
       "3             2020-04-23           2020-05-05   24.8    23.3     26.2   \n",
       "4             2020-04-23           2020-05-05   23.2    21.5     25.0   \n",
       "\n",
       "  Confidence Interval Quartile Range  \n",
       "0         22.7 - 24.3            NaN  \n",
       "1         30.2 - 35.2            NaN  \n",
       "2         24.1 - 27.3            NaN  \n",
       "3         23.3 - 26.2            NaN  \n",
       "4         21.5 - 25.0            NaN  "
      ]
     },
     "execution_count": 3,
     "metadata": {},
     "output_type": "execute_result"
    }
   ],
   "source": [
    "df.head()\n"
   ]
  },
  {
   "cell_type": "markdown",
   "metadata": {},
   "source": [
    "## Column Overview"
   ]
  },
  {
   "cell_type": "code",
   "execution_count": 4,
   "metadata": {},
   "outputs": [
    {
     "data": {
      "text/plain": [
       "Index(['Indicator', 'Group', 'State', 'Subgroup', 'Phase', 'Time Period',\n",
       "       'Time Period Label', 'Time Period Start Date', 'Time Period End Date',\n",
       "       'Value', 'Low CI', 'High CI', 'Confidence Interval', 'Quartile Range'],\n",
       "      dtype='object')"
      ]
     },
     "execution_count": 4,
     "metadata": {},
     "output_type": "execute_result"
    }
   ],
   "source": [
    "df.columns"
   ]
  },
  {
   "cell_type": "markdown",
   "metadata": {},
   "source": [
    "### Imported columns:\n",
    "\n",
    "1. **Indicator**: The indicator that is associated to a symptom (anxiety, depression, or both)\n",
    "2. **Group** \n",
    "3. **State**\n",
    "4. **Subgroup**\n",
    "5. **Phase**\n",
    "6. **Time Period**\n",
    "7. **Time Period Label**\n",
    "8. **Time Period Start Date**\n",
    "9. **Time Period End Date**\n",
    "10. **Value**: Percentage of adults whose reported symptoms are associated with a diagnoses (anxiety, depression, or both)\n",
    "11. **Low CI**\n",
    "12. **High CI**\n",
    "13. **Confidence Interval**: This dataset has a confidence interval of 95%. \"Confidence intervals included .. only reflect the potential for sampling error.\" \n",
    "14. **Quartile Range**"
   ]
  },
  {
   "cell_type": "code",
   "execution_count": 5,
   "metadata": {},
   "outputs": [
    {
     "data": {
      "text/plain": [
       "array(['Symptoms of Depressive Disorder', 'Symptoms of Anxiety Disorder',\n",
       "       'Symptoms of Anxiety Disorder or Depressive Disorder'],\n",
       "      dtype=object)"
      ]
     },
     "execution_count": 5,
     "metadata": {},
     "output_type": "execute_result"
    }
   ],
   "source": [
    "df['Indicator'].unique()"
   ]
  },
  {
   "cell_type": "code",
   "execution_count": 6,
   "metadata": {},
   "outputs": [
    {
     "data": {
      "text/plain": [
       "array(['National Estimate', 'By Age', 'By Sex',\n",
       "       'By Race/Hispanic ethnicity', 'By Education', 'By State',\n",
       "       'By Disability status', 'By Gender identity',\n",
       "       'By Sexual orientation'], dtype=object)"
      ]
     },
     "execution_count": 6,
     "metadata": {},
     "output_type": "execute_result"
    }
   ],
   "source": [
    "df['Group'].unique()\n",
    "\n",
    "#national estimate in Group column seems different than rest of values"
   ]
  },
  {
   "cell_type": "code",
   "execution_count": 7,
   "metadata": {},
   "outputs": [
    {
     "data": {
      "text/plain": [
       "array(['United States', 'Alabama', 'Alaska', 'Arizona', 'Arkansas',\n",
       "       'California', 'Colorado', 'Connecticut', 'Delaware',\n",
       "       'District of Columbia', 'Florida', 'Georgia', 'Hawaii', 'Idaho',\n",
       "       'Illinois', 'Indiana', 'Iowa', 'Kansas', 'Kentucky', 'Louisiana',\n",
       "       'Maine', 'Maryland', 'Massachusetts', 'Michigan', 'Minnesota',\n",
       "       'Mississippi', 'Missouri', 'Montana', 'Nebraska', 'Nevada',\n",
       "       'New Hampshire', 'New Jersey', 'New Mexico', 'New York',\n",
       "       'North Carolina', 'North Dakota', 'Ohio', 'Oklahoma', 'Oregon',\n",
       "       'Pennsylvania', 'Rhode Island', 'South Carolina', 'South Dakota',\n",
       "       'Tennessee', 'Texas', 'Utah', 'Vermont', 'Virginia', 'Washington',\n",
       "       'West Virginia', 'Wisconsin', 'Wyoming'], dtype=object)"
      ]
     },
     "execution_count": 7,
     "metadata": {},
     "output_type": "execute_result"
    }
   ],
   "source": [
    "df['State'].unique()"
   ]
  },
  {
   "cell_type": "code",
   "execution_count": 8,
   "metadata": {},
   "outputs": [
    {
     "data": {
      "text/plain": [
       "array(['United States', '18 - 29 years', '30 - 39 years', '40 - 49 years',\n",
       "       '50 - 59 years', '60 - 69 years', '70 - 79 years',\n",
       "       '80 years and above', 'Male', 'Female', 'Hispanic or Latino',\n",
       "       'Non-Hispanic White, single race',\n",
       "       'Non-Hispanic Black, single race',\n",
       "       'Non-Hispanic Asian, single race',\n",
       "       'Non-Hispanic, other races and multiple races',\n",
       "       'Less than a high school diploma', 'High school diploma or GED',\n",
       "       \"Some college/Associate's degree\", \"Bachelor's degree or higher\",\n",
       "       'Alabama', 'Alaska', 'Arizona', 'Arkansas', 'California',\n",
       "       'Colorado', 'Connecticut', 'Delaware', 'District of Columbia',\n",
       "       'Florida', 'Georgia', 'Hawaii', 'Idaho', 'Illinois', 'Indiana',\n",
       "       'Iowa', 'Kansas', 'Kentucky', 'Louisiana', 'Maine', 'Maryland',\n",
       "       'Massachusetts', 'Michigan', 'Minnesota', 'Mississippi',\n",
       "       'Missouri', 'Montana', 'Nebraska', 'Nevada', 'New Hampshire',\n",
       "       'New Jersey', 'New Mexico', 'New York', 'North Carolina',\n",
       "       'North Dakota', 'Ohio', 'Oklahoma', 'Oregon', 'Pennsylvania',\n",
       "       'Rhode Island', 'South Carolina', 'South Dakota', 'Tennessee',\n",
       "       'Texas', 'Utah', 'Vermont', 'Virginia', 'Washington',\n",
       "       'West Virginia', 'Wisconsin', 'Wyoming', 'With disability',\n",
       "       'Without disability', 'Cis-gender male', 'Cis-gender female',\n",
       "       'Transgender', 'Gay or lesbian', 'Straight', 'Bisexual'],\n",
       "      dtype=object)"
      ]
     },
     "execution_count": 8,
     "metadata": {},
     "output_type": "execute_result"
    }
   ],
   "source": [
    "df['Subgroup'].unique()\n",
    "\n",
    "#The article in which this dataset was used, the subgroup categories were split into y axis categories \n",
    "#IDEA: create new columns out of each subgroup (age, state, race, orientation)"
   ]
  },
  {
   "cell_type": "code",
   "execution_count": 9,
   "metadata": {},
   "outputs": [
    {
     "data": {
      "text/plain": [
       "array(['1', '-1', '2', '3 (Oct 28 � Dec 21)', '3 (Jan 6 � Mar 29)', '3.1',\n",
       "       '3.2', '3.3'], dtype=object)"
      ]
     },
     "execution_count": 9,
     "metadata": {},
     "output_type": "execute_result"
    }
   ],
   "source": [
    "df['Phase'].unique()\n",
    "\n",
    "#considering replacing the values that are not 1,2,3 by using the date ranges"
   ]
  },
  {
   "cell_type": "code",
   "execution_count": 10,
   "metadata": {},
   "outputs": [
    {
     "data": {
      "text/plain": [
       "array(['Apr 23 - May 5, 2020', 'May 7 - May 12, 2020',\n",
       "       'May 14 - May 19, 2020', 'May 21 - May 26, 2020',\n",
       "       'May 28 - June 2, 2020', 'June 4 - June 9, 2020',\n",
       "       'June 11 - June 16, 2020', 'June 18 - June 23, 2020',\n",
       "       'June 25 - June 30, 2020', 'July 2 - July 7, 2020',\n",
       "       'July 9 - July 14, 2020', 'July 16 - July 21, 2020',\n",
       "       'July 22 - Aug 18, 2020', 'Aug 19 - Aug 31, 2020',\n",
       "       'Sep 2 - Sep 14, 2020', 'Sep 16 - Sep 28, 2020',\n",
       "       'Sep 30 - Oct 12, 2020', 'Oct 14 - Oct 26, 2020',\n",
       "       'Oct 28 - Nov 9, 2020', 'Nov 11 - Nov 23, 2020',\n",
       "       'Nov 25 - Dec 7, 2020', 'Dec 9 - Dec 21, 2020',\n",
       "       'Dec 22, 2020 - Jan 5, 2021', 'Jan 6 - Jan 18, 2021',\n",
       "       'Jan 20 - Feb 1, 2021', 'Feb 3 - Feb 15, 2021',\n",
       "       'Feb 17 - Mar 1, 2021', 'Mar 3 - Mar 15, 2021',\n",
       "       'Mar 17 - Mar 29, 2021', 'Mar 30 - Apr 13, 2021',\n",
       "       'Apr 14 - Apr 26, 2021', 'Apr 28 - May 10, 2021',\n",
       "       'May 12 - May 24, 2021', 'May 26 - Jun 7, 2021',\n",
       "       'Jun 9 - Jun 21, 2021', 'Jun 23 - Jul 5, 2021',\n",
       "       'Jul 6 - Jul 20, 2021', 'Jul 21 - Aug 2, 2021',\n",
       "       'Aug 4 - Aug 16, 2021', 'Aug 18 - Aug 30, 2021',\n",
       "       'Sep 1 - Sep 13, 2021', 'Sep 15 - Sep 27, 2021',\n",
       "       'Sep 29 - Oct 11, 2021', 'Oct 12 - Nov 30, 2021',\n",
       "       'Dec 1 - Dec 13, 2021', 'Dec 29, 2021 - Jan 10, 2022'],\n",
       "      dtype=object)"
      ]
     },
     "execution_count": 10,
     "metadata": {},
     "output_type": "execute_result"
    }
   ],
   "source": [
    "df['Time Period Label'].unique()"
   ]
  },
  {
   "cell_type": "code",
   "execution_count": 11,
   "metadata": {},
   "outputs": [
    {
     "data": {
      "text/plain": [
       "Timestamp('2020-04-23 00:00:00')"
      ]
     },
     "execution_count": 11,
     "metadata": {},
     "output_type": "execute_result"
    }
   ],
   "source": [
    "#Data collection starts 04/23/2020\n",
    "df['Time Period Start Date'].min()"
   ]
  },
  {
   "cell_type": "code",
   "execution_count": 12,
   "metadata": {},
   "outputs": [
    {
     "data": {
      "text/plain": [
       "Timestamp('2022-01-10 00:00:00')"
      ]
     },
     "execution_count": 12,
     "metadata": {},
     "output_type": "execute_result"
    }
   ],
   "source": [
    "#Data collection ends 01/10/2022\n",
    "df['Time Period End Date'].max()"
   ]
  },
  {
   "cell_type": "markdown",
   "metadata": {},
   "source": [
    "## Data Formatting & Cleaning"
   ]
  },
  {
   "cell_type": "markdown",
   "metadata": {},
   "source": [
    "### Check for missing values"
   ]
  },
  {
   "cell_type": "code",
   "execution_count": 13,
   "metadata": {},
   "outputs": [
    {
     "data": {
      "text/plain": [
       "Indicator                    0\n",
       "Group                        0\n",
       "State                        0\n",
       "Subgroup                     0\n",
       "Phase                        0\n",
       "Time Period                  0\n",
       "Time Period Label            0\n",
       "Time Period Start Date       0\n",
       "Time Period End Date         0\n",
       "Value                      297\n",
       "Low CI                     297\n",
       "High CI                    297\n",
       "Confidence Interval        297\n",
       "Quartile Range            2862\n",
       "dtype: int64"
      ]
     },
     "execution_count": 13,
     "metadata": {},
     "output_type": "execute_result"
    }
   ],
   "source": [
    "df.isnull().sum()"
   ]
  },
  {
   "cell_type": "code",
   "execution_count": 14,
   "metadata": {},
   "outputs": [],
   "source": [
    "#check NA's in the Value column\n",
    "filtered_df = df[df['Value'].isna()]"
   ]
  },
  {
   "cell_type": "code",
   "execution_count": 15,
   "metadata": {},
   "outputs": [
    {
     "data": {
      "text/html": [
       "<div>\n",
       "<style scoped>\n",
       "    .dataframe tbody tr th:only-of-type {\n",
       "        vertical-align: middle;\n",
       "    }\n",
       "\n",
       "    .dataframe tbody tr th {\n",
       "        vertical-align: top;\n",
       "    }\n",
       "\n",
       "    .dataframe thead th {\n",
       "        text-align: right;\n",
       "    }\n",
       "</style>\n",
       "<table border=\"1\" class=\"dataframe\">\n",
       "  <thead>\n",
       "    <tr style=\"text-align: right;\">\n",
       "      <th></th>\n",
       "      <th>Indicator</th>\n",
       "      <th>Group</th>\n",
       "      <th>State</th>\n",
       "      <th>Subgroup</th>\n",
       "      <th>Phase</th>\n",
       "      <th>Time Period</th>\n",
       "      <th>Time Period Label</th>\n",
       "      <th>Time Period Start Date</th>\n",
       "      <th>Time Period End Date</th>\n",
       "      <th>Value</th>\n",
       "      <th>Low CI</th>\n",
       "      <th>High CI</th>\n",
       "      <th>Confidence Interval</th>\n",
       "      <th>Quartile Range</th>\n",
       "    </tr>\n",
       "  </thead>\n",
       "  <tbody>\n",
       "    <tr>\n",
       "      <th>2520</th>\n",
       "      <td>Symptoms of Depressive Disorder</td>\n",
       "      <td>National Estimate</td>\n",
       "      <td>United States</td>\n",
       "      <td>United States</td>\n",
       "      <td>-1</td>\n",
       "      <td>1</td>\n",
       "      <td>July 22 - Aug 18, 2020</td>\n",
       "      <td>2020-07-22</td>\n",
       "      <td>2020-08-18</td>\n",
       "      <td>NaN</td>\n",
       "      <td>NaN</td>\n",
       "      <td>NaN</td>\n",
       "      <td>NaN</td>\n",
       "      <td>NaN</td>\n",
       "    </tr>\n",
       "    <tr>\n",
       "      <th>2521</th>\n",
       "      <td>Symptoms of Depressive Disorder</td>\n",
       "      <td>By Age</td>\n",
       "      <td>United States</td>\n",
       "      <td>18 - 29 years</td>\n",
       "      <td>-1</td>\n",
       "      <td>1</td>\n",
       "      <td>July 22 - Aug 18, 2020</td>\n",
       "      <td>2020-07-22</td>\n",
       "      <td>2020-08-18</td>\n",
       "      <td>NaN</td>\n",
       "      <td>NaN</td>\n",
       "      <td>NaN</td>\n",
       "      <td>NaN</td>\n",
       "      <td>NaN</td>\n",
       "    </tr>\n",
       "    <tr>\n",
       "      <th>2522</th>\n",
       "      <td>Symptoms of Depressive Disorder</td>\n",
       "      <td>By Age</td>\n",
       "      <td>United States</td>\n",
       "      <td>30 - 39 years</td>\n",
       "      <td>-1</td>\n",
       "      <td>1</td>\n",
       "      <td>July 22 - Aug 18, 2020</td>\n",
       "      <td>2020-07-22</td>\n",
       "      <td>2020-08-18</td>\n",
       "      <td>NaN</td>\n",
       "      <td>NaN</td>\n",
       "      <td>NaN</td>\n",
       "      <td>NaN</td>\n",
       "      <td>NaN</td>\n",
       "    </tr>\n",
       "    <tr>\n",
       "      <th>2523</th>\n",
       "      <td>Symptoms of Depressive Disorder</td>\n",
       "      <td>By Age</td>\n",
       "      <td>United States</td>\n",
       "      <td>40 - 49 years</td>\n",
       "      <td>-1</td>\n",
       "      <td>1</td>\n",
       "      <td>July 22 - Aug 18, 2020</td>\n",
       "      <td>2020-07-22</td>\n",
       "      <td>2020-08-18</td>\n",
       "      <td>NaN</td>\n",
       "      <td>NaN</td>\n",
       "      <td>NaN</td>\n",
       "      <td>NaN</td>\n",
       "      <td>NaN</td>\n",
       "    </tr>\n",
       "    <tr>\n",
       "      <th>2524</th>\n",
       "      <td>Symptoms of Depressive Disorder</td>\n",
       "      <td>By Age</td>\n",
       "      <td>United States</td>\n",
       "      <td>50 - 59 years</td>\n",
       "      <td>-1</td>\n",
       "      <td>1</td>\n",
       "      <td>July 22 - Aug 18, 2020</td>\n",
       "      <td>2020-07-22</td>\n",
       "      <td>2020-08-18</td>\n",
       "      <td>NaN</td>\n",
       "      <td>NaN</td>\n",
       "      <td>NaN</td>\n",
       "      <td>NaN</td>\n",
       "      <td>NaN</td>\n",
       "    </tr>\n",
       "  </tbody>\n",
       "</table>\n",
       "</div>"
      ],
      "text/plain": [
       "                            Indicator              Group          State  \\\n",
       "2520  Symptoms of Depressive Disorder  National Estimate  United States   \n",
       "2521  Symptoms of Depressive Disorder             By Age  United States   \n",
       "2522  Symptoms of Depressive Disorder             By Age  United States   \n",
       "2523  Symptoms of Depressive Disorder             By Age  United States   \n",
       "2524  Symptoms of Depressive Disorder             By Age  United States   \n",
       "\n",
       "           Subgroup Phase  Time Period       Time Period Label  \\\n",
       "2520  United States    -1            1  July 22 - Aug 18, 2020   \n",
       "2521  18 - 29 years    -1            1  July 22 - Aug 18, 2020   \n",
       "2522  30 - 39 years    -1            1  July 22 - Aug 18, 2020   \n",
       "2523  40 - 49 years    -1            1  July 22 - Aug 18, 2020   \n",
       "2524  50 - 59 years    -1            1  July 22 - Aug 18, 2020   \n",
       "\n",
       "     Time Period Start Date Time Period End Date  Value  Low CI  High CI  \\\n",
       "2520             2020-07-22           2020-08-18    NaN     NaN      NaN   \n",
       "2521             2020-07-22           2020-08-18    NaN     NaN      NaN   \n",
       "2522             2020-07-22           2020-08-18    NaN     NaN      NaN   \n",
       "2523             2020-07-22           2020-08-18    NaN     NaN      NaN   \n",
       "2524             2020-07-22           2020-08-18    NaN     NaN      NaN   \n",
       "\n",
       "     Confidence Interval Quartile Range  \n",
       "2520                 NaN            NaN  \n",
       "2521                 NaN            NaN  \n",
       "2522                 NaN            NaN  \n",
       "2523                 NaN            NaN  \n",
       "2524                 NaN            NaN  "
      ]
     },
     "execution_count": 15,
     "metadata": {},
     "output_type": "execute_result"
    }
   ],
   "source": [
    "filtered_df.head()"
   ]
  },
  {
   "cell_type": "code",
   "execution_count": 16,
   "metadata": {},
   "outputs": [
    {
     "data": {
      "text/plain": [
       "array(['National Estimate', 'By Age', 'By Sex',\n",
       "       'By Race/Hispanic ethnicity', 'By Education',\n",
       "       'By Disability status'], dtype=object)"
      ]
     },
     "execution_count": 16,
     "metadata": {},
     "output_type": "execute_result"
    }
   ],
   "source": [
    "#Groups that have NA's in Value column\n",
    "filtered_df['Group'].unique()"
   ]
  },
  {
   "cell_type": "code",
   "execution_count": 17,
   "metadata": {},
   "outputs": [],
   "source": [
    "#function takes a value from the Group column as the parameter and returns the count of NA\n",
    "\n",
    "def check_na_count(group):\n",
    "    groupdf = df[df['Group'] == group]\n",
    "    length_of_na = len(groupdf[groupdf['Value'].isna()])\n",
    "\n",
    "    length_of_df = len(groupdf)\n",
    "\n",
    "    na_as_percentage = round((length_of_na/length_of_df),2)\n",
    "\n",
    "    outputstring = f\"Out of {length_of_df}, there are {length_of_na} missing values. {na_as_percentage}% missing\" \n",
    "\n",
    "    return outputstring"
   ]
  },
  {
   "cell_type": "code",
   "execution_count": 18,
   "metadata": {},
   "outputs": [
    {
     "data": {
      "text/plain": [
       "'Out of 138, there are 15 missing values. 0.11% missing'"
      ]
     },
     "execution_count": 18,
     "metadata": {},
     "output_type": "execute_result"
    }
   ],
   "source": [
    "check_na_count('National Estimate')"
   ]
  },
  {
   "cell_type": "code",
   "execution_count": 19,
   "metadata": {},
   "outputs": [
    {
     "data": {
      "text/plain": [
       "'Out of 966, there are 105 missing values. 0.11% missing'"
      ]
     },
     "execution_count": 19,
     "metadata": {},
     "output_type": "execute_result"
    }
   ],
   "source": [
    "check_na_count('By Age')"
   ]
  },
  {
   "cell_type": "code",
   "execution_count": 20,
   "metadata": {},
   "outputs": [
    {
     "data": {
      "text/plain": [
       "'Out of 276, there are 30 missing values. 0.11% missing'"
      ]
     },
     "execution_count": 20,
     "metadata": {},
     "output_type": "execute_result"
    }
   ],
   "source": [
    "check_na_count('By Sex')"
   ]
  },
  {
   "cell_type": "code",
   "execution_count": 21,
   "metadata": {},
   "outputs": [
    {
     "data": {
      "text/plain": [
       "'Out of 690, there are 75 missing values. 0.11% missing'"
      ]
     },
     "execution_count": 21,
     "metadata": {},
     "output_type": "execute_result"
    }
   ],
   "source": [
    "check_na_count('By Race/Hispanic ethnicity')"
   ]
  },
  {
   "cell_type": "code",
   "execution_count": 22,
   "metadata": {},
   "outputs": [
    {
     "data": {
      "text/plain": [
       "'Out of 552, there are 60 missing values. 0.11% missing'"
      ]
     },
     "execution_count": 22,
     "metadata": {},
     "output_type": "execute_result"
    }
   ],
   "source": [
    "check_na_count('By Education')"
   ]
  },
  {
   "cell_type": "code",
   "execution_count": 23,
   "metadata": {},
   "outputs": [
    {
     "data": {
      "text/plain": [
       "'Out of 96, there are 12 missing values. 0.12% missing'"
      ]
     },
     "execution_count": 23,
     "metadata": {},
     "output_type": "execute_result"
    }
   ],
   "source": [
    "check_na_count('By Disability status')"
   ]
  },
  {
   "cell_type": "markdown",
   "metadata": {},
   "source": [
    "##### The missing percentages are not significant enough to clean up these columns. Proceeding with data frame as it is."
   ]
  },
  {
   "cell_type": "markdown",
   "metadata": {},
   "source": [
    "### Column Addition: Phases"
   ]
  },
  {
   "cell_type": "code",
   "execution_count": 24,
   "metadata": {},
   "outputs": [
    {
     "data": {
      "text/html": [
       "<div>\n",
       "<style scoped>\n",
       "    .dataframe tbody tr th:only-of-type {\n",
       "        vertical-align: middle;\n",
       "    }\n",
       "\n",
       "    .dataframe tbody tr th {\n",
       "        vertical-align: top;\n",
       "    }\n",
       "\n",
       "    .dataframe thead th {\n",
       "        text-align: right;\n",
       "    }\n",
       "</style>\n",
       "<table border=\"1\" class=\"dataframe\">\n",
       "  <thead>\n",
       "    <tr style=\"text-align: right;\">\n",
       "      <th></th>\n",
       "      <th>Indicator</th>\n",
       "      <th>Group</th>\n",
       "      <th>State</th>\n",
       "      <th>Subgroup</th>\n",
       "      <th>Phase</th>\n",
       "      <th>Time Period</th>\n",
       "      <th>Time Period Label</th>\n",
       "      <th>Time Period Start Date</th>\n",
       "      <th>Time Period End Date</th>\n",
       "      <th>Value</th>\n",
       "      <th>Low CI</th>\n",
       "      <th>High CI</th>\n",
       "      <th>Confidence Interval</th>\n",
       "      <th>Quartile Range</th>\n",
       "      <th>Phases</th>\n",
       "    </tr>\n",
       "  </thead>\n",
       "  <tbody>\n",
       "    <tr>\n",
       "      <th>0</th>\n",
       "      <td>Symptoms of Depressive Disorder</td>\n",
       "      <td>National Estimate</td>\n",
       "      <td>United States</td>\n",
       "      <td>United States</td>\n",
       "      <td>1</td>\n",
       "      <td>1</td>\n",
       "      <td>Apr 23 - May 5, 2020</td>\n",
       "      <td>2020-04-23</td>\n",
       "      <td>2020-05-05</td>\n",
       "      <td>23.5</td>\n",
       "      <td>22.7</td>\n",
       "      <td>24.3</td>\n",
       "      <td>22.7 - 24.3</td>\n",
       "      <td>NaN</td>\n",
       "      <td>Phase 1</td>\n",
       "    </tr>\n",
       "    <tr>\n",
       "      <th>1</th>\n",
       "      <td>Symptoms of Depressive Disorder</td>\n",
       "      <td>By Age</td>\n",
       "      <td>United States</td>\n",
       "      <td>18 - 29 years</td>\n",
       "      <td>1</td>\n",
       "      <td>1</td>\n",
       "      <td>Apr 23 - May 5, 2020</td>\n",
       "      <td>2020-04-23</td>\n",
       "      <td>2020-05-05</td>\n",
       "      <td>32.7</td>\n",
       "      <td>30.2</td>\n",
       "      <td>35.2</td>\n",
       "      <td>30.2 - 35.2</td>\n",
       "      <td>NaN</td>\n",
       "      <td>Phase 1</td>\n",
       "    </tr>\n",
       "    <tr>\n",
       "      <th>2</th>\n",
       "      <td>Symptoms of Depressive Disorder</td>\n",
       "      <td>By Age</td>\n",
       "      <td>United States</td>\n",
       "      <td>30 - 39 years</td>\n",
       "      <td>1</td>\n",
       "      <td>1</td>\n",
       "      <td>Apr 23 - May 5, 2020</td>\n",
       "      <td>2020-04-23</td>\n",
       "      <td>2020-05-05</td>\n",
       "      <td>25.7</td>\n",
       "      <td>24.1</td>\n",
       "      <td>27.3</td>\n",
       "      <td>24.1 - 27.3</td>\n",
       "      <td>NaN</td>\n",
       "      <td>Phase 1</td>\n",
       "    </tr>\n",
       "    <tr>\n",
       "      <th>3</th>\n",
       "      <td>Symptoms of Depressive Disorder</td>\n",
       "      <td>By Age</td>\n",
       "      <td>United States</td>\n",
       "      <td>40 - 49 years</td>\n",
       "      <td>1</td>\n",
       "      <td>1</td>\n",
       "      <td>Apr 23 - May 5, 2020</td>\n",
       "      <td>2020-04-23</td>\n",
       "      <td>2020-05-05</td>\n",
       "      <td>24.8</td>\n",
       "      <td>23.3</td>\n",
       "      <td>26.2</td>\n",
       "      <td>23.3 - 26.2</td>\n",
       "      <td>NaN</td>\n",
       "      <td>Phase 1</td>\n",
       "    </tr>\n",
       "    <tr>\n",
       "      <th>4</th>\n",
       "      <td>Symptoms of Depressive Disorder</td>\n",
       "      <td>By Age</td>\n",
       "      <td>United States</td>\n",
       "      <td>50 - 59 years</td>\n",
       "      <td>1</td>\n",
       "      <td>1</td>\n",
       "      <td>Apr 23 - May 5, 2020</td>\n",
       "      <td>2020-04-23</td>\n",
       "      <td>2020-05-05</td>\n",
       "      <td>23.2</td>\n",
       "      <td>21.5</td>\n",
       "      <td>25.0</td>\n",
       "      <td>21.5 - 25.0</td>\n",
       "      <td>NaN</td>\n",
       "      <td>Phase 1</td>\n",
       "    </tr>\n",
       "  </tbody>\n",
       "</table>\n",
       "</div>"
      ],
      "text/plain": [
       "                         Indicator              Group          State  \\\n",
       "0  Symptoms of Depressive Disorder  National Estimate  United States   \n",
       "1  Symptoms of Depressive Disorder             By Age  United States   \n",
       "2  Symptoms of Depressive Disorder             By Age  United States   \n",
       "3  Symptoms of Depressive Disorder             By Age  United States   \n",
       "4  Symptoms of Depressive Disorder             By Age  United States   \n",
       "\n",
       "        Subgroup Phase  Time Period     Time Period Label  \\\n",
       "0  United States     1            1  Apr 23 - May 5, 2020   \n",
       "1  18 - 29 years     1            1  Apr 23 - May 5, 2020   \n",
       "2  30 - 39 years     1            1  Apr 23 - May 5, 2020   \n",
       "3  40 - 49 years     1            1  Apr 23 - May 5, 2020   \n",
       "4  50 - 59 years     1            1  Apr 23 - May 5, 2020   \n",
       "\n",
       "  Time Period Start Date Time Period End Date  Value  Low CI  High CI  \\\n",
       "0             2020-04-23           2020-05-05   23.5    22.7     24.3   \n",
       "1             2020-04-23           2020-05-05   32.7    30.2     35.2   \n",
       "2             2020-04-23           2020-05-05   25.7    24.1     27.3   \n",
       "3             2020-04-23           2020-05-05   24.8    23.3     26.2   \n",
       "4             2020-04-23           2020-05-05   23.2    21.5     25.0   \n",
       "\n",
       "  Confidence Interval Quartile Range   Phases  \n",
       "0         22.7 - 24.3            NaN  Phase 1  \n",
       "1         30.2 - 35.2            NaN  Phase 1  \n",
       "2         24.1 - 27.3            NaN  Phase 1  \n",
       "3         23.3 - 26.2            NaN  Phase 1  \n",
       "4         21.5 - 25.0            NaN  Phase 1  "
      ]
     },
     "execution_count": 24,
     "metadata": {},
     "output_type": "execute_result"
    }
   ],
   "source": [
    "#Create a new column with newly assigned Phase values (call it NewPhase)\n",
    "\n",
    "#create a list of conditions\n",
    "conditions = [ \n",
    "    (df['Time Period Start Date'] >= '2020-04-23') & (df['Time Period End Date'] <='2020-07-21'), #1. Phase 1   04/23/2020 - 07/21/2020\n",
    "    ((df['Time Period Start Date'] >= '2020-08-19') & (df['Time Period End Date'] <='2020-10-26')), #2. Phase 2   08/19/2020 - 10/26/2020\n",
    "    ((df['Time Period Start Date'] >= '2020-10-28') & (df['Time Period End Date'] <='2020-12-21')), #3. Phase 3   10/28/2020 - 12/21/2020\n",
    "    ((df['Time Period Start Date'] >= '2021-01-06') & (df['Time Period End Date'] <= '2021-03-29')), #4. Phase 3 (con't) 01/06/2021 - 03/29/2021   \n",
    "    ((df['Time Period Start Date'] >= '2021-04-14') & (df['Time Period End Date'] <='2021-07-05')), #5. Phase 3.1 04/14/2021 - 07/05/2021\n",
    "    ((df['Time Period Start Date'] >= '2021-07-21') & (df['Time Period End Date'] <='2021-10-11')), #6. Phase 3.2 07/21/2021 - 10/11/2021\n",
    "    ((df['Time Period Start Date'] >= '2021-12-01') & (df['Time Period End Date'] <='2022-02-07'))  #7 Phase 3.3 Phase 3.3 12/01/2021 - 02/07/2022\n",
    "    \n",
    "    ]\n",
    "#create a list of the values we want to assign for each condition\n",
    "values = ['Phase 1','Phase 2','Phase 3','Phase 4', 'Phase 5','Phase 6', 'Phase 7']\n",
    "\n",
    "#create a new column and use np.select to assign values to it using our lists as arguments\n",
    "df['Phases'] = np.select(conditions, values)\n",
    "\n",
    "#display updated dataframe\n",
    "df.head()"
   ]
  },
  {
   "cell_type": "markdown",
   "metadata": {},
   "source": [
    "#### Evaluating missing values in Phases "
   ]
  },
  {
   "cell_type": "code",
   "execution_count": 25,
   "metadata": {},
   "outputs": [
    {
     "data": {
      "text/plain": [
       "array(['Phase 1', '0', 'Phase 2', 'Phase 3', 'Phase 4', 'Phase 5',\n",
       "       'Phase 6', 'Phase 7'], dtype=object)"
      ]
     },
     "execution_count": 25,
     "metadata": {},
     "output_type": "execute_result"
    }
   ],
   "source": [
    "df['Phases'].unique()"
   ]
  },
  {
   "cell_type": "code",
   "execution_count": 26,
   "metadata": {},
   "outputs": [],
   "source": [
    "#exploring what element '0' means in Phases column\n",
    "\n",
    "zero_phase_value = df[df['Phases'] == '0']"
   ]
  },
  {
   "cell_type": "code",
   "execution_count": 27,
   "metadata": {},
   "outputs": [
    {
     "data": {
      "text/plain": [
       "array(['2020-07-22T00:00:00.000000000', '2020-12-22T00:00:00.000000000',\n",
       "       '2021-03-30T00:00:00.000000000', '2021-07-06T00:00:00.000000000',\n",
       "       '2021-10-12T00:00:00.000000000'], dtype='datetime64[ns]')"
      ]
     },
     "execution_count": 27,
     "metadata": {},
     "output_type": "execute_result"
    }
   ],
   "source": [
    "zero_phase_value['Time Period Start Date'].unique()\n",
    "\n",
    "#these dates correspond to Break periods"
   ]
  },
  {
   "cell_type": "code",
   "execution_count": 28,
   "metadata": {},
   "outputs": [
    {
     "data": {
      "text/plain": [
       "array(['2020-08-18T00:00:00.000000000', '2021-01-05T00:00:00.000000000',\n",
       "       '2021-04-13T00:00:00.000000000', '2021-07-20T00:00:00.000000000',\n",
       "       '2021-11-30T00:00:00.000000000'], dtype='datetime64[ns]')"
      ]
     },
     "execution_count": 28,
     "metadata": {},
     "output_type": "execute_result"
    }
   ],
   "source": [
    "zero_phase_value['Time Period End Date'].unique()\n",
    "\n",
    "#these dates correspond to Break periods"
   ]
  },
  {
   "cell_type": "code",
   "execution_count": 29,
   "metadata": {},
   "outputs": [
    {
     "data": {
      "text/plain": [
       "2520   NaN\n",
       "2521   NaN\n",
       "2522   NaN\n",
       "2523   NaN\n",
       "2524   NaN\n",
       "        ..\n",
       "8818   NaN\n",
       "8819   NaN\n",
       "8820   NaN\n",
       "8821   NaN\n",
       "8822   NaN\n",
       "Name: Value, Length: 297, dtype: float64"
      ]
     },
     "execution_count": 29,
     "metadata": {},
     "output_type": "execute_result"
    }
   ],
   "source": [
    "zero_phase_value['Value']\n",
    "\n",
    "#These break periods have no data reported since no surveys were taken during these times"
   ]
  },
  {
   "cell_type": "code",
   "execution_count": 30,
   "metadata": {},
   "outputs": [
    {
     "data": {
      "text/html": [
       "<div>\n",
       "<style scoped>\n",
       "    .dataframe tbody tr th:only-of-type {\n",
       "        vertical-align: middle;\n",
       "    }\n",
       "\n",
       "    .dataframe tbody tr th {\n",
       "        vertical-align: top;\n",
       "    }\n",
       "\n",
       "    .dataframe thead th {\n",
       "        text-align: right;\n",
       "    }\n",
       "</style>\n",
       "<table border=\"1\" class=\"dataframe\">\n",
       "  <thead>\n",
       "    <tr style=\"text-align: right;\">\n",
       "      <th></th>\n",
       "      <th>Indicator</th>\n",
       "      <th>Group</th>\n",
       "      <th>State</th>\n",
       "      <th>Subgroup</th>\n",
       "      <th>Phase</th>\n",
       "      <th>Time Period</th>\n",
       "      <th>Time Period Label</th>\n",
       "      <th>Time Period Start Date</th>\n",
       "      <th>Time Period End Date</th>\n",
       "      <th>Value</th>\n",
       "      <th>Low CI</th>\n",
       "      <th>High CI</th>\n",
       "      <th>Confidence Interval</th>\n",
       "      <th>Quartile Range</th>\n",
       "      <th>Phases</th>\n",
       "    </tr>\n",
       "  </thead>\n",
       "  <tbody>\n",
       "    <tr>\n",
       "      <th>0</th>\n",
       "      <td>Symptoms of Depressive Disorder</td>\n",
       "      <td>National Estimate</td>\n",
       "      <td>United States</td>\n",
       "      <td>United States</td>\n",
       "      <td>1</td>\n",
       "      <td>1</td>\n",
       "      <td>Apr 23 - May 5, 2020</td>\n",
       "      <td>2020-04-23</td>\n",
       "      <td>2020-05-05</td>\n",
       "      <td>23.5</td>\n",
       "      <td>22.7</td>\n",
       "      <td>24.3</td>\n",
       "      <td>22.7 - 24.3</td>\n",
       "      <td>NaN</td>\n",
       "      <td>Phase 1</td>\n",
       "    </tr>\n",
       "    <tr>\n",
       "      <th>1</th>\n",
       "      <td>Symptoms of Depressive Disorder</td>\n",
       "      <td>By Age</td>\n",
       "      <td>United States</td>\n",
       "      <td>18 - 29 years</td>\n",
       "      <td>1</td>\n",
       "      <td>1</td>\n",
       "      <td>Apr 23 - May 5, 2020</td>\n",
       "      <td>2020-04-23</td>\n",
       "      <td>2020-05-05</td>\n",
       "      <td>32.7</td>\n",
       "      <td>30.2</td>\n",
       "      <td>35.2</td>\n",
       "      <td>30.2 - 35.2</td>\n",
       "      <td>NaN</td>\n",
       "      <td>Phase 1</td>\n",
       "    </tr>\n",
       "    <tr>\n",
       "      <th>2</th>\n",
       "      <td>Symptoms of Depressive Disorder</td>\n",
       "      <td>By Age</td>\n",
       "      <td>United States</td>\n",
       "      <td>30 - 39 years</td>\n",
       "      <td>1</td>\n",
       "      <td>1</td>\n",
       "      <td>Apr 23 - May 5, 2020</td>\n",
       "      <td>2020-04-23</td>\n",
       "      <td>2020-05-05</td>\n",
       "      <td>25.7</td>\n",
       "      <td>24.1</td>\n",
       "      <td>27.3</td>\n",
       "      <td>24.1 - 27.3</td>\n",
       "      <td>NaN</td>\n",
       "      <td>Phase 1</td>\n",
       "    </tr>\n",
       "    <tr>\n",
       "      <th>3</th>\n",
       "      <td>Symptoms of Depressive Disorder</td>\n",
       "      <td>By Age</td>\n",
       "      <td>United States</td>\n",
       "      <td>40 - 49 years</td>\n",
       "      <td>1</td>\n",
       "      <td>1</td>\n",
       "      <td>Apr 23 - May 5, 2020</td>\n",
       "      <td>2020-04-23</td>\n",
       "      <td>2020-05-05</td>\n",
       "      <td>24.8</td>\n",
       "      <td>23.3</td>\n",
       "      <td>26.2</td>\n",
       "      <td>23.3 - 26.2</td>\n",
       "      <td>NaN</td>\n",
       "      <td>Phase 1</td>\n",
       "    </tr>\n",
       "    <tr>\n",
       "      <th>4</th>\n",
       "      <td>Symptoms of Depressive Disorder</td>\n",
       "      <td>By Age</td>\n",
       "      <td>United States</td>\n",
       "      <td>50 - 59 years</td>\n",
       "      <td>1</td>\n",
       "      <td>1</td>\n",
       "      <td>Apr 23 - May 5, 2020</td>\n",
       "      <td>2020-04-23</td>\n",
       "      <td>2020-05-05</td>\n",
       "      <td>23.2</td>\n",
       "      <td>21.5</td>\n",
       "      <td>25.0</td>\n",
       "      <td>21.5 - 25.0</td>\n",
       "      <td>NaN</td>\n",
       "      <td>Phase 1</td>\n",
       "    </tr>\n",
       "  </tbody>\n",
       "</table>\n",
       "</div>"
      ],
      "text/plain": [
       "                         Indicator              Group          State  \\\n",
       "0  Symptoms of Depressive Disorder  National Estimate  United States   \n",
       "1  Symptoms of Depressive Disorder             By Age  United States   \n",
       "2  Symptoms of Depressive Disorder             By Age  United States   \n",
       "3  Symptoms of Depressive Disorder             By Age  United States   \n",
       "4  Symptoms of Depressive Disorder             By Age  United States   \n",
       "\n",
       "        Subgroup Phase  Time Period     Time Period Label  \\\n",
       "0  United States     1            1  Apr 23 - May 5, 2020   \n",
       "1  18 - 29 years     1            1  Apr 23 - May 5, 2020   \n",
       "2  30 - 39 years     1            1  Apr 23 - May 5, 2020   \n",
       "3  40 - 49 years     1            1  Apr 23 - May 5, 2020   \n",
       "4  50 - 59 years     1            1  Apr 23 - May 5, 2020   \n",
       "\n",
       "  Time Period Start Date Time Period End Date  Value  Low CI  High CI  \\\n",
       "0             2020-04-23           2020-05-05   23.5    22.7     24.3   \n",
       "1             2020-04-23           2020-05-05   32.7    30.2     35.2   \n",
       "2             2020-04-23           2020-05-05   25.7    24.1     27.3   \n",
       "3             2020-04-23           2020-05-05   24.8    23.3     26.2   \n",
       "4             2020-04-23           2020-05-05   23.2    21.5     25.0   \n",
       "\n",
       "  Confidence Interval Quartile Range   Phases  \n",
       "0         22.7 - 24.3            NaN  Phase 1  \n",
       "1         30.2 - 35.2            NaN  Phase 1  \n",
       "2         24.1 - 27.3            NaN  Phase 1  \n",
       "3         23.3 - 26.2            NaN  Phase 1  \n",
       "4         21.5 - 25.0            NaN  Phase 1  "
      ]
     },
     "execution_count": 30,
     "metadata": {},
     "output_type": "execute_result"
    }
   ],
   "source": [
    "#only keep the rows in which surveys were conducted\n",
    "\n",
    "#removing unwanted rows by filtering\n",
    "df = df[df['Phases'] != '0']\n",
    "\n",
    "#display updated dataframe\n",
    "df.head()\n"
   ]
  },
  {
   "cell_type": "markdown",
   "metadata": {},
   "source": [
    "### Evaluating Subgroup values to single out (NOT DONE HERE, NOT SURE HOW YET)"
   ]
  },
  {
   "cell_type": "code",
   "execution_count": 31,
   "metadata": {},
   "outputs": [],
   "source": [
    "#exploring what National Estimate and United States values refer to in Group and State\n",
    "# df[df['Group'] == 'National Estimate']\n",
    "\n",
    "#123 rows "
   ]
  },
  {
   "cell_type": "code",
   "execution_count": 32,
   "metadata": {},
   "outputs": [
    {
     "data": {
      "text/plain": [
       "\"\\ndf['Subgroup'].unique()\\n\\n#123 rows\\n\\n\""
      ]
     },
     "execution_count": 32,
     "metadata": {},
     "output_type": "execute_result"
    }
   ],
   "source": [
    "\"\"\"\n",
    "df['Subgroup'].unique()\n",
    "\n",
    "#123 rows\n",
    "\n",
    "\"\"\""
   ]
  },
  {
   "cell_type": "code",
   "execution_count": 33,
   "metadata": {},
   "outputs": [
    {
     "data": {
      "text/plain": [
       "\"\\n\\n#Create a new column for Age subgroups\\n\\n#'18 - 29 years', '30 - 39 years', '40 - 49 years',\\n#'50 - 59 years', '60 - 69 years', '70 - 79 years',\\n\\n#create a list of conditions\\nconditions = [ \\n    (df['Subgroup'] == '18 - 29 years'), #1 18 - 29 years\\n    (df['Subgroup'] == '30 - 39 years'), #2 30 - 39 years\\n    (df['Subgroup'] == '40 - 49 years'), #3 40 - 49 years\\n    (df['Subgroup'] == '50 - 59 years'), #4 50 - 59 years   \\n    (df['Subgroup'] == '60 - 69 years'), #5 60 - 69 years\\n    (df['Subgroup'] == '70 - 79 years') #6 70 - 79 years  \\n    ]\\n#create a list of the values we want to assign for each condition\\nvalues = ['18 - 29 years','30 - 39 years','40 - 49 years','50 - 59 years', '60 - 69 years','70 - 79 years']\\n\\n#create a new column and use np.select to assign values to it using our lists as arguments\\ndf['Ages'] = np.select(conditions, values)\\n\\n#display updated dataframe\\ndf.head()\\n\\n\\n\""
      ]
     },
     "execution_count": 33,
     "metadata": {},
     "output_type": "execute_result"
    }
   ],
   "source": [
    "\"\"\"\n",
    "\n",
    "#Create a new column for Age subgroups\n",
    "\n",
    "#'18 - 29 years', '30 - 39 years', '40 - 49 years',\n",
    "#'50 - 59 years', '60 - 69 years', '70 - 79 years',\n",
    "\n",
    "#create a list of conditions\n",
    "conditions = [ \n",
    "    (df['Subgroup'] == '18 - 29 years'), #1 18 - 29 years\n",
    "    (df['Subgroup'] == '30 - 39 years'), #2 30 - 39 years\n",
    "    (df['Subgroup'] == '40 - 49 years'), #3 40 - 49 years\n",
    "    (df['Subgroup'] == '50 - 59 years'), #4 50 - 59 years   \n",
    "    (df['Subgroup'] == '60 - 69 years'), #5 60 - 69 years\n",
    "    (df['Subgroup'] == '70 - 79 years') #6 70 - 79 years  \n",
    "    ]\n",
    "#create a list of the values we want to assign for each condition\n",
    "values = ['18 - 29 years','30 - 39 years','40 - 49 years','50 - 59 years', '60 - 69 years','70 - 79 years']\n",
    "\n",
    "#create a new column and use np.select to assign values to it using our lists as arguments\n",
    "df['Ages'] = np.select(conditions, values)\n",
    "\n",
    "#display updated dataframe\n",
    "df.head()\n",
    "\n",
    "\n",
    "\"\"\"\n"
   ]
  },
  {
   "cell_type": "code",
   "execution_count": 34,
   "metadata": {},
   "outputs": [
    {
     "data": {
      "text/plain": [
       "\" Ages = df[df['Ages'] != '0']\\nAges['State'].unique() \""
      ]
     },
     "execution_count": 34,
     "metadata": {},
     "output_type": "execute_result"
    }
   ],
   "source": [
    "\"\"\" Ages = df[df['Ages'] != '0']\n",
    "Ages['State'].unique() \"\"\""
   ]
  },
  {
   "cell_type": "markdown",
   "metadata": {},
   "source": [
    "## Cleaned Dataframe"
   ]
  },
  {
   "cell_type": "code",
   "execution_count": 35,
   "metadata": {},
   "outputs": [
    {
     "data": {
      "text/html": [
       "<div>\n",
       "<style scoped>\n",
       "    .dataframe tbody tr th:only-of-type {\n",
       "        vertical-align: middle;\n",
       "    }\n",
       "\n",
       "    .dataframe tbody tr th {\n",
       "        vertical-align: top;\n",
       "    }\n",
       "\n",
       "    .dataframe thead th {\n",
       "        text-align: right;\n",
       "    }\n",
       "</style>\n",
       "<table border=\"1\" class=\"dataframe\">\n",
       "  <thead>\n",
       "    <tr style=\"text-align: right;\">\n",
       "      <th></th>\n",
       "      <th>Indicator</th>\n",
       "      <th>State</th>\n",
       "      <th>Group</th>\n",
       "      <th>Subgroup</th>\n",
       "      <th>Phases</th>\n",
       "      <th>Time Period Label</th>\n",
       "      <th>Value</th>\n",
       "    </tr>\n",
       "  </thead>\n",
       "  <tbody>\n",
       "    <tr>\n",
       "      <th>0</th>\n",
       "      <td>Symptoms of Depressive Disorder</td>\n",
       "      <td>United States</td>\n",
       "      <td>National Estimate</td>\n",
       "      <td>United States</td>\n",
       "      <td>Phase 1</td>\n",
       "      <td>Apr 23 - May 5, 2020</td>\n",
       "      <td>23.5</td>\n",
       "    </tr>\n",
       "    <tr>\n",
       "      <th>1</th>\n",
       "      <td>Symptoms of Depressive Disorder</td>\n",
       "      <td>United States</td>\n",
       "      <td>By Age</td>\n",
       "      <td>18 - 29 years</td>\n",
       "      <td>Phase 1</td>\n",
       "      <td>Apr 23 - May 5, 2020</td>\n",
       "      <td>32.7</td>\n",
       "    </tr>\n",
       "    <tr>\n",
       "      <th>2</th>\n",
       "      <td>Symptoms of Depressive Disorder</td>\n",
       "      <td>United States</td>\n",
       "      <td>By Age</td>\n",
       "      <td>30 - 39 years</td>\n",
       "      <td>Phase 1</td>\n",
       "      <td>Apr 23 - May 5, 2020</td>\n",
       "      <td>25.7</td>\n",
       "    </tr>\n",
       "    <tr>\n",
       "      <th>3</th>\n",
       "      <td>Symptoms of Depressive Disorder</td>\n",
       "      <td>United States</td>\n",
       "      <td>By Age</td>\n",
       "      <td>40 - 49 years</td>\n",
       "      <td>Phase 1</td>\n",
       "      <td>Apr 23 - May 5, 2020</td>\n",
       "      <td>24.8</td>\n",
       "    </tr>\n",
       "    <tr>\n",
       "      <th>4</th>\n",
       "      <td>Symptoms of Depressive Disorder</td>\n",
       "      <td>United States</td>\n",
       "      <td>By Age</td>\n",
       "      <td>50 - 59 years</td>\n",
       "      <td>Phase 1</td>\n",
       "      <td>Apr 23 - May 5, 2020</td>\n",
       "      <td>23.2</td>\n",
       "    </tr>\n",
       "    <tr>\n",
       "      <th>...</th>\n",
       "      <td>...</td>\n",
       "      <td>...</td>\n",
       "      <td>...</td>\n",
       "      <td>...</td>\n",
       "      <td>...</td>\n",
       "      <td>...</td>\n",
       "      <td>...</td>\n",
       "    </tr>\n",
       "    <tr>\n",
       "      <th>9130</th>\n",
       "      <td>Symptoms of Anxiety Disorder or Depressive Dis...</td>\n",
       "      <td>Virginia</td>\n",
       "      <td>By State</td>\n",
       "      <td>Virginia</td>\n",
       "      <td>Phase 7</td>\n",
       "      <td>Dec 29, 2021 - Jan 10, 2022</td>\n",
       "      <td>35.4</td>\n",
       "    </tr>\n",
       "    <tr>\n",
       "      <th>9131</th>\n",
       "      <td>Symptoms of Anxiety Disorder or Depressive Dis...</td>\n",
       "      <td>Washington</td>\n",
       "      <td>By State</td>\n",
       "      <td>Washington</td>\n",
       "      <td>Phase 7</td>\n",
       "      <td>Dec 29, 2021 - Jan 10, 2022</td>\n",
       "      <td>32.7</td>\n",
       "    </tr>\n",
       "    <tr>\n",
       "      <th>9132</th>\n",
       "      <td>Symptoms of Anxiety Disorder or Depressive Dis...</td>\n",
       "      <td>West Virginia</td>\n",
       "      <td>By State</td>\n",
       "      <td>West Virginia</td>\n",
       "      <td>Phase 7</td>\n",
       "      <td>Dec 29, 2021 - Jan 10, 2022</td>\n",
       "      <td>34.6</td>\n",
       "    </tr>\n",
       "    <tr>\n",
       "      <th>9133</th>\n",
       "      <td>Symptoms of Anxiety Disorder or Depressive Dis...</td>\n",
       "      <td>Wisconsin</td>\n",
       "      <td>By State</td>\n",
       "      <td>Wisconsin</td>\n",
       "      <td>Phase 7</td>\n",
       "      <td>Dec 29, 2021 - Jan 10, 2022</td>\n",
       "      <td>25.5</td>\n",
       "    </tr>\n",
       "    <tr>\n",
       "      <th>9134</th>\n",
       "      <td>Symptoms of Anxiety Disorder or Depressive Dis...</td>\n",
       "      <td>Wyoming</td>\n",
       "      <td>By State</td>\n",
       "      <td>Wyoming</td>\n",
       "      <td>Phase 7</td>\n",
       "      <td>Dec 29, 2021 - Jan 10, 2022</td>\n",
       "      <td>33.9</td>\n",
       "    </tr>\n",
       "  </tbody>\n",
       "</table>\n",
       "<p>8838 rows × 7 columns</p>\n",
       "</div>"
      ],
      "text/plain": [
       "                                              Indicator          State  \\\n",
       "0                       Symptoms of Depressive Disorder  United States   \n",
       "1                       Symptoms of Depressive Disorder  United States   \n",
       "2                       Symptoms of Depressive Disorder  United States   \n",
       "3                       Symptoms of Depressive Disorder  United States   \n",
       "4                       Symptoms of Depressive Disorder  United States   \n",
       "...                                                 ...            ...   \n",
       "9130  Symptoms of Anxiety Disorder or Depressive Dis...       Virginia   \n",
       "9131  Symptoms of Anxiety Disorder or Depressive Dis...     Washington   \n",
       "9132  Symptoms of Anxiety Disorder or Depressive Dis...  West Virginia   \n",
       "9133  Symptoms of Anxiety Disorder or Depressive Dis...      Wisconsin   \n",
       "9134  Symptoms of Anxiety Disorder or Depressive Dis...        Wyoming   \n",
       "\n",
       "                  Group       Subgroup   Phases            Time Period Label  \\\n",
       "0     National Estimate  United States  Phase 1         Apr 23 - May 5, 2020   \n",
       "1                By Age  18 - 29 years  Phase 1         Apr 23 - May 5, 2020   \n",
       "2                By Age  30 - 39 years  Phase 1         Apr 23 - May 5, 2020   \n",
       "3                By Age  40 - 49 years  Phase 1         Apr 23 - May 5, 2020   \n",
       "4                By Age  50 - 59 years  Phase 1         Apr 23 - May 5, 2020   \n",
       "...                 ...            ...      ...                          ...   \n",
       "9130           By State       Virginia  Phase 7  Dec 29, 2021 - Jan 10, 2022   \n",
       "9131           By State     Washington  Phase 7  Dec 29, 2021 - Jan 10, 2022   \n",
       "9132           By State  West Virginia  Phase 7  Dec 29, 2021 - Jan 10, 2022   \n",
       "9133           By State      Wisconsin  Phase 7  Dec 29, 2021 - Jan 10, 2022   \n",
       "9134           By State        Wyoming  Phase 7  Dec 29, 2021 - Jan 10, 2022   \n",
       "\n",
       "      Value  \n",
       "0      23.5  \n",
       "1      32.7  \n",
       "2      25.7  \n",
       "3      24.8  \n",
       "4      23.2  \n",
       "...     ...  \n",
       "9130   35.4  \n",
       "9131   32.7  \n",
       "9132   34.6  \n",
       "9133   25.5  \n",
       "9134   33.9  \n",
       "\n",
       "[8838 rows x 7 columns]"
      ]
     },
     "execution_count": 35,
     "metadata": {},
     "output_type": "execute_result"
    }
   ],
   "source": [
    "#create a new df with relevant columns\n",
    "clean_df = df[['Indicator','State','Group', 'Subgroup','Phases', 'Time Period Label', 'Value']]\n",
    "\n",
    "clean_df"
   ]
  },
  {
   "cell_type": "code",
   "execution_count": 36,
   "metadata": {},
   "outputs": [
    {
     "data": {
      "text/html": [
       "<div>\n",
       "<style scoped>\n",
       "    .dataframe tbody tr th:only-of-type {\n",
       "        vertical-align: middle;\n",
       "    }\n",
       "\n",
       "    .dataframe tbody tr th {\n",
       "        vertical-align: top;\n",
       "    }\n",
       "\n",
       "    .dataframe thead th {\n",
       "        text-align: right;\n",
       "    }\n",
       "</style>\n",
       "<table border=\"1\" class=\"dataframe\">\n",
       "  <thead>\n",
       "    <tr style=\"text-align: right;\">\n",
       "      <th></th>\n",
       "      <th>Indicator</th>\n",
       "      <th>State</th>\n",
       "      <th>Group</th>\n",
       "      <th>Subgroup</th>\n",
       "      <th>Phases</th>\n",
       "      <th>Time Period Label</th>\n",
       "      <th>Value</th>\n",
       "    </tr>\n",
       "  </thead>\n",
       "  <tbody>\n",
       "    <tr>\n",
       "      <th>1</th>\n",
       "      <td>Symptoms of Depressive Disorder</td>\n",
       "      <td>United States</td>\n",
       "      <td>By Age</td>\n",
       "      <td>18 - 29 years</td>\n",
       "      <td>Phase 1</td>\n",
       "      <td>Apr 23 - May 5, 2020</td>\n",
       "      <td>32.7</td>\n",
       "    </tr>\n",
       "    <tr>\n",
       "      <th>2</th>\n",
       "      <td>Symptoms of Depressive Disorder</td>\n",
       "      <td>United States</td>\n",
       "      <td>By Age</td>\n",
       "      <td>30 - 39 years</td>\n",
       "      <td>Phase 1</td>\n",
       "      <td>Apr 23 - May 5, 2020</td>\n",
       "      <td>25.7</td>\n",
       "    </tr>\n",
       "    <tr>\n",
       "      <th>3</th>\n",
       "      <td>Symptoms of Depressive Disorder</td>\n",
       "      <td>United States</td>\n",
       "      <td>By Age</td>\n",
       "      <td>40 - 49 years</td>\n",
       "      <td>Phase 1</td>\n",
       "      <td>Apr 23 - May 5, 2020</td>\n",
       "      <td>24.8</td>\n",
       "    </tr>\n",
       "    <tr>\n",
       "      <th>4</th>\n",
       "      <td>Symptoms of Depressive Disorder</td>\n",
       "      <td>United States</td>\n",
       "      <td>By Age</td>\n",
       "      <td>50 - 59 years</td>\n",
       "      <td>Phase 1</td>\n",
       "      <td>Apr 23 - May 5, 2020</td>\n",
       "      <td>23.2</td>\n",
       "    </tr>\n",
       "    <tr>\n",
       "      <th>5</th>\n",
       "      <td>Symptoms of Depressive Disorder</td>\n",
       "      <td>United States</td>\n",
       "      <td>By Age</td>\n",
       "      <td>60 - 69 years</td>\n",
       "      <td>Phase 1</td>\n",
       "      <td>Apr 23 - May 5, 2020</td>\n",
       "      <td>18.4</td>\n",
       "    </tr>\n",
       "    <tr>\n",
       "      <th>...</th>\n",
       "      <td>...</td>\n",
       "      <td>...</td>\n",
       "      <td>...</td>\n",
       "      <td>...</td>\n",
       "      <td>...</td>\n",
       "      <td>...</td>\n",
       "      <td>...</td>\n",
       "    </tr>\n",
       "    <tr>\n",
       "      <th>9130</th>\n",
       "      <td>Symptoms of Anxiety Disorder or Depressive Dis...</td>\n",
       "      <td>Virginia</td>\n",
       "      <td>By State</td>\n",
       "      <td>Virginia</td>\n",
       "      <td>Phase 7</td>\n",
       "      <td>Dec 29, 2021 - Jan 10, 2022</td>\n",
       "      <td>35.4</td>\n",
       "    </tr>\n",
       "    <tr>\n",
       "      <th>9131</th>\n",
       "      <td>Symptoms of Anxiety Disorder or Depressive Dis...</td>\n",
       "      <td>Washington</td>\n",
       "      <td>By State</td>\n",
       "      <td>Washington</td>\n",
       "      <td>Phase 7</td>\n",
       "      <td>Dec 29, 2021 - Jan 10, 2022</td>\n",
       "      <td>32.7</td>\n",
       "    </tr>\n",
       "    <tr>\n",
       "      <th>9132</th>\n",
       "      <td>Symptoms of Anxiety Disorder or Depressive Dis...</td>\n",
       "      <td>West Virginia</td>\n",
       "      <td>By State</td>\n",
       "      <td>West Virginia</td>\n",
       "      <td>Phase 7</td>\n",
       "      <td>Dec 29, 2021 - Jan 10, 2022</td>\n",
       "      <td>34.6</td>\n",
       "    </tr>\n",
       "    <tr>\n",
       "      <th>9133</th>\n",
       "      <td>Symptoms of Anxiety Disorder or Depressive Dis...</td>\n",
       "      <td>Wisconsin</td>\n",
       "      <td>By State</td>\n",
       "      <td>Wisconsin</td>\n",
       "      <td>Phase 7</td>\n",
       "      <td>Dec 29, 2021 - Jan 10, 2022</td>\n",
       "      <td>25.5</td>\n",
       "    </tr>\n",
       "    <tr>\n",
       "      <th>9134</th>\n",
       "      <td>Symptoms of Anxiety Disorder or Depressive Dis...</td>\n",
       "      <td>Wyoming</td>\n",
       "      <td>By State</td>\n",
       "      <td>Wyoming</td>\n",
       "      <td>Phase 7</td>\n",
       "      <td>Dec 29, 2021 - Jan 10, 2022</td>\n",
       "      <td>33.9</td>\n",
       "    </tr>\n",
       "  </tbody>\n",
       "</table>\n",
       "<p>8715 rows × 7 columns</p>\n",
       "</div>"
      ],
      "text/plain": [
       "                                              Indicator          State  \\\n",
       "1                       Symptoms of Depressive Disorder  United States   \n",
       "2                       Symptoms of Depressive Disorder  United States   \n",
       "3                       Symptoms of Depressive Disorder  United States   \n",
       "4                       Symptoms of Depressive Disorder  United States   \n",
       "5                       Symptoms of Depressive Disorder  United States   \n",
       "...                                                 ...            ...   \n",
       "9130  Symptoms of Anxiety Disorder or Depressive Dis...       Virginia   \n",
       "9131  Symptoms of Anxiety Disorder or Depressive Dis...     Washington   \n",
       "9132  Symptoms of Anxiety Disorder or Depressive Dis...  West Virginia   \n",
       "9133  Symptoms of Anxiety Disorder or Depressive Dis...      Wisconsin   \n",
       "9134  Symptoms of Anxiety Disorder or Depressive Dis...        Wyoming   \n",
       "\n",
       "         Group       Subgroup   Phases            Time Period Label  Value  \n",
       "1       By Age  18 - 29 years  Phase 1         Apr 23 - May 5, 2020   32.7  \n",
       "2       By Age  30 - 39 years  Phase 1         Apr 23 - May 5, 2020   25.7  \n",
       "3       By Age  40 - 49 years  Phase 1         Apr 23 - May 5, 2020   24.8  \n",
       "4       By Age  50 - 59 years  Phase 1         Apr 23 - May 5, 2020   23.2  \n",
       "5       By Age  60 - 69 years  Phase 1         Apr 23 - May 5, 2020   18.4  \n",
       "...        ...            ...      ...                          ...    ...  \n",
       "9130  By State       Virginia  Phase 7  Dec 29, 2021 - Jan 10, 2022   35.4  \n",
       "9131  By State     Washington  Phase 7  Dec 29, 2021 - Jan 10, 2022   32.7  \n",
       "9132  By State  West Virginia  Phase 7  Dec 29, 2021 - Jan 10, 2022   34.6  \n",
       "9133  By State      Wisconsin  Phase 7  Dec 29, 2021 - Jan 10, 2022   25.5  \n",
       "9134  By State        Wyoming  Phase 7  Dec 29, 2021 - Jan 10, 2022   33.9  \n",
       "\n",
       "[8715 rows x 7 columns]"
      ]
     },
     "execution_count": 36,
     "metadata": {},
     "output_type": "execute_result"
    }
   ],
   "source": [
    "clean_df = clean_df[clean_df['Group'] != 'National Estimate']\n",
    "clean_df"
   ]
  },
  {
   "cell_type": "code",
   "execution_count": 37,
   "metadata": {},
   "outputs": [
    {
     "data": {
      "text/html": [
       "<div>\n",
       "<style scoped>\n",
       "    .dataframe tbody tr th:only-of-type {\n",
       "        vertical-align: middle;\n",
       "    }\n",
       "\n",
       "    .dataframe tbody tr th {\n",
       "        vertical-align: top;\n",
       "    }\n",
       "\n",
       "    .dataframe thead th {\n",
       "        text-align: right;\n",
       "    }\n",
       "</style>\n",
       "<table border=\"1\" class=\"dataframe\">\n",
       "  <thead>\n",
       "    <tr style=\"text-align: right;\">\n",
       "      <th></th>\n",
       "      <th>Indicator</th>\n",
       "      <th>State</th>\n",
       "      <th>Group</th>\n",
       "      <th>Subgroup</th>\n",
       "      <th>Phases</th>\n",
       "      <th>Time Period Label</th>\n",
       "      <th>Value</th>\n",
       "    </tr>\n",
       "  </thead>\n",
       "  <tbody>\n",
       "    <tr>\n",
       "      <th>19</th>\n",
       "      <td>Symptoms of Depressive Disorder</td>\n",
       "      <td>Alabama</td>\n",
       "      <td>By State</td>\n",
       "      <td>Alabama</td>\n",
       "      <td>Phase 1</td>\n",
       "      <td>Apr 23 - May 5, 2020</td>\n",
       "      <td>18.6</td>\n",
       "    </tr>\n",
       "    <tr>\n",
       "      <th>20</th>\n",
       "      <td>Symptoms of Depressive Disorder</td>\n",
       "      <td>Alaska</td>\n",
       "      <td>By State</td>\n",
       "      <td>Alaska</td>\n",
       "      <td>Phase 1</td>\n",
       "      <td>Apr 23 - May 5, 2020</td>\n",
       "      <td>19.2</td>\n",
       "    </tr>\n",
       "    <tr>\n",
       "      <th>21</th>\n",
       "      <td>Symptoms of Depressive Disorder</td>\n",
       "      <td>Arizona</td>\n",
       "      <td>By State</td>\n",
       "      <td>Arizona</td>\n",
       "      <td>Phase 1</td>\n",
       "      <td>Apr 23 - May 5, 2020</td>\n",
       "      <td>22.4</td>\n",
       "    </tr>\n",
       "  </tbody>\n",
       "</table>\n",
       "</div>"
      ],
      "text/plain": [
       "                          Indicator    State     Group Subgroup   Phases  \\\n",
       "19  Symptoms of Depressive Disorder  Alabama  By State  Alabama  Phase 1   \n",
       "20  Symptoms of Depressive Disorder   Alaska  By State   Alaska  Phase 1   \n",
       "21  Symptoms of Depressive Disorder  Arizona  By State  Arizona  Phase 1   \n",
       "\n",
       "       Time Period Label  Value  \n",
       "19  Apr 23 - May 5, 2020   18.6  \n",
       "20  Apr 23 - May 5, 2020   19.2  \n",
       "21  Apr 23 - May 5, 2020   22.4  "
      ]
     },
     "execution_count": 37,
     "metadata": {},
     "output_type": "execute_result"
    }
   ],
   "source": [
    "states_only = clean_df[clean_df['State'] != 'United States']\n",
    "\n",
    "states_only.head(3)"
   ]
  },
  {
   "cell_type": "code",
   "execution_count": 68,
   "metadata": {},
   "outputs": [
    {
     "data": {
      "text/html": [
       "<div>\n",
       "<style scoped>\n",
       "    .dataframe tbody tr th:only-of-type {\n",
       "        vertical-align: middle;\n",
       "    }\n",
       "\n",
       "    .dataframe tbody tr th {\n",
       "        vertical-align: top;\n",
       "    }\n",
       "\n",
       "    .dataframe thead th {\n",
       "        text-align: right;\n",
       "    }\n",
       "</style>\n",
       "<table border=\"1\" class=\"dataframe\">\n",
       "  <thead>\n",
       "    <tr style=\"text-align: right;\">\n",
       "      <th></th>\n",
       "      <th>Indicator</th>\n",
       "      <th>State</th>\n",
       "      <th>Group</th>\n",
       "      <th>Subgroup</th>\n",
       "      <th>Phases</th>\n",
       "      <th>Time Period Label</th>\n",
       "      <th>Value</th>\n",
       "    </tr>\n",
       "  </thead>\n",
       "  <tbody>\n",
       "    <tr>\n",
       "      <th>1</th>\n",
       "      <td>Symptoms of Depressive Disorder</td>\n",
       "      <td>United States</td>\n",
       "      <td>By Age</td>\n",
       "      <td>18 - 29 years</td>\n",
       "      <td>Phase 1</td>\n",
       "      <td>Apr 23 - May 5, 2020</td>\n",
       "      <td>32.7</td>\n",
       "    </tr>\n",
       "    <tr>\n",
       "      <th>2</th>\n",
       "      <td>Symptoms of Depressive Disorder</td>\n",
       "      <td>United States</td>\n",
       "      <td>By Age</td>\n",
       "      <td>30 - 39 years</td>\n",
       "      <td>Phase 1</td>\n",
       "      <td>Apr 23 - May 5, 2020</td>\n",
       "      <td>25.7</td>\n",
       "    </tr>\n",
       "    <tr>\n",
       "      <th>3</th>\n",
       "      <td>Symptoms of Depressive Disorder</td>\n",
       "      <td>United States</td>\n",
       "      <td>By Age</td>\n",
       "      <td>40 - 49 years</td>\n",
       "      <td>Phase 1</td>\n",
       "      <td>Apr 23 - May 5, 2020</td>\n",
       "      <td>24.8</td>\n",
       "    </tr>\n",
       "    <tr>\n",
       "      <th>4</th>\n",
       "      <td>Symptoms of Depressive Disorder</td>\n",
       "      <td>United States</td>\n",
       "      <td>By Age</td>\n",
       "      <td>50 - 59 years</td>\n",
       "      <td>Phase 1</td>\n",
       "      <td>Apr 23 - May 5, 2020</td>\n",
       "      <td>23.2</td>\n",
       "    </tr>\n",
       "    <tr>\n",
       "      <th>5</th>\n",
       "      <td>Symptoms of Depressive Disorder</td>\n",
       "      <td>United States</td>\n",
       "      <td>By Age</td>\n",
       "      <td>60 - 69 years</td>\n",
       "      <td>Phase 1</td>\n",
       "      <td>Apr 23 - May 5, 2020</td>\n",
       "      <td>18.4</td>\n",
       "    </tr>\n",
       "    <tr>\n",
       "      <th>...</th>\n",
       "      <td>...</td>\n",
       "      <td>...</td>\n",
       "      <td>...</td>\n",
       "      <td>...</td>\n",
       "      <td>...</td>\n",
       "      <td>...</td>\n",
       "      <td>...</td>\n",
       "    </tr>\n",
       "    <tr>\n",
       "      <th>9079</th>\n",
       "      <td>Symptoms of Anxiety Disorder or Depressive Dis...</td>\n",
       "      <td>United States</td>\n",
       "      <td>By Education</td>\n",
       "      <td>High school diploma or GED</td>\n",
       "      <td>Phase 7</td>\n",
       "      <td>Dec 29, 2021 - Jan 10, 2022</td>\n",
       "      <td>32.7</td>\n",
       "    </tr>\n",
       "    <tr>\n",
       "      <th>9080</th>\n",
       "      <td>Symptoms of Anxiety Disorder or Depressive Dis...</td>\n",
       "      <td>United States</td>\n",
       "      <td>By Education</td>\n",
       "      <td>Some college/Associate's degree</td>\n",
       "      <td>Phase 7</td>\n",
       "      <td>Dec 29, 2021 - Jan 10, 2022</td>\n",
       "      <td>36.2</td>\n",
       "    </tr>\n",
       "    <tr>\n",
       "      <th>9081</th>\n",
       "      <td>Symptoms of Anxiety Disorder or Depressive Dis...</td>\n",
       "      <td>United States</td>\n",
       "      <td>By Education</td>\n",
       "      <td>Bachelor's degree or higher</td>\n",
       "      <td>Phase 7</td>\n",
       "      <td>Dec 29, 2021 - Jan 10, 2022</td>\n",
       "      <td>27.4</td>\n",
       "    </tr>\n",
       "    <tr>\n",
       "      <th>9082</th>\n",
       "      <td>Symptoms of Anxiety Disorder or Depressive Dis...</td>\n",
       "      <td>United States</td>\n",
       "      <td>By Disability status</td>\n",
       "      <td>With disability</td>\n",
       "      <td>Phase 7</td>\n",
       "      <td>Dec 29, 2021 - Jan 10, 2022</td>\n",
       "      <td>60.4</td>\n",
       "    </tr>\n",
       "    <tr>\n",
       "      <th>9083</th>\n",
       "      <td>Symptoms of Anxiety Disorder or Depressive Dis...</td>\n",
       "      <td>United States</td>\n",
       "      <td>By Disability status</td>\n",
       "      <td>Without disability</td>\n",
       "      <td>Phase 7</td>\n",
       "      <td>Dec 29, 2021 - Jan 10, 2022</td>\n",
       "      <td>27.4</td>\n",
       "    </tr>\n",
       "  </tbody>\n",
       "</table>\n",
       "<p>2442 rows × 7 columns</p>\n",
       "</div>"
      ],
      "text/plain": [
       "                                              Indicator          State  \\\n",
       "1                       Symptoms of Depressive Disorder  United States   \n",
       "2                       Symptoms of Depressive Disorder  United States   \n",
       "3                       Symptoms of Depressive Disorder  United States   \n",
       "4                       Symptoms of Depressive Disorder  United States   \n",
       "5                       Symptoms of Depressive Disorder  United States   \n",
       "...                                                 ...            ...   \n",
       "9079  Symptoms of Anxiety Disorder or Depressive Dis...  United States   \n",
       "9080  Symptoms of Anxiety Disorder or Depressive Dis...  United States   \n",
       "9081  Symptoms of Anxiety Disorder or Depressive Dis...  United States   \n",
       "9082  Symptoms of Anxiety Disorder or Depressive Dis...  United States   \n",
       "9083  Symptoms of Anxiety Disorder or Depressive Dis...  United States   \n",
       "\n",
       "                     Group                         Subgroup   Phases  \\\n",
       "1                   By Age                    18 - 29 years  Phase 1   \n",
       "2                   By Age                    30 - 39 years  Phase 1   \n",
       "3                   By Age                    40 - 49 years  Phase 1   \n",
       "4                   By Age                    50 - 59 years  Phase 1   \n",
       "5                   By Age                    60 - 69 years  Phase 1   \n",
       "...                    ...                              ...      ...   \n",
       "9079          By Education       High school diploma or GED  Phase 7   \n",
       "9080          By Education  Some college/Associate's degree  Phase 7   \n",
       "9081          By Education      Bachelor's degree or higher  Phase 7   \n",
       "9082  By Disability status                  With disability  Phase 7   \n",
       "9083  By Disability status               Without disability  Phase 7   \n",
       "\n",
       "                Time Period Label  Value  \n",
       "1            Apr 23 - May 5, 2020   32.7  \n",
       "2            Apr 23 - May 5, 2020   25.7  \n",
       "3            Apr 23 - May 5, 2020   24.8  \n",
       "4            Apr 23 - May 5, 2020   23.2  \n",
       "5            Apr 23 - May 5, 2020   18.4  \n",
       "...                           ...    ...  \n",
       "9079  Dec 29, 2021 - Jan 10, 2022   32.7  \n",
       "9080  Dec 29, 2021 - Jan 10, 2022   36.2  \n",
       "9081  Dec 29, 2021 - Jan 10, 2022   27.4  \n",
       "9082  Dec 29, 2021 - Jan 10, 2022   60.4  \n",
       "9083  Dec 29, 2021 - Jan 10, 2022   27.4  \n",
       "\n",
       "[2442 rows x 7 columns]"
      ]
     },
     "execution_count": 68,
     "metadata": {},
     "output_type": "execute_result"
    }
   ],
   "source": [
    "us_only = clean_df[clean_df['State'] == 'United States']\n",
    "\n",
    "us_only"
   ]
  },
  {
   "cell_type": "markdown",
   "metadata": {},
   "source": [
    "# Visualize Data"
   ]
  },
  {
   "cell_type": "markdown",
   "metadata": {},
   "source": [
    "## United States Statistics"
   ]
  },
  {
   "cell_type": "code",
   "execution_count": 39,
   "metadata": {},
   "outputs": [
    {
     "data": {
      "text/plain": [
       "array(['Blue', 'Blue', 'Blue', ..., 'Green', 'Green', 'Green'],\n",
       "      dtype='<U5')"
      ]
     },
     "execution_count": 39,
     "metadata": {},
     "output_type": "execute_result"
    }
   ],
   "source": [
    "#Assign colors to each Indicator *U.S df only*\n",
    "\n",
    "\n",
    "#create a list of conditions\n",
    "color_conditions = [ \n",
    "    (us_only['Indicator'] == 'Symptoms of Anxiety Disorder'), #1\n",
    "    (us_only['Indicator'] == 'Symptoms of Depressive Disorder'), #2\n",
    "    (us_only['Indicator'] == 'Symptoms of Anxiety Disorder or Depressive Disorder'), #3\n",
    "    ]\n",
    "#create a list of the values we want to assign for each condition\n",
    "colors = ['Red','Blue','Green']\n",
    "\n",
    "#use np.select to assign values \n",
    "us_indicator_colors = np.select(color_conditions, colors)\n",
    "\n",
    "#display \n",
    "us_indicator_colors"
   ]
  },
  {
   "cell_type": "code",
   "execution_count": 93,
   "metadata": {},
   "outputs": [
    {
     "data": {
      "text/plain": [
       "array(['By Age', 'By Sex', 'By Race/Hispanic ethnicity', 'By Education',\n",
       "       'By Disability status', 'By Gender identity',\n",
       "       'By Sexual orientation'], dtype=object)"
      ]
     },
     "execution_count": 93,
     "metadata": {},
     "output_type": "execute_result"
    }
   ],
   "source": [
    "us_only['Group'].unique()"
   ]
  },
  {
   "cell_type": "markdown",
   "metadata": {},
   "source": [
    "### US By Age"
   ]
  },
  {
   "cell_type": "code",
   "execution_count": 72,
   "metadata": {},
   "outputs": [
    {
     "data": {
      "text/html": [
       "<div>\n",
       "<style scoped>\n",
       "    .dataframe tbody tr th:only-of-type {\n",
       "        vertical-align: middle;\n",
       "    }\n",
       "\n",
       "    .dataframe tbody tr th {\n",
       "        vertical-align: top;\n",
       "    }\n",
       "\n",
       "    .dataframe thead th {\n",
       "        text-align: right;\n",
       "    }\n",
       "</style>\n",
       "<table border=\"1\" class=\"dataframe\">\n",
       "  <thead>\n",
       "    <tr style=\"text-align: right;\">\n",
       "      <th></th>\n",
       "      <th>Indicator</th>\n",
       "      <th>State</th>\n",
       "      <th>Group</th>\n",
       "      <th>Subgroup</th>\n",
       "      <th>Phases</th>\n",
       "      <th>Time Period Label</th>\n",
       "      <th>Value</th>\n",
       "    </tr>\n",
       "  </thead>\n",
       "  <tbody>\n",
       "    <tr>\n",
       "      <th>1</th>\n",
       "      <td>Symptoms of Depressive Disorder</td>\n",
       "      <td>United States</td>\n",
       "      <td>By Age</td>\n",
       "      <td>18 - 29 years</td>\n",
       "      <td>Phase 1</td>\n",
       "      <td>Apr 23 - May 5, 2020</td>\n",
       "      <td>32.7</td>\n",
       "    </tr>\n",
       "    <tr>\n",
       "      <th>2</th>\n",
       "      <td>Symptoms of Depressive Disorder</td>\n",
       "      <td>United States</td>\n",
       "      <td>By Age</td>\n",
       "      <td>30 - 39 years</td>\n",
       "      <td>Phase 1</td>\n",
       "      <td>Apr 23 - May 5, 2020</td>\n",
       "      <td>25.7</td>\n",
       "    </tr>\n",
       "    <tr>\n",
       "      <th>3</th>\n",
       "      <td>Symptoms of Depressive Disorder</td>\n",
       "      <td>United States</td>\n",
       "      <td>By Age</td>\n",
       "      <td>40 - 49 years</td>\n",
       "      <td>Phase 1</td>\n",
       "      <td>Apr 23 - May 5, 2020</td>\n",
       "      <td>24.8</td>\n",
       "    </tr>\n",
       "    <tr>\n",
       "      <th>4</th>\n",
       "      <td>Symptoms of Depressive Disorder</td>\n",
       "      <td>United States</td>\n",
       "      <td>By Age</td>\n",
       "      <td>50 - 59 years</td>\n",
       "      <td>Phase 1</td>\n",
       "      <td>Apr 23 - May 5, 2020</td>\n",
       "      <td>23.2</td>\n",
       "    </tr>\n",
       "    <tr>\n",
       "      <th>5</th>\n",
       "      <td>Symptoms of Depressive Disorder</td>\n",
       "      <td>United States</td>\n",
       "      <td>By Age</td>\n",
       "      <td>60 - 69 years</td>\n",
       "      <td>Phase 1</td>\n",
       "      <td>Apr 23 - May 5, 2020</td>\n",
       "      <td>18.4</td>\n",
       "    </tr>\n",
       "    <tr>\n",
       "      <th>...</th>\n",
       "      <td>...</td>\n",
       "      <td>...</td>\n",
       "      <td>...</td>\n",
       "      <td>...</td>\n",
       "      <td>...</td>\n",
       "      <td>...</td>\n",
       "      <td>...</td>\n",
       "    </tr>\n",
       "    <tr>\n",
       "      <th>9060</th>\n",
       "      <td>Symptoms of Anxiety Disorder or Depressive Dis...</td>\n",
       "      <td>United States</td>\n",
       "      <td>By Age</td>\n",
       "      <td>40 - 49 years</td>\n",
       "      <td>Phase 7</td>\n",
       "      <td>Dec 29, 2021 - Jan 10, 2022</td>\n",
       "      <td>35.2</td>\n",
       "    </tr>\n",
       "    <tr>\n",
       "      <th>9061</th>\n",
       "      <td>Symptoms of Anxiety Disorder or Depressive Dis...</td>\n",
       "      <td>United States</td>\n",
       "      <td>By Age</td>\n",
       "      <td>50 - 59 years</td>\n",
       "      <td>Phase 7</td>\n",
       "      <td>Dec 29, 2021 - Jan 10, 2022</td>\n",
       "      <td>29.8</td>\n",
       "    </tr>\n",
       "    <tr>\n",
       "      <th>9062</th>\n",
       "      <td>Symptoms of Anxiety Disorder or Depressive Dis...</td>\n",
       "      <td>United States</td>\n",
       "      <td>By Age</td>\n",
       "      <td>60 - 69 years</td>\n",
       "      <td>Phase 7</td>\n",
       "      <td>Dec 29, 2021 - Jan 10, 2022</td>\n",
       "      <td>22.7</td>\n",
       "    </tr>\n",
       "    <tr>\n",
       "      <th>9063</th>\n",
       "      <td>Symptoms of Anxiety Disorder or Depressive Dis...</td>\n",
       "      <td>United States</td>\n",
       "      <td>By Age</td>\n",
       "      <td>70 - 79 years</td>\n",
       "      <td>Phase 7</td>\n",
       "      <td>Dec 29, 2021 - Jan 10, 2022</td>\n",
       "      <td>16.1</td>\n",
       "    </tr>\n",
       "    <tr>\n",
       "      <th>9064</th>\n",
       "      <td>Symptoms of Anxiety Disorder or Depressive Dis...</td>\n",
       "      <td>United States</td>\n",
       "      <td>By Age</td>\n",
       "      <td>80 years and above</td>\n",
       "      <td>Phase 7</td>\n",
       "      <td>Dec 29, 2021 - Jan 10, 2022</td>\n",
       "      <td>15.0</td>\n",
       "    </tr>\n",
       "  </tbody>\n",
       "</table>\n",
       "<p>861 rows × 7 columns</p>\n",
       "</div>"
      ],
      "text/plain": [
       "                                              Indicator          State  \\\n",
       "1                       Symptoms of Depressive Disorder  United States   \n",
       "2                       Symptoms of Depressive Disorder  United States   \n",
       "3                       Symptoms of Depressive Disorder  United States   \n",
       "4                       Symptoms of Depressive Disorder  United States   \n",
       "5                       Symptoms of Depressive Disorder  United States   \n",
       "...                                                 ...            ...   \n",
       "9060  Symptoms of Anxiety Disorder or Depressive Dis...  United States   \n",
       "9061  Symptoms of Anxiety Disorder or Depressive Dis...  United States   \n",
       "9062  Symptoms of Anxiety Disorder or Depressive Dis...  United States   \n",
       "9063  Symptoms of Anxiety Disorder or Depressive Dis...  United States   \n",
       "9064  Symptoms of Anxiety Disorder or Depressive Dis...  United States   \n",
       "\n",
       "       Group            Subgroup   Phases            Time Period Label  Value  \n",
       "1     By Age       18 - 29 years  Phase 1         Apr 23 - May 5, 2020   32.7  \n",
       "2     By Age       30 - 39 years  Phase 1         Apr 23 - May 5, 2020   25.7  \n",
       "3     By Age       40 - 49 years  Phase 1         Apr 23 - May 5, 2020   24.8  \n",
       "4     By Age       50 - 59 years  Phase 1         Apr 23 - May 5, 2020   23.2  \n",
       "5     By Age       60 - 69 years  Phase 1         Apr 23 - May 5, 2020   18.4  \n",
       "...      ...                 ...      ...                          ...    ...  \n",
       "9060  By Age       40 - 49 years  Phase 7  Dec 29, 2021 - Jan 10, 2022   35.2  \n",
       "9061  By Age       50 - 59 years  Phase 7  Dec 29, 2021 - Jan 10, 2022   29.8  \n",
       "9062  By Age       60 - 69 years  Phase 7  Dec 29, 2021 - Jan 10, 2022   22.7  \n",
       "9063  By Age       70 - 79 years  Phase 7  Dec 29, 2021 - Jan 10, 2022   16.1  \n",
       "9064  By Age  80 years and above  Phase 7  Dec 29, 2021 - Jan 10, 2022   15.0  \n",
       "\n",
       "[861 rows x 7 columns]"
      ]
     },
     "execution_count": 72,
     "metadata": {},
     "output_type": "execute_result"
    }
   ],
   "source": [
    "us_by_age = us_only[us_only['Group'] == 'By Age']\n",
    "\n",
    "us_by_age "
   ]
  },
  {
   "cell_type": "code",
   "execution_count": 321,
   "metadata": {},
   "outputs": [
    {
     "data": {
      "image/png": "[encoded data removed]",
      "text/plain": [
       "<Figure size 432x288 with 1 Axes>"
      ]
     },
     "metadata": {},
     "output_type": "display_data"
    }
   ],
   "source": [
    "#prepare the data to plot\n",
    "ages = us_by_age['Subgroup']\n",
    "percent = us_by_age['Value']\n",
    "\n",
    "#create bar chart\n",
    "plt.bar(ages, percent) #, color= ('b', 'g', 'r', 'c', 'm', 'y', 'k', 'w'))\n",
    "\n",
    "#adjust labels\n",
    "plt.title('Percentage of Americans showing ALL Symptoms')\n",
    "plt.xlabel('Age Ranges')\n",
    "plt.xticks(rotation= 45)\n",
    "plt.ylabel('Percentage')\n",
    "plt.show()"
   ]
  },
  {
   "cell_type": "markdown",
   "metadata": {},
   "source": [
    "### US by Sex"
   ]
  },
  {
   "cell_type": "code",
   "execution_count": 220,
   "metadata": {},
   "outputs": [
    {
     "data": {
      "text/html": [
       "<div>\n",
       "<style scoped>\n",
       "    .dataframe tbody tr th:only-of-type {\n",
       "        vertical-align: middle;\n",
       "    }\n",
       "\n",
       "    .dataframe tbody tr th {\n",
       "        vertical-align: top;\n",
       "    }\n",
       "\n",
       "    .dataframe thead th {\n",
       "        text-align: right;\n",
       "    }\n",
       "</style>\n",
       "<table border=\"1\" class=\"dataframe\">\n",
       "  <thead>\n",
       "    <tr style=\"text-align: right;\">\n",
       "      <th></th>\n",
       "      <th>Indicator</th>\n",
       "      <th>State</th>\n",
       "      <th>Group</th>\n",
       "      <th>Subgroup</th>\n",
       "      <th>Phases</th>\n",
       "      <th>Time Period Label</th>\n",
       "      <th>Value</th>\n",
       "    </tr>\n",
       "  </thead>\n",
       "  <tbody>\n",
       "    <tr>\n",
       "      <th>8</th>\n",
       "      <td>Symptoms of Depressive Disorder</td>\n",
       "      <td>United States</td>\n",
       "      <td>By Sex</td>\n",
       "      <td>Male</td>\n",
       "      <td>Phase 1</td>\n",
       "      <td>Apr 23 - May 5, 2020</td>\n",
       "      <td>20.8</td>\n",
       "    </tr>\n",
       "    <tr>\n",
       "      <th>9</th>\n",
       "      <td>Symptoms of Depressive Disorder</td>\n",
       "      <td>United States</td>\n",
       "      <td>By Sex</td>\n",
       "      <td>Female</td>\n",
       "      <td>Phase 1</td>\n",
       "      <td>Apr 23 - May 5, 2020</td>\n",
       "      <td>26.1</td>\n",
       "    </tr>\n",
       "    <tr>\n",
       "      <th>78</th>\n",
       "      <td>Symptoms of Anxiety Disorder</td>\n",
       "      <td>United States</td>\n",
       "      <td>By Sex</td>\n",
       "      <td>Male</td>\n",
       "      <td>Phase 1</td>\n",
       "      <td>Apr 23 - May 5, 2020</td>\n",
       "      <td>26.1</td>\n",
       "    </tr>\n",
       "    <tr>\n",
       "      <th>79</th>\n",
       "      <td>Symptoms of Anxiety Disorder</td>\n",
       "      <td>United States</td>\n",
       "      <td>By Sex</td>\n",
       "      <td>Female</td>\n",
       "      <td>Phase 1</td>\n",
       "      <td>Apr 23 - May 5, 2020</td>\n",
       "      <td>35.4</td>\n",
       "    </tr>\n",
       "    <tr>\n",
       "      <th>148</th>\n",
       "      <td>Symptoms of Anxiety Disorder or Depressive Dis...</td>\n",
       "      <td>United States</td>\n",
       "      <td>By Sex</td>\n",
       "      <td>Male</td>\n",
       "      <td>Phase 1</td>\n",
       "      <td>Apr 23 - May 5, 2020</td>\n",
       "      <td>31.0</td>\n",
       "    </tr>\n",
       "    <tr>\n",
       "      <th>...</th>\n",
       "      <td>...</td>\n",
       "      <td>...</td>\n",
       "      <td>...</td>\n",
       "      <td>...</td>\n",
       "      <td>...</td>\n",
       "      <td>...</td>\n",
       "      <td>...</td>\n",
       "    </tr>\n",
       "    <tr>\n",
       "      <th>8910</th>\n",
       "      <td>Symptoms of Depressive Disorder</td>\n",
       "      <td>United States</td>\n",
       "      <td>By Sex</td>\n",
       "      <td>Female</td>\n",
       "      <td>Phase 7</td>\n",
       "      <td>Dec 29, 2021 - Jan 10, 2022</td>\n",
       "      <td>24.8</td>\n",
       "    </tr>\n",
       "    <tr>\n",
       "      <th>8987</th>\n",
       "      <td>Symptoms of Anxiety Disorder</td>\n",
       "      <td>United States</td>\n",
       "      <td>By Sex</td>\n",
       "      <td>Male</td>\n",
       "      <td>Phase 7</td>\n",
       "      <td>Dec 29, 2021 - Jan 10, 2022</td>\n",
       "      <td>23.8</td>\n",
       "    </tr>\n",
       "    <tr>\n",
       "      <th>8988</th>\n",
       "      <td>Symptoms of Anxiety Disorder</td>\n",
       "      <td>United States</td>\n",
       "      <td>By Sex</td>\n",
       "      <td>Female</td>\n",
       "      <td>Phase 7</td>\n",
       "      <td>Dec 29, 2021 - Jan 10, 2022</td>\n",
       "      <td>31.7</td>\n",
       "    </tr>\n",
       "    <tr>\n",
       "      <th>9065</th>\n",
       "      <td>Symptoms of Anxiety Disorder or Depressive Dis...</td>\n",
       "      <td>United States</td>\n",
       "      <td>By Sex</td>\n",
       "      <td>Male</td>\n",
       "      <td>Phase 7</td>\n",
       "      <td>Dec 29, 2021 - Jan 10, 2022</td>\n",
       "      <td>28.0</td>\n",
       "    </tr>\n",
       "    <tr>\n",
       "      <th>9066</th>\n",
       "      <td>Symptoms of Anxiety Disorder or Depressive Dis...</td>\n",
       "      <td>United States</td>\n",
       "      <td>By Sex</td>\n",
       "      <td>Female</td>\n",
       "      <td>Phase 7</td>\n",
       "      <td>Dec 29, 2021 - Jan 10, 2022</td>\n",
       "      <td>35.8</td>\n",
       "    </tr>\n",
       "  </tbody>\n",
       "</table>\n",
       "<p>246 rows × 7 columns</p>\n",
       "</div>"
      ],
      "text/plain": [
       "                                              Indicator          State  \\\n",
       "8                       Symptoms of Depressive Disorder  United States   \n",
       "9                       Symptoms of Depressive Disorder  United States   \n",
       "78                         Symptoms of Anxiety Disorder  United States   \n",
       "79                         Symptoms of Anxiety Disorder  United States   \n",
       "148   Symptoms of Anxiety Disorder or Depressive Dis...  United States   \n",
       "...                                                 ...            ...   \n",
       "8910                    Symptoms of Depressive Disorder  United States   \n",
       "8987                       Symptoms of Anxiety Disorder  United States   \n",
       "8988                       Symptoms of Anxiety Disorder  United States   \n",
       "9065  Symptoms of Anxiety Disorder or Depressive Dis...  United States   \n",
       "9066  Symptoms of Anxiety Disorder or Depressive Dis...  United States   \n",
       "\n",
       "       Group Subgroup   Phases            Time Period Label  Value  \n",
       "8     By Sex     Male  Phase 1         Apr 23 - May 5, 2020   20.8  \n",
       "9     By Sex   Female  Phase 1         Apr 23 - May 5, 2020   26.1  \n",
       "78    By Sex     Male  Phase 1         Apr 23 - May 5, 2020   26.1  \n",
       "79    By Sex   Female  Phase 1         Apr 23 - May 5, 2020   35.4  \n",
       "148   By Sex     Male  Phase 1         Apr 23 - May 5, 2020   31.0  \n",
       "...      ...      ...      ...                          ...    ...  \n",
       "8910  By Sex   Female  Phase 7  Dec 29, 2021 - Jan 10, 2022   24.8  \n",
       "8987  By Sex     Male  Phase 7  Dec 29, 2021 - Jan 10, 2022   23.8  \n",
       "8988  By Sex   Female  Phase 7  Dec 29, 2021 - Jan 10, 2022   31.7  \n",
       "9065  By Sex     Male  Phase 7  Dec 29, 2021 - Jan 10, 2022   28.0  \n",
       "9066  By Sex   Female  Phase 7  Dec 29, 2021 - Jan 10, 2022   35.8  \n",
       "\n",
       "[246 rows x 7 columns]"
      ]
     },
     "execution_count": 220,
     "metadata": {},
     "output_type": "execute_result"
    }
   ],
   "source": [
    "us_by_sex = us_only[us_only['Group'] == 'By Sex']\n",
    "\n",
    "us_by_sex"
   ]
  },
  {
   "cell_type": "code",
   "execution_count": 188,
   "metadata": {},
   "outputs": [
    {
     "data": {
      "image/png": "[encoded data removed]",
      "text/plain": [
       "<Figure size 432x288 with 1 Axes>"
      ]
     },
     "metadata": {},
     "output_type": "display_data"
    }
   ],
   "source": [
    "#prepare the data to plot\n",
    "sex = us_by_sex['Subgroup']\n",
    "percent = us_by_sex['Value']\n",
    "\n",
    "#create bar chart\n",
    "plt.bar(sex, percent)\n",
    "\n",
    "#adjust labels\n",
    "plt.title('Symptoms Reported By Sex')\n",
    "plt.xlabel('Sex')\n",
    "plt.xticks(rotation= 0)\n",
    "plt.ylabel('Percentage')\n",
    "plt.show()"
   ]
  },
  {
   "cell_type": "code",
   "execution_count": 221,
   "metadata": {},
   "outputs": [
    {
     "data": {
      "text/plain": [
       "Symptoms of Depressive Disorder                        82\n",
       "Symptoms of Anxiety Disorder                           82\n",
       "Symptoms of Anxiety Disorder or Depressive Disorder    82\n",
       "Name: Indicator, dtype: int64"
      ]
     },
     "execution_count": 221,
     "metadata": {},
     "output_type": "execute_result"
    }
   ],
   "source": [
    "#I want the bar graph to also show each symptom\n",
    "\n",
    "\n",
    "us_by_sex['Indicator'].value_counts()"
   ]
  },
  {
   "cell_type": "code",
   "execution_count": 194,
   "metadata": {},
   "outputs": [],
   "source": [
    "#replace the indicator text with integers \n",
    "\n",
    "us_indicators = {'Symptoms of Depressive Disorder': 1,'Symptoms of Anxiety Disorder': 2, 'Symptoms of Anxiety Disorder or Depressive Disorder': 3}"
   ]
  },
  {
   "cell_type": "code",
   "execution_count": 228,
   "metadata": {},
   "outputs": [
    {
     "data": {
      "text/plain": [
       "8       1\n",
       "9       1\n",
       "78      2\n",
       "79      2\n",
       "148     3\n",
       "       ..\n",
       "8910    1\n",
       "8987    2\n",
       "8988    2\n",
       "9065    3\n",
       "9066    3\n",
       "Name: Indicator, Length: 246, dtype: int64"
      ]
     },
     "execution_count": 228,
     "metadata": {},
     "output_type": "execute_result"
    }
   ],
   "source": [
    "#update dataframe with the new integers\n",
    "numeric_ind = us_by_sex['Indicator'].replace(us_indicators)\n",
    "numeric_ind"
   ]
  },
  {
   "cell_type": "code",
   "execution_count": 239,
   "metadata": {},
   "outputs": [
    {
     "data": {
      "text/plain": [
       "False    164\n",
       "True      82\n",
       "Name: Indicator, dtype: int64"
      ]
     },
     "execution_count": 239,
     "metadata": {},
     "output_type": "execute_result"
    }
   ],
   "source": [
    "cat1 = numeric_ind == 1\n",
    "cat2 = numeric_ind == 2\n",
    "cat3 = numeric_ind == 3\n",
    "\n",
    "cat1.value_counts()"
   ]
  },
  {
   "cell_type": "code",
   "execution_count": 322,
   "metadata": {},
   "outputs": [],
   "source": [
    "#symptoms df\n",
    "\n",
    "plotdata = pd.DataFrame({'Depression' : 1, 'Anxiety' : 2, 'Both' :3}, index=[0])"
   ]
  },
  {
   "cell_type": "code",
   "execution_count": 323,
   "metadata": {},
   "outputs": [
    {
     "data": {
      "text/plain": [
       "<AxesSubplot:>"
      ]
     },
     "execution_count": 323,
     "metadata": {},
     "output_type": "execute_result"
    },
    {
     "data": {
      "image/png": "[encoded data removed]",
      "text/plain": [
       "<Figure size 432x288 with 1 Axes>"
      ]
     },
     "metadata": {},
     "output_type": "display_data"
    }
   ],
   "source": [
    "plotdata.plot(kind= 'bar', stacked = True)"
   ]
  },
  {
   "cell_type": "code",
   "execution_count": 254,
   "metadata": {},
   "outputs": [
    {
     "data": {
      "image/png": "[encoded data removed]",
      "text/plain": [
       "<Figure size 1440x576 with 1 Axes>"
      ]
     },
     "metadata": {},
     "output_type": "display_data"
    }
   ],
   "source": [
    "#Percentage of Americans that show symptoms\n",
    "\n",
    "plt.figure(figsize= (20,8))\n",
    "\n",
    "plt.title(\"Precentage of Symptoms X Phases\")\n",
    "\n",
    "#tell it which values to plot\n",
    "plt.scatter(x = us_only['Phases'], y = us_only['Value'], s = 40, c = us_indicator_colors)\n",
    "\n",
    "#create a legend\n",
    "plt.legend(us_indicator_colors)\n",
    "\n",
    "#display figure\n",
    "plt.show()"
   ]
  },
  {
   "cell_type": "markdown",
   "metadata": {},
   "source": [
    "### US By Race/Hispanic ethnicity"
   ]
  },
  {
   "cell_type": "code",
   "execution_count": 255,
   "metadata": {},
   "outputs": [
    {
     "data": {
      "text/html": [
       "<div>\n",
       "<style scoped>\n",
       "    .dataframe tbody tr th:only-of-type {\n",
       "        vertical-align: middle;\n",
       "    }\n",
       "\n",
       "    .dataframe tbody tr th {\n",
       "        vertical-align: top;\n",
       "    }\n",
       "\n",
       "    .dataframe thead th {\n",
       "        text-align: right;\n",
       "    }\n",
       "</style>\n",
       "<table border=\"1\" class=\"dataframe\">\n",
       "  <thead>\n",
       "    <tr style=\"text-align: right;\">\n",
       "      <th></th>\n",
       "      <th>Indicator</th>\n",
       "      <th>State</th>\n",
       "      <th>Group</th>\n",
       "      <th>Subgroup</th>\n",
       "      <th>Phases</th>\n",
       "      <th>Time Period Label</th>\n",
       "      <th>Value</th>\n",
       "    </tr>\n",
       "  </thead>\n",
       "  <tbody>\n",
       "    <tr>\n",
       "      <th>10</th>\n",
       "      <td>Symptoms of Depressive Disorder</td>\n",
       "      <td>United States</td>\n",
       "      <td>By Race/Hispanic ethnicity</td>\n",
       "      <td>Hispanic or Latino</td>\n",
       "      <td>Phase 1</td>\n",
       "      <td>Apr 23 - May 5, 2020</td>\n",
       "      <td>29.4</td>\n",
       "    </tr>\n",
       "    <tr>\n",
       "      <th>11</th>\n",
       "      <td>Symptoms of Depressive Disorder</td>\n",
       "      <td>United States</td>\n",
       "      <td>By Race/Hispanic ethnicity</td>\n",
       "      <td>Non-Hispanic White, single race</td>\n",
       "      <td>Phase 1</td>\n",
       "      <td>Apr 23 - May 5, 2020</td>\n",
       "      <td>21.4</td>\n",
       "    </tr>\n",
       "    <tr>\n",
       "      <th>12</th>\n",
       "      <td>Symptoms of Depressive Disorder</td>\n",
       "      <td>United States</td>\n",
       "      <td>By Race/Hispanic ethnicity</td>\n",
       "      <td>Non-Hispanic Black, single race</td>\n",
       "      <td>Phase 1</td>\n",
       "      <td>Apr 23 - May 5, 2020</td>\n",
       "      <td>25.6</td>\n",
       "    </tr>\n",
       "    <tr>\n",
       "      <th>13</th>\n",
       "      <td>Symptoms of Depressive Disorder</td>\n",
       "      <td>United States</td>\n",
       "      <td>By Race/Hispanic ethnicity</td>\n",
       "      <td>Non-Hispanic Asian, single race</td>\n",
       "      <td>Phase 1</td>\n",
       "      <td>Apr 23 - May 5, 2020</td>\n",
       "      <td>23.6</td>\n",
       "    </tr>\n",
       "    <tr>\n",
       "      <th>14</th>\n",
       "      <td>Symptoms of Depressive Disorder</td>\n",
       "      <td>United States</td>\n",
       "      <td>By Race/Hispanic ethnicity</td>\n",
       "      <td>Non-Hispanic, other races and multiple races</td>\n",
       "      <td>Phase 1</td>\n",
       "      <td>Apr 23 - May 5, 2020</td>\n",
       "      <td>28.3</td>\n",
       "    </tr>\n",
       "    <tr>\n",
       "      <th>...</th>\n",
       "      <td>...</td>\n",
       "      <td>...</td>\n",
       "      <td>...</td>\n",
       "      <td>...</td>\n",
       "      <td>...</td>\n",
       "      <td>...</td>\n",
       "      <td>...</td>\n",
       "    </tr>\n",
       "    <tr>\n",
       "      <th>9073</th>\n",
       "      <td>Symptoms of Anxiety Disorder or Depressive Dis...</td>\n",
       "      <td>United States</td>\n",
       "      <td>By Race/Hispanic ethnicity</td>\n",
       "      <td>Hispanic or Latino</td>\n",
       "      <td>Phase 7</td>\n",
       "      <td>Dec 29, 2021 - Jan 10, 2022</td>\n",
       "      <td>35.5</td>\n",
       "    </tr>\n",
       "    <tr>\n",
       "      <th>9074</th>\n",
       "      <td>Symptoms of Anxiety Disorder or Depressive Dis...</td>\n",
       "      <td>United States</td>\n",
       "      <td>By Race/Hispanic ethnicity</td>\n",
       "      <td>Non-Hispanic White, single race</td>\n",
       "      <td>Phase 7</td>\n",
       "      <td>Dec 29, 2021 - Jan 10, 2022</td>\n",
       "      <td>31.0</td>\n",
       "    </tr>\n",
       "    <tr>\n",
       "      <th>9075</th>\n",
       "      <td>Symptoms of Anxiety Disorder or Depressive Dis...</td>\n",
       "      <td>United States</td>\n",
       "      <td>By Race/Hispanic ethnicity</td>\n",
       "      <td>Non-Hispanic Black, single race</td>\n",
       "      <td>Phase 7</td>\n",
       "      <td>Dec 29, 2021 - Jan 10, 2022</td>\n",
       "      <td>34.4</td>\n",
       "    </tr>\n",
       "    <tr>\n",
       "      <th>9076</th>\n",
       "      <td>Symptoms of Anxiety Disorder or Depressive Dis...</td>\n",
       "      <td>United States</td>\n",
       "      <td>By Race/Hispanic ethnicity</td>\n",
       "      <td>Non-Hispanic Asian, single race</td>\n",
       "      <td>Phase 7</td>\n",
       "      <td>Dec 29, 2021 - Jan 10, 2022</td>\n",
       "      <td>24.3</td>\n",
       "    </tr>\n",
       "    <tr>\n",
       "      <th>9077</th>\n",
       "      <td>Symptoms of Anxiety Disorder or Depressive Dis...</td>\n",
       "      <td>United States</td>\n",
       "      <td>By Race/Hispanic ethnicity</td>\n",
       "      <td>Non-Hispanic, other races and multiple races</td>\n",
       "      <td>Phase 7</td>\n",
       "      <td>Dec 29, 2021 - Jan 10, 2022</td>\n",
       "      <td>40.6</td>\n",
       "    </tr>\n",
       "  </tbody>\n",
       "</table>\n",
       "<p>615 rows × 7 columns</p>\n",
       "</div>"
      ],
      "text/plain": [
       "                                              Indicator          State  \\\n",
       "10                      Symptoms of Depressive Disorder  United States   \n",
       "11                      Symptoms of Depressive Disorder  United States   \n",
       "12                      Symptoms of Depressive Disorder  United States   \n",
       "13                      Symptoms of Depressive Disorder  United States   \n",
       "14                      Symptoms of Depressive Disorder  United States   \n",
       "...                                                 ...            ...   \n",
       "9073  Symptoms of Anxiety Disorder or Depressive Dis...  United States   \n",
       "9074  Symptoms of Anxiety Disorder or Depressive Dis...  United States   \n",
       "9075  Symptoms of Anxiety Disorder or Depressive Dis...  United States   \n",
       "9076  Symptoms of Anxiety Disorder or Depressive Dis...  United States   \n",
       "9077  Symptoms of Anxiety Disorder or Depressive Dis...  United States   \n",
       "\n",
       "                           Group  \\\n",
       "10    By Race/Hispanic ethnicity   \n",
       "11    By Race/Hispanic ethnicity   \n",
       "12    By Race/Hispanic ethnicity   \n",
       "13    By Race/Hispanic ethnicity   \n",
       "14    By Race/Hispanic ethnicity   \n",
       "...                          ...   \n",
       "9073  By Race/Hispanic ethnicity   \n",
       "9074  By Race/Hispanic ethnicity   \n",
       "9075  By Race/Hispanic ethnicity   \n",
       "9076  By Race/Hispanic ethnicity   \n",
       "9077  By Race/Hispanic ethnicity   \n",
       "\n",
       "                                          Subgroup   Phases  \\\n",
       "10                              Hispanic or Latino  Phase 1   \n",
       "11                 Non-Hispanic White, single race  Phase 1   \n",
       "12                 Non-Hispanic Black, single race  Phase 1   \n",
       "13                 Non-Hispanic Asian, single race  Phase 1   \n",
       "14    Non-Hispanic, other races and multiple races  Phase 1   \n",
       "...                                            ...      ...   \n",
       "9073                            Hispanic or Latino  Phase 7   \n",
       "9074               Non-Hispanic White, single race  Phase 7   \n",
       "9075               Non-Hispanic Black, single race  Phase 7   \n",
       "9076               Non-Hispanic Asian, single race  Phase 7   \n",
       "9077  Non-Hispanic, other races and multiple races  Phase 7   \n",
       "\n",
       "                Time Period Label  Value  \n",
       "10           Apr 23 - May 5, 2020   29.4  \n",
       "11           Apr 23 - May 5, 2020   21.4  \n",
       "12           Apr 23 - May 5, 2020   25.6  \n",
       "13           Apr 23 - May 5, 2020   23.6  \n",
       "14           Apr 23 - May 5, 2020   28.3  \n",
       "...                           ...    ...  \n",
       "9073  Dec 29, 2021 - Jan 10, 2022   35.5  \n",
       "9074  Dec 29, 2021 - Jan 10, 2022   31.0  \n",
       "9075  Dec 29, 2021 - Jan 10, 2022   34.4  \n",
       "9076  Dec 29, 2021 - Jan 10, 2022   24.3  \n",
       "9077  Dec 29, 2021 - Jan 10, 2022   40.6  \n",
       "\n",
       "[615 rows x 7 columns]"
      ]
     },
     "execution_count": 255,
     "metadata": {},
     "output_type": "execute_result"
    }
   ],
   "source": [
    "us_by_race = us_only[us_only['Group'] == 'By Race/Hispanic ethnicity']\n",
    "\n",
    "us_by_race"
   ]
  },
  {
   "cell_type": "code",
   "execution_count": 281,
   "metadata": {},
   "outputs": [
    {
     "data": {
      "image/png": "[encoded data removed]",
      "text/plain": [
       "<Figure size 432x288 with 1 Axes>"
      ]
     },
     "metadata": {},
     "output_type": "display_data"
    }
   ],
   "source": [
    "#prepare the data to plot\n",
    "race = us_by_race['Subgroup']\n",
    "percent = us_by_race['Value']\n",
    "\n",
    "#create bar chart\n",
    "plt.bar(race, percent, color= ('r', 'b', 'g', 'y'))\n",
    "\n",
    "#adjust labels\n",
    "plt.title('Symptoms by Race')\n",
    "plt.xlabel('Race')\n",
    "plt.xticks(rotation= 90)\n",
    "plt.ylabel('Percent')\n",
    "plt.show()"
   ]
  },
  {
   "cell_type": "markdown",
   "metadata": {},
   "source": [
    "### US By Education"
   ]
  },
  {
   "cell_type": "code",
   "execution_count": 282,
   "metadata": {},
   "outputs": [
    {
     "data": {
      "text/html": [
       "<div>\n",
       "<style scoped>\n",
       "    .dataframe tbody tr th:only-of-type {\n",
       "        vertical-align: middle;\n",
       "    }\n",
       "\n",
       "    .dataframe tbody tr th {\n",
       "        vertical-align: top;\n",
       "    }\n",
       "\n",
       "    .dataframe thead th {\n",
       "        text-align: right;\n",
       "    }\n",
       "</style>\n",
       "<table border=\"1\" class=\"dataframe\">\n",
       "  <thead>\n",
       "    <tr style=\"text-align: right;\">\n",
       "      <th></th>\n",
       "      <th>Indicator</th>\n",
       "      <th>State</th>\n",
       "      <th>Group</th>\n",
       "      <th>Subgroup</th>\n",
       "      <th>Phases</th>\n",
       "      <th>Time Period Label</th>\n",
       "      <th>Value</th>\n",
       "    </tr>\n",
       "  </thead>\n",
       "  <tbody>\n",
       "    <tr>\n",
       "      <th>15</th>\n",
       "      <td>Symptoms of Depressive Disorder</td>\n",
       "      <td>United States</td>\n",
       "      <td>By Education</td>\n",
       "      <td>Less than a high school diploma</td>\n",
       "      <td>Phase 1</td>\n",
       "      <td>Apr 23 - May 5, 2020</td>\n",
       "      <td>32.7</td>\n",
       "    </tr>\n",
       "    <tr>\n",
       "      <th>16</th>\n",
       "      <td>Symptoms of Depressive Disorder</td>\n",
       "      <td>United States</td>\n",
       "      <td>By Education</td>\n",
       "      <td>High school diploma or GED</td>\n",
       "      <td>Phase 1</td>\n",
       "      <td>Apr 23 - May 5, 2020</td>\n",
       "      <td>25.4</td>\n",
       "    </tr>\n",
       "    <tr>\n",
       "      <th>17</th>\n",
       "      <td>Symptoms of Depressive Disorder</td>\n",
       "      <td>United States</td>\n",
       "      <td>By Education</td>\n",
       "      <td>Some college/Associate's degree</td>\n",
       "      <td>Phase 1</td>\n",
       "      <td>Apr 23 - May 5, 2020</td>\n",
       "      <td>25.6</td>\n",
       "    </tr>\n",
       "    <tr>\n",
       "      <th>18</th>\n",
       "      <td>Symptoms of Depressive Disorder</td>\n",
       "      <td>United States</td>\n",
       "      <td>By Education</td>\n",
       "      <td>Bachelor's degree or higher</td>\n",
       "      <td>Phase 1</td>\n",
       "      <td>Apr 23 - May 5, 2020</td>\n",
       "      <td>17.6</td>\n",
       "    </tr>\n",
       "    <tr>\n",
       "      <th>85</th>\n",
       "      <td>Symptoms of Anxiety Disorder</td>\n",
       "      <td>United States</td>\n",
       "      <td>By Education</td>\n",
       "      <td>Less than a high school diploma</td>\n",
       "      <td>Phase 1</td>\n",
       "      <td>Apr 23 - May 5, 2020</td>\n",
       "      <td>37.3</td>\n",
       "    </tr>\n",
       "    <tr>\n",
       "      <th>...</th>\n",
       "      <td>...</td>\n",
       "      <td>...</td>\n",
       "      <td>...</td>\n",
       "      <td>...</td>\n",
       "      <td>...</td>\n",
       "      <td>...</td>\n",
       "      <td>...</td>\n",
       "    </tr>\n",
       "    <tr>\n",
       "      <th>9003</th>\n",
       "      <td>Symptoms of Anxiety Disorder</td>\n",
       "      <td>United States</td>\n",
       "      <td>By Education</td>\n",
       "      <td>Bachelor's degree or higher</td>\n",
       "      <td>Phase 7</td>\n",
       "      <td>Dec 29, 2021 - Jan 10, 2022</td>\n",
       "      <td>24.3</td>\n",
       "    </tr>\n",
       "    <tr>\n",
       "      <th>9078</th>\n",
       "      <td>Symptoms of Anxiety Disorder or Depressive Dis...</td>\n",
       "      <td>United States</td>\n",
       "      <td>By Education</td>\n",
       "      <td>Less than a high school diploma</td>\n",
       "      <td>Phase 7</td>\n",
       "      <td>Dec 29, 2021 - Jan 10, 2022</td>\n",
       "      <td>33.0</td>\n",
       "    </tr>\n",
       "    <tr>\n",
       "      <th>9079</th>\n",
       "      <td>Symptoms of Anxiety Disorder or Depressive Dis...</td>\n",
       "      <td>United States</td>\n",
       "      <td>By Education</td>\n",
       "      <td>High school diploma or GED</td>\n",
       "      <td>Phase 7</td>\n",
       "      <td>Dec 29, 2021 - Jan 10, 2022</td>\n",
       "      <td>32.7</td>\n",
       "    </tr>\n",
       "    <tr>\n",
       "      <th>9080</th>\n",
       "      <td>Symptoms of Anxiety Disorder or Depressive Dis...</td>\n",
       "      <td>United States</td>\n",
       "      <td>By Education</td>\n",
       "      <td>Some college/Associate's degree</td>\n",
       "      <td>Phase 7</td>\n",
       "      <td>Dec 29, 2021 - Jan 10, 2022</td>\n",
       "      <td>36.2</td>\n",
       "    </tr>\n",
       "    <tr>\n",
       "      <th>9081</th>\n",
       "      <td>Symptoms of Anxiety Disorder or Depressive Dis...</td>\n",
       "      <td>United States</td>\n",
       "      <td>By Education</td>\n",
       "      <td>Bachelor's degree or higher</td>\n",
       "      <td>Phase 7</td>\n",
       "      <td>Dec 29, 2021 - Jan 10, 2022</td>\n",
       "      <td>27.4</td>\n",
       "    </tr>\n",
       "  </tbody>\n",
       "</table>\n",
       "<p>492 rows × 7 columns</p>\n",
       "</div>"
      ],
      "text/plain": [
       "                                              Indicator          State  \\\n",
       "15                      Symptoms of Depressive Disorder  United States   \n",
       "16                      Symptoms of Depressive Disorder  United States   \n",
       "17                      Symptoms of Depressive Disorder  United States   \n",
       "18                      Symptoms of Depressive Disorder  United States   \n",
       "85                         Symptoms of Anxiety Disorder  United States   \n",
       "...                                                 ...            ...   \n",
       "9003                       Symptoms of Anxiety Disorder  United States   \n",
       "9078  Symptoms of Anxiety Disorder or Depressive Dis...  United States   \n",
       "9079  Symptoms of Anxiety Disorder or Depressive Dis...  United States   \n",
       "9080  Symptoms of Anxiety Disorder or Depressive Dis...  United States   \n",
       "9081  Symptoms of Anxiety Disorder or Depressive Dis...  United States   \n",
       "\n",
       "             Group                         Subgroup   Phases  \\\n",
       "15    By Education  Less than a high school diploma  Phase 1   \n",
       "16    By Education       High school diploma or GED  Phase 1   \n",
       "17    By Education  Some college/Associate's degree  Phase 1   \n",
       "18    By Education      Bachelor's degree or higher  Phase 1   \n",
       "85    By Education  Less than a high school diploma  Phase 1   \n",
       "...            ...                              ...      ...   \n",
       "9003  By Education      Bachelor's degree or higher  Phase 7   \n",
       "9078  By Education  Less than a high school diploma  Phase 7   \n",
       "9079  By Education       High school diploma or GED  Phase 7   \n",
       "9080  By Education  Some college/Associate's degree  Phase 7   \n",
       "9081  By Education      Bachelor's degree or higher  Phase 7   \n",
       "\n",
       "                Time Period Label  Value  \n",
       "15           Apr 23 - May 5, 2020   32.7  \n",
       "16           Apr 23 - May 5, 2020   25.4  \n",
       "17           Apr 23 - May 5, 2020   25.6  \n",
       "18           Apr 23 - May 5, 2020   17.6  \n",
       "85           Apr 23 - May 5, 2020   37.3  \n",
       "...                           ...    ...  \n",
       "9003  Dec 29, 2021 - Jan 10, 2022   24.3  \n",
       "9078  Dec 29, 2021 - Jan 10, 2022   33.0  \n",
       "9079  Dec 29, 2021 - Jan 10, 2022   32.7  \n",
       "9080  Dec 29, 2021 - Jan 10, 2022   36.2  \n",
       "9081  Dec 29, 2021 - Jan 10, 2022   27.4  \n",
       "\n",
       "[492 rows x 7 columns]"
      ]
     },
     "execution_count": 282,
     "metadata": {},
     "output_type": "execute_result"
    }
   ],
   "source": [
    "us_by_edu = us_only[us_only['Group'] == 'By Education']\n",
    "\n",
    "us_by_edu"
   ]
  },
  {
   "cell_type": "code",
   "execution_count": 288,
   "metadata": {},
   "outputs": [
    {
     "data": {
      "image/png": "[encoded data removed]",
      "text/plain": [
       "<Figure size 432x288 with 1 Axes>"
      ]
     },
     "metadata": {},
     "output_type": "display_data"
    }
   ],
   "source": [
    "#prepare the data to plot\n",
    "education = us_by_edu['Subgroup']\n",
    "percent = us_by_edu['Value']\n",
    "\n",
    "#create bar chart\n",
    "plt.bar(education, percent, color= ('r', 'b', 'g', 'y'))\n",
    "\n",
    "#adjust labels\n",
    "plt.title('Symptoms by Education')\n",
    "plt.xlabel('Education')\n",
    "plt.xticks(rotation= 90)\n",
    "plt.ylabel('Percent')\n",
    "plt.show()"
   ]
  },
  {
   "cell_type": "markdown",
   "metadata": {},
   "source": [
    "### US By Disability"
   ]
  },
  {
   "cell_type": "code",
   "execution_count": 290,
   "metadata": {},
   "outputs": [
    {
     "data": {
      "text/html": [
       "<div>\n",
       "<style scoped>\n",
       "    .dataframe tbody tr th:only-of-type {\n",
       "        vertical-align: middle;\n",
       "    }\n",
       "\n",
       "    .dataframe tbody tr th {\n",
       "        vertical-align: top;\n",
       "    }\n",
       "\n",
       "    .dataframe thead th {\n",
       "        text-align: right;\n",
       "    }\n",
       "</style>\n",
       "<table border=\"1\" class=\"dataframe\">\n",
       "  <thead>\n",
       "    <tr style=\"text-align: right;\">\n",
       "      <th></th>\n",
       "      <th>Indicator</th>\n",
       "      <th>State</th>\n",
       "      <th>Group</th>\n",
       "      <th>Subgroup</th>\n",
       "      <th>Phases</th>\n",
       "      <th>Time Period Label</th>\n",
       "      <th>Value</th>\n",
       "    </tr>\n",
       "  </thead>\n",
       "  <tbody>\n",
       "    <tr>\n",
       "      <th>5822</th>\n",
       "      <td>Symptoms of Depressive Disorder</td>\n",
       "      <td>United States</td>\n",
       "      <td>By Disability status</td>\n",
       "      <td>With disability</td>\n",
       "      <td>Phase 5</td>\n",
       "      <td>Apr 14 - Apr 26, 2021</td>\n",
       "      <td>52.9</td>\n",
       "    </tr>\n",
       "    <tr>\n",
       "      <th>5823</th>\n",
       "      <td>Symptoms of Depressive Disorder</td>\n",
       "      <td>United States</td>\n",
       "      <td>By Disability status</td>\n",
       "      <td>Without disability</td>\n",
       "      <td>Phase 5</td>\n",
       "      <td>Apr 14 - Apr 26, 2021</td>\n",
       "      <td>18.5</td>\n",
       "    </tr>\n",
       "    <tr>\n",
       "      <th>5913</th>\n",
       "      <td>Symptoms of Anxiety Disorder</td>\n",
       "      <td>United States</td>\n",
       "      <td>By Disability status</td>\n",
       "      <td>With disability</td>\n",
       "      <td>Phase 5</td>\n",
       "      <td>Apr 14 - Apr 26, 2021</td>\n",
       "      <td>56.3</td>\n",
       "    </tr>\n",
       "    <tr>\n",
       "      <th>5914</th>\n",
       "      <td>Symptoms of Anxiety Disorder</td>\n",
       "      <td>United States</td>\n",
       "      <td>By Disability status</td>\n",
       "      <td>Without disability</td>\n",
       "      <td>Phase 5</td>\n",
       "      <td>Apr 14 - Apr 26, 2021</td>\n",
       "      <td>23.0</td>\n",
       "    </tr>\n",
       "    <tr>\n",
       "      <th>6004</th>\n",
       "      <td>Symptoms of Anxiety Disorder or Depressive Dis...</td>\n",
       "      <td>United States</td>\n",
       "      <td>By Disability status</td>\n",
       "      <td>With disability</td>\n",
       "      <td>Phase 5</td>\n",
       "      <td>Apr 14 - Apr 26, 2021</td>\n",
       "      <td>64.3</td>\n",
       "    </tr>\n",
       "    <tr>\n",
       "      <th>...</th>\n",
       "      <td>...</td>\n",
       "      <td>...</td>\n",
       "      <td>...</td>\n",
       "      <td>...</td>\n",
       "      <td>...</td>\n",
       "      <td>...</td>\n",
       "      <td>...</td>\n",
       "    </tr>\n",
       "    <tr>\n",
       "      <th>8927</th>\n",
       "      <td>Symptoms of Depressive Disorder</td>\n",
       "      <td>United States</td>\n",
       "      <td>By Disability status</td>\n",
       "      <td>Without disability</td>\n",
       "      <td>Phase 7</td>\n",
       "      <td>Dec 29, 2021 - Jan 10, 2022</td>\n",
       "      <td>18.2</td>\n",
       "    </tr>\n",
       "    <tr>\n",
       "      <th>9004</th>\n",
       "      <td>Symptoms of Anxiety Disorder</td>\n",
       "      <td>United States</td>\n",
       "      <td>By Disability status</td>\n",
       "      <td>With disability</td>\n",
       "      <td>Phase 7</td>\n",
       "      <td>Dec 29, 2021 - Jan 10, 2022</td>\n",
       "      <td>54.2</td>\n",
       "    </tr>\n",
       "    <tr>\n",
       "      <th>9005</th>\n",
       "      <td>Symptoms of Anxiety Disorder</td>\n",
       "      <td>United States</td>\n",
       "      <td>By Disability status</td>\n",
       "      <td>Without disability</td>\n",
       "      <td>Phase 7</td>\n",
       "      <td>Dec 29, 2021 - Jan 10, 2022</td>\n",
       "      <td>23.5</td>\n",
       "    </tr>\n",
       "    <tr>\n",
       "      <th>9082</th>\n",
       "      <td>Symptoms of Anxiety Disorder or Depressive Dis...</td>\n",
       "      <td>United States</td>\n",
       "      <td>By Disability status</td>\n",
       "      <td>With disability</td>\n",
       "      <td>Phase 7</td>\n",
       "      <td>Dec 29, 2021 - Jan 10, 2022</td>\n",
       "      <td>60.4</td>\n",
       "    </tr>\n",
       "    <tr>\n",
       "      <th>9083</th>\n",
       "      <td>Symptoms of Anxiety Disorder or Depressive Dis...</td>\n",
       "      <td>United States</td>\n",
       "      <td>By Disability status</td>\n",
       "      <td>Without disability</td>\n",
       "      <td>Phase 7</td>\n",
       "      <td>Dec 29, 2021 - Jan 10, 2022</td>\n",
       "      <td>27.4</td>\n",
       "    </tr>\n",
       "  </tbody>\n",
       "</table>\n",
       "<p>84 rows × 7 columns</p>\n",
       "</div>"
      ],
      "text/plain": [
       "                                              Indicator          State  \\\n",
       "5822                    Symptoms of Depressive Disorder  United States   \n",
       "5823                    Symptoms of Depressive Disorder  United States   \n",
       "5913                       Symptoms of Anxiety Disorder  United States   \n",
       "5914                       Symptoms of Anxiety Disorder  United States   \n",
       "6004  Symptoms of Anxiety Disorder or Depressive Dis...  United States   \n",
       "...                                                 ...            ...   \n",
       "8927                    Symptoms of Depressive Disorder  United States   \n",
       "9004                       Symptoms of Anxiety Disorder  United States   \n",
       "9005                       Symptoms of Anxiety Disorder  United States   \n",
       "9082  Symptoms of Anxiety Disorder or Depressive Dis...  United States   \n",
       "9083  Symptoms of Anxiety Disorder or Depressive Dis...  United States   \n",
       "\n",
       "                     Group            Subgroup   Phases  \\\n",
       "5822  By Disability status     With disability  Phase 5   \n",
       "5823  By Disability status  Without disability  Phase 5   \n",
       "5913  By Disability status     With disability  Phase 5   \n",
       "5914  By Disability status  Without disability  Phase 5   \n",
       "6004  By Disability status     With disability  Phase 5   \n",
       "...                    ...                 ...      ...   \n",
       "8927  By Disability status  Without disability  Phase 7   \n",
       "9004  By Disability status     With disability  Phase 7   \n",
       "9005  By Disability status  Without disability  Phase 7   \n",
       "9082  By Disability status     With disability  Phase 7   \n",
       "9083  By Disability status  Without disability  Phase 7   \n",
       "\n",
       "                Time Period Label  Value  \n",
       "5822        Apr 14 - Apr 26, 2021   52.9  \n",
       "5823        Apr 14 - Apr 26, 2021   18.5  \n",
       "5913        Apr 14 - Apr 26, 2021   56.3  \n",
       "5914        Apr 14 - Apr 26, 2021   23.0  \n",
       "6004        Apr 14 - Apr 26, 2021   64.3  \n",
       "...                           ...    ...  \n",
       "8927  Dec 29, 2021 - Jan 10, 2022   18.2  \n",
       "9004  Dec 29, 2021 - Jan 10, 2022   54.2  \n",
       "9005  Dec 29, 2021 - Jan 10, 2022   23.5  \n",
       "9082  Dec 29, 2021 - Jan 10, 2022   60.4  \n",
       "9083  Dec 29, 2021 - Jan 10, 2022   27.4  \n",
       "\n",
       "[84 rows x 7 columns]"
      ]
     },
     "execution_count": 290,
     "metadata": {},
     "output_type": "execute_result"
    }
   ],
   "source": [
    "us_by_disability = us_only[us_only['Group'] == 'By Disability status']\n",
    "\n",
    "us_by_disability"
   ]
  },
  {
   "cell_type": "code",
   "execution_count": 295,
   "metadata": {},
   "outputs": [
    {
     "data": {
      "image/png": "[encoded data removed]",
      "text/plain": [
       "<Figure size 432x288 with 1 Axes>"
      ]
     },
     "metadata": {},
     "output_type": "display_data"
    }
   ],
   "source": [
    "#prepare the data to plot\n",
    "disability = us_by_disability['Subgroup']\n",
    "percent = us_by_disability['Value']\n",
    "\n",
    "#create bar chart\n",
    "plt.bar(disability, percent, color= ('r', 'b'))\n",
    "\n",
    "#adjust labels\n",
    "plt.title('Symptoms by Disability Status')\n",
    "plt.xlabel('Disability Status')\n",
    "plt.xticks(rotation= 90)\n",
    "plt.ylabel('Percent')\n",
    "plt.show()"
   ]
  },
  {
   "cell_type": "markdown",
   "metadata": {},
   "source": [
    "### US By Gender Identity"
   ]
  },
  {
   "cell_type": "code",
   "execution_count": 311,
   "metadata": {},
   "outputs": [
    {
     "data": {
      "text/html": [
       "<div>\n",
       "<style scoped>\n",
       "    .dataframe tbody tr th:only-of-type {\n",
       "        vertical-align: middle;\n",
       "    }\n",
       "\n",
       "    .dataframe tbody tr th {\n",
       "        vertical-align: top;\n",
       "    }\n",
       "\n",
       "    .dataframe thead th {\n",
       "        text-align: right;\n",
       "    }\n",
       "</style>\n",
       "<table border=\"1\" class=\"dataframe\">\n",
       "  <thead>\n",
       "    <tr style=\"text-align: right;\">\n",
       "      <th></th>\n",
       "      <th>Indicator</th>\n",
       "      <th>State</th>\n",
       "      <th>Group</th>\n",
       "      <th>Subgroup</th>\n",
       "      <th>Phases</th>\n",
       "      <th>Time Period Label</th>\n",
       "      <th>Value</th>\n",
       "    </tr>\n",
       "  </thead>\n",
       "  <tbody>\n",
       "    <tr>\n",
       "      <th>7168</th>\n",
       "      <td>Symptoms of Depressive Disorder</td>\n",
       "      <td>United States</td>\n",
       "      <td>By Gender identity</td>\n",
       "      <td>Cis-gender male</td>\n",
       "      <td>Phase 6</td>\n",
       "      <td>Jul 21 - Aug 2, 2021</td>\n",
       "      <td>20.3</td>\n",
       "    </tr>\n",
       "    <tr>\n",
       "      <th>7169</th>\n",
       "      <td>Symptoms of Depressive Disorder</td>\n",
       "      <td>United States</td>\n",
       "      <td>By Gender identity</td>\n",
       "      <td>Cis-gender female</td>\n",
       "      <td>Phase 6</td>\n",
       "      <td>Jul 21 - Aug 2, 2021</td>\n",
       "      <td>22.5</td>\n",
       "    </tr>\n",
       "    <tr>\n",
       "      <th>7170</th>\n",
       "      <td>Symptoms of Depressive Disorder</td>\n",
       "      <td>United States</td>\n",
       "      <td>By Gender identity</td>\n",
       "      <td>Transgender</td>\n",
       "      <td>Phase 6</td>\n",
       "      <td>Jul 21 - Aug 2, 2021</td>\n",
       "      <td>60.8</td>\n",
       "    </tr>\n",
       "    <tr>\n",
       "      <th>7267</th>\n",
       "      <td>Symptoms of Anxiety Disorder</td>\n",
       "      <td>United States</td>\n",
       "      <td>By Gender identity</td>\n",
       "      <td>Cis-gender male</td>\n",
       "      <td>Phase 6</td>\n",
       "      <td>Jul 21 - Aug 2, 2021</td>\n",
       "      <td>22.8</td>\n",
       "    </tr>\n",
       "    <tr>\n",
       "      <th>7268</th>\n",
       "      <td>Symptoms of Anxiety Disorder</td>\n",
       "      <td>United States</td>\n",
       "      <td>By Gender identity</td>\n",
       "      <td>Cis-gender female</td>\n",
       "      <td>Phase 6</td>\n",
       "      <td>Jul 21 - Aug 2, 2021</td>\n",
       "      <td>29.6</td>\n",
       "    </tr>\n",
       "    <tr>\n",
       "      <th>...</th>\n",
       "      <td>...</td>\n",
       "      <td>...</td>\n",
       "      <td>...</td>\n",
       "      <td>...</td>\n",
       "      <td>...</td>\n",
       "      <td>...</td>\n",
       "      <td>...</td>\n",
       "    </tr>\n",
       "    <tr>\n",
       "      <th>8990</th>\n",
       "      <td>Symptoms of Anxiety Disorder</td>\n",
       "      <td>United States</td>\n",
       "      <td>By Gender identity</td>\n",
       "      <td>Cis-gender female</td>\n",
       "      <td>Phase 7</td>\n",
       "      <td>Dec 29, 2021 - Jan 10, 2022</td>\n",
       "      <td>31.2</td>\n",
       "    </tr>\n",
       "    <tr>\n",
       "      <th>8991</th>\n",
       "      <td>Symptoms of Anxiety Disorder</td>\n",
       "      <td>United States</td>\n",
       "      <td>By Gender identity</td>\n",
       "      <td>Transgender</td>\n",
       "      <td>Phase 7</td>\n",
       "      <td>Dec 29, 2021 - Jan 10, 2022</td>\n",
       "      <td>50.4</td>\n",
       "    </tr>\n",
       "    <tr>\n",
       "      <th>9067</th>\n",
       "      <td>Symptoms of Anxiety Disorder or Depressive Dis...</td>\n",
       "      <td>United States</td>\n",
       "      <td>By Gender identity</td>\n",
       "      <td>Cis-gender male</td>\n",
       "      <td>Phase 7</td>\n",
       "      <td>Dec 29, 2021 - Jan 10, 2022</td>\n",
       "      <td>27.6</td>\n",
       "    </tr>\n",
       "    <tr>\n",
       "      <th>9068</th>\n",
       "      <td>Symptoms of Anxiety Disorder or Depressive Dis...</td>\n",
       "      <td>United States</td>\n",
       "      <td>By Gender identity</td>\n",
       "      <td>Cis-gender female</td>\n",
       "      <td>Phase 7</td>\n",
       "      <td>Dec 29, 2021 - Jan 10, 2022</td>\n",
       "      <td>35.2</td>\n",
       "    </tr>\n",
       "    <tr>\n",
       "      <th>9069</th>\n",
       "      <td>Symptoms of Anxiety Disorder or Depressive Dis...</td>\n",
       "      <td>United States</td>\n",
       "      <td>By Gender identity</td>\n",
       "      <td>Transgender</td>\n",
       "      <td>Phase 7</td>\n",
       "      <td>Dec 29, 2021 - Jan 10, 2022</td>\n",
       "      <td>56.7</td>\n",
       "    </tr>\n",
       "  </tbody>\n",
       "</table>\n",
       "<p>72 rows × 7 columns</p>\n",
       "</div>"
      ],
      "text/plain": [
       "                                              Indicator          State  \\\n",
       "7168                    Symptoms of Depressive Disorder  United States   \n",
       "7169                    Symptoms of Depressive Disorder  United States   \n",
       "7170                    Symptoms of Depressive Disorder  United States   \n",
       "7267                       Symptoms of Anxiety Disorder  United States   \n",
       "7268                       Symptoms of Anxiety Disorder  United States   \n",
       "...                                                 ...            ...   \n",
       "8990                       Symptoms of Anxiety Disorder  United States   \n",
       "8991                       Symptoms of Anxiety Disorder  United States   \n",
       "9067  Symptoms of Anxiety Disorder or Depressive Dis...  United States   \n",
       "9068  Symptoms of Anxiety Disorder or Depressive Dis...  United States   \n",
       "9069  Symptoms of Anxiety Disorder or Depressive Dis...  United States   \n",
       "\n",
       "                   Group           Subgroup   Phases  \\\n",
       "7168  By Gender identity    Cis-gender male  Phase 6   \n",
       "7169  By Gender identity  Cis-gender female  Phase 6   \n",
       "7170  By Gender identity        Transgender  Phase 6   \n",
       "7267  By Gender identity    Cis-gender male  Phase 6   \n",
       "7268  By Gender identity  Cis-gender female  Phase 6   \n",
       "...                  ...                ...      ...   \n",
       "8990  By Gender identity  Cis-gender female  Phase 7   \n",
       "8991  By Gender identity        Transgender  Phase 7   \n",
       "9067  By Gender identity    Cis-gender male  Phase 7   \n",
       "9068  By Gender identity  Cis-gender female  Phase 7   \n",
       "9069  By Gender identity        Transgender  Phase 7   \n",
       "\n",
       "                Time Period Label  Value  \n",
       "7168         Jul 21 - Aug 2, 2021   20.3  \n",
       "7169         Jul 21 - Aug 2, 2021   22.5  \n",
       "7170         Jul 21 - Aug 2, 2021   60.8  \n",
       "7267         Jul 21 - Aug 2, 2021   22.8  \n",
       "7268         Jul 21 - Aug 2, 2021   29.6  \n",
       "...                           ...    ...  \n",
       "8990  Dec 29, 2021 - Jan 10, 2022   31.2  \n",
       "8991  Dec 29, 2021 - Jan 10, 2022   50.4  \n",
       "9067  Dec 29, 2021 - Jan 10, 2022   27.6  \n",
       "9068  Dec 29, 2021 - Jan 10, 2022   35.2  \n",
       "9069  Dec 29, 2021 - Jan 10, 2022   56.7  \n",
       "\n",
       "[72 rows x 7 columns]"
      ]
     },
     "execution_count": 311,
     "metadata": {},
     "output_type": "execute_result"
    }
   ],
   "source": [
    "us_by_gi = us_only[us_only['Group'] == 'By Gender identity']\n",
    "\n",
    "us_by_gi"
   ]
  },
  {
   "cell_type": "code",
   "execution_count": 315,
   "metadata": {},
   "outputs": [
    {
     "data": {
      "image/png": "[encoded data removed]",
      "text/plain": [
       "<Figure size 432x288 with 1 Axes>"
      ]
     },
     "metadata": {},
     "output_type": "display_data"
    }
   ],
   "source": [
    "#prepare the data to plot\n",
    "gender = us_by_gi['Subgroup']\n",
    "percent = us_by_gi['Value']\n",
    "\n",
    "#create bar chart\n",
    "plt.bar(gender, percent, color= ('r', 'b', 'g', 'y'))\n",
    "\n",
    "#adjust labels\n",
    "plt.title('Symptoms by Gender Identity')\n",
    "plt.xlabel('Gender Identity')\n",
    "plt.xticks(rotation= 90)\n",
    "plt.ylabel('Percent')\n",
    "plt.show()"
   ]
  },
  {
   "cell_type": "markdown",
   "metadata": {},
   "source": [
    "### US By Sexual Orientation"
   ]
  },
  {
   "cell_type": "code",
   "execution_count": 296,
   "metadata": {},
   "outputs": [
    {
     "data": {
      "text/html": [
       "<div>\n",
       "<style scoped>\n",
       "    .dataframe tbody tr th:only-of-type {\n",
       "        vertical-align: middle;\n",
       "    }\n",
       "\n",
       "    .dataframe tbody tr th {\n",
       "        vertical-align: top;\n",
       "    }\n",
       "\n",
       "    .dataframe thead th {\n",
       "        text-align: right;\n",
       "    }\n",
       "</style>\n",
       "<table border=\"1\" class=\"dataframe\">\n",
       "  <thead>\n",
       "    <tr style=\"text-align: right;\">\n",
       "      <th></th>\n",
       "      <th>Indicator</th>\n",
       "      <th>State</th>\n",
       "      <th>Group</th>\n",
       "      <th>Subgroup</th>\n",
       "      <th>Phases</th>\n",
       "      <th>Time Period Label</th>\n",
       "      <th>Value</th>\n",
       "    </tr>\n",
       "  </thead>\n",
       "  <tbody>\n",
       "    <tr>\n",
       "      <th>7171</th>\n",
       "      <td>Symptoms of Depressive Disorder</td>\n",
       "      <td>United States</td>\n",
       "      <td>By Sexual orientation</td>\n",
       "      <td>Gay or lesbian</td>\n",
       "      <td>Phase 6</td>\n",
       "      <td>Jul 21 - Aug 2, 2021</td>\n",
       "      <td>31.2</td>\n",
       "    </tr>\n",
       "    <tr>\n",
       "      <th>7172</th>\n",
       "      <td>Symptoms of Depressive Disorder</td>\n",
       "      <td>United States</td>\n",
       "      <td>By Sexual orientation</td>\n",
       "      <td>Straight</td>\n",
       "      <td>Phase 6</td>\n",
       "      <td>Jul 21 - Aug 2, 2021</td>\n",
       "      <td>19.7</td>\n",
       "    </tr>\n",
       "    <tr>\n",
       "      <th>7173</th>\n",
       "      <td>Symptoms of Depressive Disorder</td>\n",
       "      <td>United States</td>\n",
       "      <td>By Sexual orientation</td>\n",
       "      <td>Bisexual</td>\n",
       "      <td>Phase 6</td>\n",
       "      <td>Jul 21 - Aug 2, 2021</td>\n",
       "      <td>49.8</td>\n",
       "    </tr>\n",
       "    <tr>\n",
       "      <th>7270</th>\n",
       "      <td>Symptoms of Anxiety Disorder</td>\n",
       "      <td>United States</td>\n",
       "      <td>By Sexual orientation</td>\n",
       "      <td>Gay or lesbian</td>\n",
       "      <td>Phase 6</td>\n",
       "      <td>Jul 21 - Aug 2, 2021</td>\n",
       "      <td>38.4</td>\n",
       "    </tr>\n",
       "    <tr>\n",
       "      <th>7271</th>\n",
       "      <td>Symptoms of Anxiety Disorder</td>\n",
       "      <td>United States</td>\n",
       "      <td>By Sexual orientation</td>\n",
       "      <td>Straight</td>\n",
       "      <td>Phase 6</td>\n",
       "      <td>Jul 21 - Aug 2, 2021</td>\n",
       "      <td>24.3</td>\n",
       "    </tr>\n",
       "    <tr>\n",
       "      <th>...</th>\n",
       "      <td>...</td>\n",
       "      <td>...</td>\n",
       "      <td>...</td>\n",
       "      <td>...</td>\n",
       "      <td>...</td>\n",
       "      <td>...</td>\n",
       "      <td>...</td>\n",
       "    </tr>\n",
       "    <tr>\n",
       "      <th>8993</th>\n",
       "      <td>Symptoms of Anxiety Disorder</td>\n",
       "      <td>United States</td>\n",
       "      <td>By Sexual orientation</td>\n",
       "      <td>Straight</td>\n",
       "      <td>Phase 7</td>\n",
       "      <td>Dec 29, 2021 - Jan 10, 2022</td>\n",
       "      <td>25.2</td>\n",
       "    </tr>\n",
       "    <tr>\n",
       "      <th>8994</th>\n",
       "      <td>Symptoms of Anxiety Disorder</td>\n",
       "      <td>United States</td>\n",
       "      <td>By Sexual orientation</td>\n",
       "      <td>Bisexual</td>\n",
       "      <td>Phase 7</td>\n",
       "      <td>Dec 29, 2021 - Jan 10, 2022</td>\n",
       "      <td>52.6</td>\n",
       "    </tr>\n",
       "    <tr>\n",
       "      <th>9070</th>\n",
       "      <td>Symptoms of Anxiety Disorder or Depressive Dis...</td>\n",
       "      <td>United States</td>\n",
       "      <td>By Sexual orientation</td>\n",
       "      <td>Gay or lesbian</td>\n",
       "      <td>Phase 7</td>\n",
       "      <td>Dec 29, 2021 - Jan 10, 2022</td>\n",
       "      <td>48.9</td>\n",
       "    </tr>\n",
       "    <tr>\n",
       "      <th>9071</th>\n",
       "      <td>Symptoms of Anxiety Disorder or Depressive Dis...</td>\n",
       "      <td>United States</td>\n",
       "      <td>By Sexual orientation</td>\n",
       "      <td>Straight</td>\n",
       "      <td>Phase 7</td>\n",
       "      <td>Dec 29, 2021 - Jan 10, 2022</td>\n",
       "      <td>29.3</td>\n",
       "    </tr>\n",
       "    <tr>\n",
       "      <th>9072</th>\n",
       "      <td>Symptoms of Anxiety Disorder or Depressive Dis...</td>\n",
       "      <td>United States</td>\n",
       "      <td>By Sexual orientation</td>\n",
       "      <td>Bisexual</td>\n",
       "      <td>Phase 7</td>\n",
       "      <td>Dec 29, 2021 - Jan 10, 2022</td>\n",
       "      <td>60.2</td>\n",
       "    </tr>\n",
       "  </tbody>\n",
       "</table>\n",
       "<p>72 rows × 7 columns</p>\n",
       "</div>"
      ],
      "text/plain": [
       "                                              Indicator          State  \\\n",
       "7171                    Symptoms of Depressive Disorder  United States   \n",
       "7172                    Symptoms of Depressive Disorder  United States   \n",
       "7173                    Symptoms of Depressive Disorder  United States   \n",
       "7270                       Symptoms of Anxiety Disorder  United States   \n",
       "7271                       Symptoms of Anxiety Disorder  United States   \n",
       "...                                                 ...            ...   \n",
       "8993                       Symptoms of Anxiety Disorder  United States   \n",
       "8994                       Symptoms of Anxiety Disorder  United States   \n",
       "9070  Symptoms of Anxiety Disorder or Depressive Dis...  United States   \n",
       "9071  Symptoms of Anxiety Disorder or Depressive Dis...  United States   \n",
       "9072  Symptoms of Anxiety Disorder or Depressive Dis...  United States   \n",
       "\n",
       "                      Group        Subgroup   Phases  \\\n",
       "7171  By Sexual orientation  Gay or lesbian  Phase 6   \n",
       "7172  By Sexual orientation        Straight  Phase 6   \n",
       "7173  By Sexual orientation        Bisexual  Phase 6   \n",
       "7270  By Sexual orientation  Gay or lesbian  Phase 6   \n",
       "7271  By Sexual orientation        Straight  Phase 6   \n",
       "...                     ...             ...      ...   \n",
       "8993  By Sexual orientation        Straight  Phase 7   \n",
       "8994  By Sexual orientation        Bisexual  Phase 7   \n",
       "9070  By Sexual orientation  Gay or lesbian  Phase 7   \n",
       "9071  By Sexual orientation        Straight  Phase 7   \n",
       "9072  By Sexual orientation        Bisexual  Phase 7   \n",
       "\n",
       "                Time Period Label  Value  \n",
       "7171         Jul 21 - Aug 2, 2021   31.2  \n",
       "7172         Jul 21 - Aug 2, 2021   19.7  \n",
       "7173         Jul 21 - Aug 2, 2021   49.8  \n",
       "7270         Jul 21 - Aug 2, 2021   38.4  \n",
       "7271         Jul 21 - Aug 2, 2021   24.3  \n",
       "...                           ...    ...  \n",
       "8993  Dec 29, 2021 - Jan 10, 2022   25.2  \n",
       "8994  Dec 29, 2021 - Jan 10, 2022   52.6  \n",
       "9070  Dec 29, 2021 - Jan 10, 2022   48.9  \n",
       "9071  Dec 29, 2021 - Jan 10, 2022   29.3  \n",
       "9072  Dec 29, 2021 - Jan 10, 2022   60.2  \n",
       "\n",
       "[72 rows x 7 columns]"
      ]
     },
     "execution_count": 296,
     "metadata": {},
     "output_type": "execute_result"
    }
   ],
   "source": [
    "us_by_so = us_only[us_only['Group'] == 'By Sexual orientation']\n",
    "\n",
    "us_by_so"
   ]
  },
  {
   "cell_type": "code",
   "execution_count": 301,
   "metadata": {},
   "outputs": [
    {
     "data": {
      "text/plain": [
       "array(['Gay or lesbian', 'Straight', 'Bisexual'], dtype=object)"
      ]
     },
     "execution_count": 301,
     "metadata": {},
     "output_type": "execute_result"
    }
   ],
   "source": [
    "us_by_so['Subgroup'].unique()"
   ]
  },
  {
   "cell_type": "code",
   "execution_count": 310,
   "metadata": {},
   "outputs": [
    {
     "data": {
      "image/png": "[encoded data removed]",
      "text/plain": [
       "<Figure size 432x288 with 1 Axes>"
      ]
     },
     "metadata": {},
     "output_type": "display_data"
    }
   ],
   "source": [
    "#prepare the data to plot\n",
    "orientation = us_by_so['Subgroup']\n",
    "percent = us_by_so['Value']\n",
    "\n",
    "#create bar chart\n",
    "plt.bar(orientation, percent, color=('r', 'b', 'g', 'y'))\n",
    "\n",
    "#adjust labels\n",
    "plt.title('Symptoms by Sexual Orientation')\n",
    "plt.xlabel('Orientation')\n",
    "plt.xticks(rotation= 90)\n",
    "plt.ylabel('Percent')\n",
    "plt.show()"
   ]
  },
  {
   "cell_type": "markdown",
   "metadata": {},
   "source": [
    "## Texas Statistics"
   ]
  },
  {
   "cell_type": "code",
   "execution_count": null,
   "metadata": {},
   "outputs": [],
   "source": [
    "#Assign colors to each Indicator *texas df only*\n",
    "\n",
    "\n",
    "#create a list of conditions\n",
    "color_conditions = [ \n",
    "    (states_only['Indicator'] == 'Symptoms of Anxiety Disorder'), #RED\n",
    "    (states_only['Indicator'] == 'Symptoms of Depressive Disorder'), #BLUE\n",
    "    (states_only['Indicator'] == 'Symptoms of Anxiety Disorder or Depressive Disorder'), #BLACK\n",
    "    ]\n",
    "#create a list of the values we want to assign for each condition\n",
    "colors = ['Red','Blue','Black']\n",
    "\n",
    "#use np.select to assign values \n",
    "tx_indicator_colors = np.select(color_conditions, colors)"
   ]
  },
  {
   "cell_type": "code",
   "execution_count": null,
   "metadata": {},
   "outputs": [
    {
     "data": {
      "text/html": [
       "<div>\n",
       "<style scoped>\n",
       "    .dataframe tbody tr th:only-of-type {\n",
       "        vertical-align: middle;\n",
       "    }\n",
       "\n",
       "    .dataframe tbody tr th {\n",
       "        vertical-align: top;\n",
       "    }\n",
       "\n",
       "    .dataframe thead th {\n",
       "        text-align: right;\n",
       "    }\n",
       "</style>\n",
       "<table border=\"1\" class=\"dataframe\">\n",
       "  <thead>\n",
       "    <tr style=\"text-align: right;\">\n",
       "      <th></th>\n",
       "      <th>Indicator</th>\n",
       "      <th>State</th>\n",
       "      <th>Group</th>\n",
       "      <th>Subgroup</th>\n",
       "      <th>Phases</th>\n",
       "      <th>Time Period Label</th>\n",
       "      <th>Value</th>\n",
       "    </tr>\n",
       "  </thead>\n",
       "  <tbody>\n",
       "    <tr>\n",
       "      <th>62</th>\n",
       "      <td>Symptoms of Depressive Disorder</td>\n",
       "      <td>Texas</td>\n",
       "      <td>By State</td>\n",
       "      <td>Texas</td>\n",
       "      <td>Phase 1</td>\n",
       "      <td>Apr 23 - May 5, 2020</td>\n",
       "      <td>24.4</td>\n",
       "    </tr>\n",
       "    <tr>\n",
       "      <th>132</th>\n",
       "      <td>Symptoms of Anxiety Disorder</td>\n",
       "      <td>Texas</td>\n",
       "      <td>By State</td>\n",
       "      <td>Texas</td>\n",
       "      <td>Phase 1</td>\n",
       "      <td>Apr 23 - May 5, 2020</td>\n",
       "      <td>29.7</td>\n",
       "    </tr>\n",
       "    <tr>\n",
       "      <th>202</th>\n",
       "      <td>Symptoms of Anxiety Disorder or Depressive Dis...</td>\n",
       "      <td>Texas</td>\n",
       "      <td>By State</td>\n",
       "      <td>Texas</td>\n",
       "      <td>Phase 1</td>\n",
       "      <td>Apr 23 - May 5, 2020</td>\n",
       "      <td>34.9</td>\n",
       "    </tr>\n",
       "    <tr>\n",
       "      <th>272</th>\n",
       "      <td>Symptoms of Depressive Disorder</td>\n",
       "      <td>Texas</td>\n",
       "      <td>By State</td>\n",
       "      <td>Texas</td>\n",
       "      <td>Phase 1</td>\n",
       "      <td>May 7 - May 12, 2020</td>\n",
       "      <td>25.7</td>\n",
       "    </tr>\n",
       "    <tr>\n",
       "      <th>342</th>\n",
       "      <td>Symptoms of Anxiety Disorder</td>\n",
       "      <td>Texas</td>\n",
       "      <td>By State</td>\n",
       "      <td>Texas</td>\n",
       "      <td>Phase 1</td>\n",
       "      <td>May 7 - May 12, 2020</td>\n",
       "      <td>32.4</td>\n",
       "    </tr>\n",
       "  </tbody>\n",
       "</table>\n",
       "</div>"
      ],
      "text/plain": [
       "                                             Indicator  State     Group  \\\n",
       "62                     Symptoms of Depressive Disorder  Texas  By State   \n",
       "132                       Symptoms of Anxiety Disorder  Texas  By State   \n",
       "202  Symptoms of Anxiety Disorder or Depressive Dis...  Texas  By State   \n",
       "272                    Symptoms of Depressive Disorder  Texas  By State   \n",
       "342                       Symptoms of Anxiety Disorder  Texas  By State   \n",
       "\n",
       "    Subgroup   Phases     Time Period Label  Value  \n",
       "62     Texas  Phase 1  Apr 23 - May 5, 2020   24.4  \n",
       "132    Texas  Phase 1  Apr 23 - May 5, 2020   29.7  \n",
       "202    Texas  Phase 1  Apr 23 - May 5, 2020   34.9  \n",
       "272    Texas  Phase 1  May 7 - May 12, 2020   25.7  \n",
       "342    Texas  Phase 1  May 7 - May 12, 2020   32.4  "
      ]
     },
     "execution_count": 55,
     "metadata": {},
     "output_type": "execute_result"
    }
   ],
   "source": [
    "#State of Texas only\n",
    "\n",
    "states_only_texas = states_only[states_only['Subgroup'] == 'Texas']\n",
    "\n",
    "states_only_texas.head()"
   ]
  },
  {
   "cell_type": "markdown",
   "metadata": {},
   "source": [
    "### Texas Statistics: Trends in Symptoms"
   ]
  },
  {
   "cell_type": "code",
   "execution_count": null,
   "metadata": {},
   "outputs": [
    {
     "data": {
      "image/png": "[encoded data removed]",
      "text/plain": [
       "<Figure size 720x720 with 1 Axes>"
      ]
     },
     "metadata": {
      "needs_background": "light"
     },
     "output_type": "display_data"
    }
   ],
   "source": [
    "#STATES ONLY TEXAS SUBGROUP = STATES ONLY DF [SUBGROUP] == TEXAS\n",
    "\n",
    "#plot figure size\n",
    "plt.figure(figsize= (10, 10))\n",
    "\n",
    "#tell it which values to plot\n",
    "plt.scatter(x = states_only['Value'], y = states_only['Phases'], s= 40, c= tx_indicator_colors)\n",
    "\n",
    "#axis labels\n",
    "plt.xlabel(\"Percentages\")\n",
    "plt.ylabel(\"Survey Phases\")\n",
    "\n",
    "#display plot\n",
    "plt.show()"
   ]
  },
  {
   "cell_type": "code",
   "execution_count": null,
   "metadata": {},
   "outputs": [
    {
     "data": {
      "image/png": "[encoded data removed]",
      "text/plain": [
       "<Figure size 720x720 with 1 Axes>"
      ]
     },
     "metadata": {
      "needs_background": "light"
     },
     "output_type": "display_data"
    }
   ],
   "source": [
    "#TEXAS DF = CLEAN DF -> [STATE] == TEXAS\n",
    "\n",
    "#plot figure size\n",
    "plt.figure(figsize= (10, 10))\n",
    "\n",
    "#tell it which values to plot\n",
    "plt.scatter(x = states_only['Value'], y = states_only['Phases'], s= 40, c= tx_indicator_colors)\n",
    "\n",
    "#axis labels\n",
    "plt.xlabel(\"Percentages\")\n",
    "plt.ylabel(\"Survey Phases\")\n",
    "\n",
    "#display plot\n",
    "plt.show()"
   ]
  },
  {
   "cell_type": "markdown",
   "metadata": {},
   "source": [
    "- **It seems that as time progressed the overall percentage of symptoms decreased in comparison to the beginning of the pandemic**\n",
    "- **Phase 3 seems significantly higher than the others**"
   ]
  },
  {
   "cell_type": "code",
   "execution_count": null,
   "metadata": {},
   "outputs": [
    {
     "data": {
      "image/png": "[encoded data removed]",
      "text/plain": [
       "<Figure size 432x288 with 1 Axes>"
      ]
     },
     "metadata": {
      "needs_background": "light"
     },
     "output_type": "display_data"
    }
   ],
   "source": [
    "#boxplot test using seaborn\n",
    "\n",
    "sns.boxplot(x=\"Phases\", y=\"Value\", data=states_only)\n",
    "plt.xticks(rotation=90)\n",
    "\n",
    "plt.show()"
   ]
  },
  {
   "cell_type": "markdown",
   "metadata": {},
   "source": [
    "### Texas Statistics: Trends by Age (WORKING ON THIS)"
   ]
  },
  {
   "cell_type": "code",
   "execution_count": null,
   "metadata": {},
   "outputs": [
    {
     "name": "stderr",
     "output_type": "stream",
     "text": [
      "C:\\Users\\17134\\AppData\\Local\\Temp\\ipykernel_14748\\999313849.py:3: UserWarning:\n",
      "\n",
      "Boolean Series key will be reindexed to match DataFrame index.\n",
      "\n"
     ]
    },
    {
     "ename": "IndexingError",
     "evalue": "Unalignable boolean Series provided as indexer (index of the boolean Series and of the indexed object do not match).",
     "output_type": "error",
     "traceback": [
      "\u001b[1;31m---------------------------------------------------------------------------\u001b[0m",
      "\u001b[1;31mIndexingError\u001b[0m                             Traceback (most recent call last)",
      "\u001b[1;32m\\Ubuntu-18.04\\home\\lmedina20\\dataproject\\EDA_anxiety.ipynb Cell 67'\u001b[0m in \u001b[0;36m<module>\u001b[1;34m\u001b[0m\n\u001b[0;32m      <a href='vscode-notebook-cell://wsl%24/Ubuntu-18.04/home/lmedina20/dataproject/EDA_anxiety.ipynb#ch0000065?line=0'>1</a>\u001b[0m \u001b[39m#create a Texas df that filters by Age\u001b[39;00m\n\u001b[1;32m----> <a href='vscode-notebook-cell://wsl%24/Ubuntu-18.04/home/lmedina20/dataproject/EDA_anxiety.ipynb#ch0000065?line=2'>3</a>\u001b[0m age_df \u001b[39m=\u001b[39m df[clean_df[\u001b[39m'\u001b[39;49m\u001b[39mGroup\u001b[39;49m\u001b[39m'\u001b[39;49m] \u001b[39m==\u001b[39;49m \u001b[39m'\u001b[39;49m\u001b[39mBy Age\u001b[39;49m\u001b[39m'\u001b[39;49m]\n\u001b[0;32m      <a href='vscode-notebook-cell://wsl%24/Ubuntu-18.04/home/lmedina20/dataproject/EDA_anxiety.ipynb#ch0000065?line=4'>5</a>\u001b[0m texas_age_df \u001b[39m=\u001b[39m age_df\u001b[39m#[age_df.State == 'Texas']\u001b[39;00m\n\u001b[0;32m      <a href='vscode-notebook-cell://wsl%24/Ubuntu-18.04/home/lmedina20/dataproject/EDA_anxiety.ipynb#ch0000065?line=6'>7</a>\u001b[0m texas_age_df\n",
      "File \u001b[1;32m~\\anaconda3\\envs\\datavenv\\lib\\site-packages\\pandas\\core\\frame.py:3496\u001b[0m, in \u001b[0;36mDataFrame.__getitem__\u001b[1;34m(self, key)\u001b[0m\n\u001b[0;32m   <a href='file:///c%3A/Users/17134/anaconda3/envs/datavenv/lib/site-packages/pandas/core/frame.py?line=3493'>3494</a>\u001b[0m \u001b[39m# Do we have a (boolean) 1d indexer?\u001b[39;00m\n\u001b[0;32m   <a href='file:///c%3A/Users/17134/anaconda3/envs/datavenv/lib/site-packages/pandas/core/frame.py?line=3494'>3495</a>\u001b[0m \u001b[39mif\u001b[39;00m com\u001b[39m.\u001b[39mis_bool_indexer(key):\n\u001b[1;32m-> <a href='file:///c%3A/Users/17134/anaconda3/envs/datavenv/lib/site-packages/pandas/core/frame.py?line=3495'>3496</a>\u001b[0m     \u001b[39mreturn\u001b[39;00m \u001b[39mself\u001b[39;49m\u001b[39m.\u001b[39;49m_getitem_bool_array(key)\n\u001b[0;32m   <a href='file:///c%3A/Users/17134/anaconda3/envs/datavenv/lib/site-packages/pandas/core/frame.py?line=3497'>3498</a>\u001b[0m \u001b[39m# We are left with two options: a single key, and a collection of keys,\u001b[39;00m\n\u001b[0;32m   <a href='file:///c%3A/Users/17134/anaconda3/envs/datavenv/lib/site-packages/pandas/core/frame.py?line=3498'>3499</a>\u001b[0m \u001b[39m# We interpret tuples as collections only for non-MultiIndex\u001b[39;00m\n\u001b[0;32m   <a href='file:///c%3A/Users/17134/anaconda3/envs/datavenv/lib/site-packages/pandas/core/frame.py?line=3499'>3500</a>\u001b[0m is_single_key \u001b[39m=\u001b[39m \u001b[39misinstance\u001b[39m(key, \u001b[39mtuple\u001b[39m) \u001b[39mor\u001b[39;00m \u001b[39mnot\u001b[39;00m is_list_like(key)\n",
      "File \u001b[1;32m~\\anaconda3\\envs\\datavenv\\lib\\site-packages\\pandas\\core\\frame.py:3549\u001b[0m, in \u001b[0;36mDataFrame._getitem_bool_array\u001b[1;34m(self, key)\u001b[0m\n\u001b[0;32m   <a href='file:///c%3A/Users/17134/anaconda3/envs/datavenv/lib/site-packages/pandas/core/frame.py?line=3542'>3543</a>\u001b[0m     \u001b[39mraise\u001b[39;00m \u001b[39mValueError\u001b[39;00m(\n\u001b[0;32m   <a href='file:///c%3A/Users/17134/anaconda3/envs/datavenv/lib/site-packages/pandas/core/frame.py?line=3543'>3544</a>\u001b[0m         \u001b[39mf\u001b[39m\u001b[39m\"\u001b[39m\u001b[39mItem wrong length \u001b[39m\u001b[39m{\u001b[39;00m\u001b[39mlen\u001b[39m(key)\u001b[39m}\u001b[39;00m\u001b[39m instead of \u001b[39m\u001b[39m{\u001b[39;00m\u001b[39mlen\u001b[39m(\u001b[39mself\u001b[39m\u001b[39m.\u001b[39mindex)\u001b[39m}\u001b[39;00m\u001b[39m.\u001b[39m\u001b[39m\"\u001b[39m\n\u001b[0;32m   <a href='file:///c%3A/Users/17134/anaconda3/envs/datavenv/lib/site-packages/pandas/core/frame.py?line=3544'>3545</a>\u001b[0m     )\n\u001b[0;32m   <a href='file:///c%3A/Users/17134/anaconda3/envs/datavenv/lib/site-packages/pandas/core/frame.py?line=3546'>3547</a>\u001b[0m \u001b[39m# check_bool_indexer will throw exception if Series key cannot\u001b[39;00m\n\u001b[0;32m   <a href='file:///c%3A/Users/17134/anaconda3/envs/datavenv/lib/site-packages/pandas/core/frame.py?line=3547'>3548</a>\u001b[0m \u001b[39m# be reindexed to match DataFrame rows\u001b[39;00m\n\u001b[1;32m-> <a href='file:///c%3A/Users/17134/anaconda3/envs/datavenv/lib/site-packages/pandas/core/frame.py?line=3548'>3549</a>\u001b[0m key \u001b[39m=\u001b[39m check_bool_indexer(\u001b[39mself\u001b[39;49m\u001b[39m.\u001b[39;49mindex, key)\n\u001b[0;32m   <a href='file:///c%3A/Users/17134/anaconda3/envs/datavenv/lib/site-packages/pandas/core/frame.py?line=3549'>3550</a>\u001b[0m indexer \u001b[39m=\u001b[39m key\u001b[39m.\u001b[39mnonzero()[\u001b[39m0\u001b[39m]\n\u001b[0;32m   <a href='file:///c%3A/Users/17134/anaconda3/envs/datavenv/lib/site-packages/pandas/core/frame.py?line=3550'>3551</a>\u001b[0m \u001b[39mreturn\u001b[39;00m \u001b[39mself\u001b[39m\u001b[39m.\u001b[39m_take_with_is_copy(indexer, axis\u001b[39m=\u001b[39m\u001b[39m0\u001b[39m)\n",
      "File \u001b[1;32m~\\anaconda3\\envs\\datavenv\\lib\\site-packages\\pandas\\core\\indexing.py:2376\u001b[0m, in \u001b[0;36mcheck_bool_indexer\u001b[1;34m(index, key)\u001b[0m\n\u001b[0;32m   <a href='file:///c%3A/Users/17134/anaconda3/envs/datavenv/lib/site-packages/pandas/core/indexing.py?line=2373'>2374</a>\u001b[0m     mask \u001b[39m=\u001b[39m isna(result\u001b[39m.\u001b[39m_values)\n\u001b[0;32m   <a href='file:///c%3A/Users/17134/anaconda3/envs/datavenv/lib/site-packages/pandas/core/indexing.py?line=2374'>2375</a>\u001b[0m     \u001b[39mif\u001b[39;00m mask\u001b[39m.\u001b[39many():\n\u001b[1;32m-> <a href='file:///c%3A/Users/17134/anaconda3/envs/datavenv/lib/site-packages/pandas/core/indexing.py?line=2375'>2376</a>\u001b[0m         \u001b[39mraise\u001b[39;00m IndexingError(\n\u001b[0;32m   <a href='file:///c%3A/Users/17134/anaconda3/envs/datavenv/lib/site-packages/pandas/core/indexing.py?line=2376'>2377</a>\u001b[0m             \u001b[39m\"\u001b[39m\u001b[39mUnalignable boolean Series provided as \u001b[39m\u001b[39m\"\u001b[39m\n\u001b[0;32m   <a href='file:///c%3A/Users/17134/anaconda3/envs/datavenv/lib/site-packages/pandas/core/indexing.py?line=2377'>2378</a>\u001b[0m             \u001b[39m\"\u001b[39m\u001b[39mindexer (index of the boolean Series and of \u001b[39m\u001b[39m\"\u001b[39m\n\u001b[0;32m   <a href='file:///c%3A/Users/17134/anaconda3/envs/datavenv/lib/site-packages/pandas/core/indexing.py?line=2378'>2379</a>\u001b[0m             \u001b[39m\"\u001b[39m\u001b[39mthe indexed object do not match).\u001b[39m\u001b[39m\"\u001b[39m\n\u001b[0;32m   <a href='file:///c%3A/Users/17134/anaconda3/envs/datavenv/lib/site-packages/pandas/core/indexing.py?line=2379'>2380</a>\u001b[0m         )\n\u001b[0;32m   <a href='file:///c%3A/Users/17134/anaconda3/envs/datavenv/lib/site-packages/pandas/core/indexing.py?line=2380'>2381</a>\u001b[0m     \u001b[39mreturn\u001b[39;00m result\u001b[39m.\u001b[39mastype(\u001b[39mbool\u001b[39m)\u001b[39m.\u001b[39m_values\n\u001b[0;32m   <a href='file:///c%3A/Users/17134/anaconda3/envs/datavenv/lib/site-packages/pandas/core/indexing.py?line=2381'>2382</a>\u001b[0m \u001b[39mif\u001b[39;00m is_object_dtype(key):\n\u001b[0;32m   <a href='file:///c%3A/Users/17134/anaconda3/envs/datavenv/lib/site-packages/pandas/core/indexing.py?line=2382'>2383</a>\u001b[0m     \u001b[39m# key might be object-dtype bool, check_array_indexer needs bool array\u001b[39;00m\n",
      "\u001b[1;31mIndexingError\u001b[0m: Unalignable boolean Series provided as indexer (index of the boolean Series and of the indexed object do not match)."
     ]
    }
   ],
   "source": [
    "#create a Texas df that filters by Age\n",
    "\n",
    "age_df = df[clean_df['Group'] == 'By Age']\n",
    "\n",
    "texas_age_df = age_df#[age_df.State == 'Texas']\n",
    "\n",
    "texas_age_df\n",
    "\n",
    "#This seems to be pulling in the original df, not the cleaned df. \n",
    "#I cant filter Texas only, State column only has United States as a value"
   ]
  },
  {
   "cell_type": "code",
   "execution_count": null,
   "metadata": {},
   "outputs": [
    {
     "ename": "SyntaxError",
     "evalue": "invalid syntax (1133060878.py, line 5)",
     "output_type": "error",
     "traceback": [
      "\u001b[1;36m  Input \u001b[1;32mIn [43]\u001b[1;36m\u001b[0m\n\u001b[1;33m    plt.scatter(x = , y = , s= 4, c= tx_indicator_colors)\u001b[0m\n\u001b[1;37m                    ^\u001b[0m\n\u001b[1;31mSyntaxError\u001b[0m\u001b[1;31m:\u001b[0m invalid syntax\n"
     ]
    }
   ],
   "source": [
    "#plot figure size\n",
    "plt.figure(figsize= (10, 10))\n",
    "\n",
    "#tell it which values to plot\n",
    "plt.scatter(x = , y = , s= 4, c= tx_indicator_colors)\n",
    "\n",
    "#axis labels\n",
    "plt.xlabel(\"\")\n",
    "plt.ylabel(\"\")\n",
    "\n",
    "#display plot\n",
    "plt.show()"
   ]
  },
  {
   "cell_type": "markdown",
   "metadata": {},
   "source": [
    "### Texas Statistics: Trends by Race"
   ]
  },
  {
   "cell_type": "code",
   "execution_count": null,
   "metadata": {},
   "outputs": [],
   "source": [
    "#in the Texas df, look at By Race"
   ]
  },
  {
   "cell_type": "code",
   "execution_count": null,
   "metadata": {},
   "outputs": [],
   "source": [
    "#example\n",
    "def function_name(parameters):\n",
    "    # do something\n",
    "    print(\"hello!\")\n",
    "    return None"
   ]
  },
  {
   "cell_type": "code",
   "execution_count": null,
   "metadata": {},
   "outputs": [],
   "source": [
    "def double(number):\n",
    "    output = number+number\n",
    "    return output"
   ]
  },
  {
   "cell_type": "code",
   "execution_count": null,
   "metadata": {},
   "outputs": [
    {
     "data": {
      "text/plain": [
       "10"
      ]
     },
     "execution_count": 47,
     "metadata": {},
     "output_type": "execute_result"
    }
   ],
   "source": [
    "double(5)"
   ]
  },
  {
   "cell_type": "code",
   "execution_count": null,
   "metadata": {},
   "outputs": [
    {
     "data": {
      "text/plain": [
       "30"
      ]
     },
     "execution_count": 48,
     "metadata": {},
     "output_type": "execute_result"
    }
   ],
   "source": [
    "double(15)"
   ]
  }
 ],
 "metadata": {
  "interpreter": {
   "hash": "e8fc03f882824b1251e0f8a8f351b5a865b44cf5525c4efc35dc3fb7668c656c"
  },
  "kernelspec": {
   "display_name": "Python 3.8.12 ('datavenv')",
   "language": "python",
   "name": "python3"
  },
  "language_info": {
   "codemirror_mode": {
    "name": "ipython",
    "version": 3
   },
   "file_extension": ".py",
   "mimetype": "text/x-python",
   "name": "python",
   "nbconvert_exporter": "python",
   "pygments_lexer": "ipython3",
   "version": "3.8.12"
  },
  "orig_nbformat": 4
 },
 "nbformat": 4,
 "nbformat_minor": 2
}
